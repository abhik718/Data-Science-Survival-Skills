{
 "cells": [
  {
   "cell_type": "code",
   "execution_count": 1,
   "id": "94b980a2",
   "metadata": {},
   "outputs": [],
   "source": [
    "import os\n",
    "import json\n",
    "import numpy as np\n",
    "\n",
    "import matplotlib.pyplot as plt"
   ]
  },
  {
   "cell_type": "markdown",
   "id": "394bd8d1",
   "metadata": {},
   "source": [
    "# BAGLS dataset"
   ]
  },
  {
   "cell_type": "code",
   "execution_count": 10,
   "id": "caf64db9",
   "metadata": {},
   "outputs": [],
   "source": [
    "path = \"Mini_BAGLS_dataset\"  # you can use the Mini_BAGLS_dataset that we have provided for the homework"
   ]
  },
  {
   "cell_type": "code",
   "execution_count": 11,
   "id": "e4cffe71",
   "metadata": {},
   "outputs": [
    {
     "name": "stdout",
     "output_type": "stream",
     "text": [
      "<class 'list'>\n",
      "['0.meta', '0.png', '0_seg.png', '1.meta', '1.png', '10.meta', '10.png', '10_seg.png', '11.meta', '11.png', '11_seg.png', '12.meta', '12.png', '12_seg.png', '13.meta', '13.png', '13_seg.png', '14.meta', '14.png', '14_seg.png', '15.meta', '15.png', '15_seg.png', '16.meta', '16.png', '16_seg.png', '17.meta', '17.png', '17_seg.png', '18.meta', '18.png', '18_seg.png', '19.meta', '19.png', '19_seg.png', '1_seg.png', '2.meta', '2.png', '20.meta', '20.png', '20_seg.png', '21.meta', '21.png', '21_seg.png', '22.meta', '22.png', '22_seg.png', '23.meta', '23.png', '23_seg.png', '24.meta', '24.png', '24_seg.png', '25.meta', '25.png', '25_seg.png', '26.meta', '26.png', '26_seg.png', '27.meta', '27.png', '27_seg.png', '28.meta', '28.png', '28_seg.png', '29.meta', '29.png', '29_seg.png', '2_seg.png', '3.meta', '3.png', '30.meta', '30.png', '30_seg.png', '31.meta', '31.png', '31_seg.png', '32.meta', '32.png', '32_seg.png', '33.meta', '33.png', '33_seg.png', '34.meta', '34.png', '34_seg.png', '35.meta', '35.png', '35_seg.png', '36.meta', '36.png', '36_seg.png', '37.meta', '37.png', '37_seg.png', '38.meta', '38.png', '38_seg.png', '39.meta', '39.png', '39_seg.png', '3_seg.png', '4.meta', '4.png', '40.meta', '40.png', '40_seg.png', '41.meta', '41.png', '41_seg.png', '42.meta', '42.png', '42_seg.png', '43.meta', '43.png', '43_seg.png', '44.meta', '44.png', '44_seg.png', '45.meta', '45.png', '45_seg.png', '46.meta', '46.png', '46_seg.png', '47.meta', '47.png', '47_seg.png', '48.meta', '48.png', '48_seg.png', '49.meta', '49.png', '49_seg.png', '4_seg.png', '5.meta', '5.png', '50.meta', '50.png', '50_seg.png', '51.meta', '51.png', '51_seg.png', '52.meta', '52.png', '52_seg.png', '53.meta', '53.png', '53_seg.png', '54.meta', '54.png', '54_seg.png', '55.meta', '55.png', '55_seg.png', '56.meta', '56.png', '56_seg.png', '57.meta', '57.png', '57_seg.png', '58.meta', '58.png', '58_seg.png', '59.meta', '59.png', '59_seg.png', '5_seg.png', '6.meta', '6.png', '60.meta', '60.png', '60_seg.png', '61.meta', '61.png', '61_seg.png', '62.meta', '62.png', '62_seg.png', '63.meta', '63.png', '63_seg.png', '64.meta', '64.png', '64_seg.png', '65.meta', '65.png', '65_seg.png', '66.meta', '66.png', '66_seg.png', '67.meta', '67.png', '67_seg.png', '68.meta', '68.png', '68_seg.png', '69.meta', '69.png', '69_seg.png', '6_seg.png', '7.meta', '7.png', '70.meta', '70.png', '70_seg.png', '71.meta', '71.png', '71_seg.png', '72.meta', '72.png', '72_seg.png', '73.meta', '73.png', '73_seg.png', '74.meta', '74.png', '74_seg.png', '75.meta', '75.png', '75_seg.png', '76.meta', '76.png', '76_seg.png', '77.meta', '77.png', '77_seg.png', '78.meta', '78.png', '78_seg.png', '79.meta', '79.png', '79_seg.png', '7_seg.png', '8.meta', '8.png', '80.meta', '80.png', '80_seg.png', '81.meta', '81.png', '81_seg.png', '82.meta', '82.png', '82_seg.png', '83.meta', '83.png', '83_seg.png', '84.meta', '84.png', '84_seg.png', '85.meta', '85.png', '85_seg.png', '86.meta', '86.png', '86_seg.png', '87.meta', '87.png', '87_seg.png', '88.meta', '88.png', '88_seg.png', '89.meta', '89.png', '89_seg.png', '8_seg.png', '9.meta', '9.png', '90.meta', '90.png', '90_seg.png', '91.meta', '91.png', '91_seg.png', '92.meta', '92.png', '92_seg.png', '93.meta', '93.png', '93_seg.png', '94.meta', '94.png', '94_seg.png', '95.meta', '95.png', '95_seg.png', '96.meta', '96.png', '96_seg.png', '97.meta', '97.png', '97_seg.png', '98.meta', '98.png', '98_seg.png', '99.meta', '99.png', '99_seg.png', '9_seg.png']\n"
     ]
    }
   ],
   "source": [
    "# get all filenames\n",
    "files = os.listdir(path)\n",
    "\n",
    "# what is os.listdir() returning?\n",
    "# type ==> list()\n",
    "print(type(files))\n",
    "\n",
    "print(files)"
   ]
  },
  {
   "cell_type": "code",
   "execution_count": 12,
   "id": "6373c4f7",
   "metadata": {},
   "outputs": [
    {
     "data": {
      "text/plain": [
       "WindowsPath('Mini_BAGLS_dataset')"
      ]
     },
     "execution_count": 12,
     "metadata": {},
     "output_type": "execute_result"
    }
   ],
   "source": [
    "# pathlib is a nice library to work with paths\n",
    "from pathlib import Path\n",
    "path_pathlib = Path(path)\n",
    "path_pathlib"
   ]
  },
  {
   "cell_type": "code",
   "execution_count": 24,
   "id": "dd3fc409",
   "metadata": {},
   "outputs": [
    {
     "ename": "IndentationError",
     "evalue": "expected an indented block (1910662867.py, line 2)",
     "output_type": "error",
     "traceback": [
      "\u001b[1;36m  Input \u001b[1;32mIn [24]\u001b[1;36m\u001b[0m\n\u001b[1;33m    for f in files:\u001b[0m\n\u001b[1;37m                   ^\u001b[0m\n\u001b[1;31mIndentationError\u001b[0m\u001b[1;31m:\u001b[0m expected an indented block\n"
     ]
    }
   ],
   "source": [
    "# iterate over a list\n",
    "for f in files:\n",
    "    print(f)"
   ]
  },
  {
   "cell_type": "code",
   "execution_count": 14,
   "id": "bbabd6f7",
   "metadata": {},
   "outputs": [
    {
     "data": {
      "text/plain": [
       "['0.meta',\n",
       " '1.meta',\n",
       " '10.meta',\n",
       " '11.meta',\n",
       " '12.meta',\n",
       " '13.meta',\n",
       " '14.meta',\n",
       " '15.meta',\n",
       " '16.meta',\n",
       " '17.meta',\n",
       " '18.meta',\n",
       " '19.meta',\n",
       " '2.meta',\n",
       " '20.meta',\n",
       " '21.meta',\n",
       " '22.meta',\n",
       " '23.meta',\n",
       " '24.meta',\n",
       " '25.meta',\n",
       " '26.meta',\n",
       " '27.meta',\n",
       " '28.meta',\n",
       " '29.meta',\n",
       " '3.meta',\n",
       " '30.meta',\n",
       " '31.meta',\n",
       " '32.meta',\n",
       " '33.meta',\n",
       " '34.meta',\n",
       " '35.meta',\n",
       " '36.meta',\n",
       " '37.meta',\n",
       " '38.meta',\n",
       " '39.meta',\n",
       " '4.meta',\n",
       " '40.meta',\n",
       " '41.meta',\n",
       " '42.meta',\n",
       " '43.meta',\n",
       " '44.meta',\n",
       " '45.meta',\n",
       " '46.meta',\n",
       " '47.meta',\n",
       " '48.meta',\n",
       " '49.meta',\n",
       " '5.meta',\n",
       " '50.meta',\n",
       " '51.meta',\n",
       " '52.meta',\n",
       " '53.meta',\n",
       " '54.meta',\n",
       " '55.meta',\n",
       " '56.meta',\n",
       " '57.meta',\n",
       " '58.meta',\n",
       " '59.meta',\n",
       " '6.meta',\n",
       " '60.meta',\n",
       " '61.meta',\n",
       " '62.meta',\n",
       " '63.meta',\n",
       " '64.meta',\n",
       " '65.meta',\n",
       " '66.meta',\n",
       " '67.meta',\n",
       " '68.meta',\n",
       " '69.meta',\n",
       " '7.meta',\n",
       " '70.meta',\n",
       " '71.meta',\n",
       " '72.meta',\n",
       " '73.meta',\n",
       " '74.meta',\n",
       " '75.meta',\n",
       " '76.meta',\n",
       " '77.meta',\n",
       " '78.meta',\n",
       " '79.meta',\n",
       " '8.meta',\n",
       " '80.meta',\n",
       " '81.meta',\n",
       " '82.meta',\n",
       " '83.meta',\n",
       " '84.meta',\n",
       " '85.meta',\n",
       " '86.meta',\n",
       " '87.meta',\n",
       " '88.meta',\n",
       " '89.meta',\n",
       " '9.meta',\n",
       " '90.meta',\n",
       " '91.meta',\n",
       " '92.meta',\n",
       " '93.meta',\n",
       " '94.meta',\n",
       " '95.meta',\n",
       " '96.meta',\n",
       " '97.meta',\n",
       " '98.meta',\n",
       " '99.meta']"
      ]
     },
     "execution_count": 14,
     "metadata": {},
     "output_type": "execute_result"
    }
   ],
   "source": [
    "# get all unique filenames (e.g. each filename with file extension '.meta')\n",
    "filenames = [f for f in files if '.meta' in f]\n",
    "filenames"
   ]
  },
  {
   "cell_type": "code",
   "execution_count": 15,
   "id": "4d15e0d1",
   "metadata": {},
   "outputs": [
    {
     "data": {
      "text/plain": [
       "['Mini_BAGLS_dataset\\\\0.meta',\n",
       " 'Mini_BAGLS_dataset\\\\1.meta',\n",
       " 'Mini_BAGLS_dataset\\\\10.meta',\n",
       " 'Mini_BAGLS_dataset\\\\11.meta',\n",
       " 'Mini_BAGLS_dataset\\\\12.meta',\n",
       " 'Mini_BAGLS_dataset\\\\13.meta',\n",
       " 'Mini_BAGLS_dataset\\\\14.meta',\n",
       " 'Mini_BAGLS_dataset\\\\15.meta',\n",
       " 'Mini_BAGLS_dataset\\\\16.meta',\n",
       " 'Mini_BAGLS_dataset\\\\17.meta',\n",
       " 'Mini_BAGLS_dataset\\\\18.meta',\n",
       " 'Mini_BAGLS_dataset\\\\19.meta',\n",
       " 'Mini_BAGLS_dataset\\\\2.meta',\n",
       " 'Mini_BAGLS_dataset\\\\20.meta',\n",
       " 'Mini_BAGLS_dataset\\\\21.meta',\n",
       " 'Mini_BAGLS_dataset\\\\22.meta',\n",
       " 'Mini_BAGLS_dataset\\\\23.meta',\n",
       " 'Mini_BAGLS_dataset\\\\24.meta',\n",
       " 'Mini_BAGLS_dataset\\\\25.meta',\n",
       " 'Mini_BAGLS_dataset\\\\26.meta',\n",
       " 'Mini_BAGLS_dataset\\\\27.meta',\n",
       " 'Mini_BAGLS_dataset\\\\28.meta',\n",
       " 'Mini_BAGLS_dataset\\\\29.meta',\n",
       " 'Mini_BAGLS_dataset\\\\3.meta',\n",
       " 'Mini_BAGLS_dataset\\\\30.meta',\n",
       " 'Mini_BAGLS_dataset\\\\31.meta',\n",
       " 'Mini_BAGLS_dataset\\\\32.meta',\n",
       " 'Mini_BAGLS_dataset\\\\33.meta',\n",
       " 'Mini_BAGLS_dataset\\\\34.meta',\n",
       " 'Mini_BAGLS_dataset\\\\35.meta',\n",
       " 'Mini_BAGLS_dataset\\\\36.meta',\n",
       " 'Mini_BAGLS_dataset\\\\37.meta',\n",
       " 'Mini_BAGLS_dataset\\\\38.meta',\n",
       " 'Mini_BAGLS_dataset\\\\39.meta',\n",
       " 'Mini_BAGLS_dataset\\\\4.meta',\n",
       " 'Mini_BAGLS_dataset\\\\40.meta',\n",
       " 'Mini_BAGLS_dataset\\\\41.meta',\n",
       " 'Mini_BAGLS_dataset\\\\42.meta',\n",
       " 'Mini_BAGLS_dataset\\\\43.meta',\n",
       " 'Mini_BAGLS_dataset\\\\44.meta',\n",
       " 'Mini_BAGLS_dataset\\\\45.meta',\n",
       " 'Mini_BAGLS_dataset\\\\46.meta',\n",
       " 'Mini_BAGLS_dataset\\\\47.meta',\n",
       " 'Mini_BAGLS_dataset\\\\48.meta',\n",
       " 'Mini_BAGLS_dataset\\\\49.meta',\n",
       " 'Mini_BAGLS_dataset\\\\5.meta',\n",
       " 'Mini_BAGLS_dataset\\\\50.meta',\n",
       " 'Mini_BAGLS_dataset\\\\51.meta',\n",
       " 'Mini_BAGLS_dataset\\\\52.meta',\n",
       " 'Mini_BAGLS_dataset\\\\53.meta',\n",
       " 'Mini_BAGLS_dataset\\\\54.meta',\n",
       " 'Mini_BAGLS_dataset\\\\55.meta',\n",
       " 'Mini_BAGLS_dataset\\\\56.meta',\n",
       " 'Mini_BAGLS_dataset\\\\57.meta',\n",
       " 'Mini_BAGLS_dataset\\\\58.meta',\n",
       " 'Mini_BAGLS_dataset\\\\59.meta',\n",
       " 'Mini_BAGLS_dataset\\\\6.meta',\n",
       " 'Mini_BAGLS_dataset\\\\60.meta',\n",
       " 'Mini_BAGLS_dataset\\\\61.meta',\n",
       " 'Mini_BAGLS_dataset\\\\62.meta',\n",
       " 'Mini_BAGLS_dataset\\\\63.meta',\n",
       " 'Mini_BAGLS_dataset\\\\64.meta',\n",
       " 'Mini_BAGLS_dataset\\\\65.meta',\n",
       " 'Mini_BAGLS_dataset\\\\66.meta',\n",
       " 'Mini_BAGLS_dataset\\\\67.meta',\n",
       " 'Mini_BAGLS_dataset\\\\68.meta',\n",
       " 'Mini_BAGLS_dataset\\\\69.meta',\n",
       " 'Mini_BAGLS_dataset\\\\7.meta',\n",
       " 'Mini_BAGLS_dataset\\\\70.meta',\n",
       " 'Mini_BAGLS_dataset\\\\71.meta',\n",
       " 'Mini_BAGLS_dataset\\\\72.meta',\n",
       " 'Mini_BAGLS_dataset\\\\73.meta',\n",
       " 'Mini_BAGLS_dataset\\\\74.meta',\n",
       " 'Mini_BAGLS_dataset\\\\75.meta',\n",
       " 'Mini_BAGLS_dataset\\\\76.meta',\n",
       " 'Mini_BAGLS_dataset\\\\77.meta',\n",
       " 'Mini_BAGLS_dataset\\\\78.meta',\n",
       " 'Mini_BAGLS_dataset\\\\79.meta',\n",
       " 'Mini_BAGLS_dataset\\\\8.meta',\n",
       " 'Mini_BAGLS_dataset\\\\80.meta',\n",
       " 'Mini_BAGLS_dataset\\\\81.meta',\n",
       " 'Mini_BAGLS_dataset\\\\82.meta',\n",
       " 'Mini_BAGLS_dataset\\\\83.meta',\n",
       " 'Mini_BAGLS_dataset\\\\84.meta',\n",
       " 'Mini_BAGLS_dataset\\\\85.meta',\n",
       " 'Mini_BAGLS_dataset\\\\86.meta',\n",
       " 'Mini_BAGLS_dataset\\\\87.meta',\n",
       " 'Mini_BAGLS_dataset\\\\88.meta',\n",
       " 'Mini_BAGLS_dataset\\\\89.meta',\n",
       " 'Mini_BAGLS_dataset\\\\9.meta',\n",
       " 'Mini_BAGLS_dataset\\\\90.meta',\n",
       " 'Mini_BAGLS_dataset\\\\91.meta',\n",
       " 'Mini_BAGLS_dataset\\\\92.meta',\n",
       " 'Mini_BAGLS_dataset\\\\93.meta',\n",
       " 'Mini_BAGLS_dataset\\\\94.meta',\n",
       " 'Mini_BAGLS_dataset\\\\95.meta',\n",
       " 'Mini_BAGLS_dataset\\\\96.meta',\n",
       " 'Mini_BAGLS_dataset\\\\97.meta',\n",
       " 'Mini_BAGLS_dataset\\\\98.meta',\n",
       " 'Mini_BAGLS_dataset\\\\99.meta']"
      ]
     },
     "execution_count": 15,
     "metadata": {},
     "output_type": "execute_result"
    }
   ],
   "source": [
    "# another way to combine os.listdir() and the for loop in one line --> use glob\n",
    "import glob\n",
    "glob_filenames = glob.glob(path + \"/*.meta\")\n",
    "glob_filenames"
   ]
  },
  {
   "cell_type": "code",
   "execution_count": 16,
   "id": "59bb55b0",
   "metadata": {},
   "outputs": [
    {
     "name": "stdout",
     "output_type": "stream",
     "text": [
      "12\n",
      "1009\n"
     ]
    }
   ],
   "source": [
    "# get filename (separate the number from the file extension)\n",
    "print(filenames[4].split(\".\")[0])\n",
    "\n",
    "path_pathlib = path_pathlib / \"1009.meta\"\n",
    "print(path_pathlib.stem)"
   ]
  },
  {
   "cell_type": "code",
   "execution_count": 17,
   "id": "084eb4eb",
   "metadata": {},
   "outputs": [
    {
     "name": "stdout",
     "output_type": "stream",
     "text": [
      "0 0.meta\n"
     ]
    }
   ],
   "source": [
    "# iterate over the filenames (with index)\n",
    "for idx, f in enumerate(filenames):\n",
    "    print(idx, f)\n",
    "    break\n",
    "    \n",
    "# out: Index: X, Filename: YYYY"
   ]
  },
  {
   "cell_type": "code",
   "execution_count": 23,
   "id": "3a898e7c",
   "metadata": {
    "scrolled": true
   },
   "outputs": [
    {
     "ename": "ModuleNotFoundError",
     "evalue": "No module named 'imageio.v3'",
     "output_type": "error",
     "traceback": [
      "\u001b[1;31m---------------------------------------------------------------------------\u001b[0m",
      "\u001b[1;31mModuleNotFoundError\u001b[0m                       Traceback (most recent call last)",
      "Input \u001b[1;32mIn [23]\u001b[0m, in \u001b[0;36m<cell line: 1>\u001b[1;34m()\u001b[0m\n\u001b[1;32m----> 1\u001b[0m \u001b[38;5;28;01mimport\u001b[39;00m \u001b[38;5;21;01mimageio\u001b[39;00m\u001b[38;5;21;01m.\u001b[39;00m\u001b[38;5;21;01mv3\u001b[39;00m \u001b[38;5;28;01mas\u001b[39;00m \u001b[38;5;21;01mio\u001b[39;00m\n\u001b[0;32m      2\u001b[0m \u001b[38;5;28;01mfrom\u001b[39;00m \u001b[38;5;21;01mPIL\u001b[39;00m \u001b[38;5;28;01mimport\u001b[39;00m Image\n\u001b[0;32m      3\u001b[0m \u001b[38;5;28;01mimport\u001b[39;00m \u001b[38;5;21;01mskimage\u001b[39;00m\n",
      "\u001b[1;31mModuleNotFoundError\u001b[0m: No module named 'imageio.v3'"
     ]
    }
   ],
   "source": [
    "import imageio.v3 as io\n",
    "from PIL import Image\n",
    "import skimage\n",
    "import cv2\n",
    "\n",
    "## load image with different libraries\n",
    "img_path = 'Mini_BAGLS_dataset/752.png'\n",
    "img = io.imread(img_path)\n",
    "img = Image.open(img_path)\n",
    "img = skimage.io.imread(img_path)\n",
    "img = cv2.imread(img_path); img = cv2.cvtColor(img, cv2.COLOR_BGR2RGB)\n",
    "\n",
    "# load image as grayscale\n",
    "img = skimage.io.imread(img_path, as_gray=True)\n",
    "plt.imshow(img, cmap='gray')"
   ]
  },
  {
   "cell_type": "code",
   "execution_count": null,
   "id": "e96d628e",
   "metadata": {},
   "outputs": [],
   "source": [
    "# which image loading function to use?\n",
    "import time\n",
    "def test_read_image(imgfile, func):\n",
    "    t0 = time.time()\n",
    "    img = func(imgfile)\n",
    "    t = time.time() - t0\n",
    "    return t\n",
    "\n",
    "functions = [io.imread, Image.open, skimage.io.imread, cv2.imread]\n",
    "\n",
    "times = []\n",
    "for func in functions:\n",
    "    ts = []\n",
    "    # load each image\n",
    "    for f in filenames:\n",
    "        name = f.split(\".\")[0]\n",
    "        t = test_read_image(os.path.join(path, name + \".png\"), func)\n",
    "        ts.append(t)\n",
    "    times.append(ts)"
   ]
  },
  {
   "cell_type": "code",
   "execution_count": null,
   "id": "27ce375c",
   "metadata": {},
   "outputs": [],
   "source": [
    "# Note: we are calculating the mean time for each image loading method here\n",
    "for t, func in zip(times, functions):\n",
    "    print(str(func))\n",
    "    print(\"{:.6f} seconds\".format(np.mean(t)))\n",
    "    print(\"_____\")"
   ]
  },
  {
   "cell_type": "code",
   "execution_count": null,
   "id": "2ca87821",
   "metadata": {
    "scrolled": true
   },
   "outputs": [],
   "source": [
    "for idx, f in enumerate(glob_filenames):\n",
    "    # make sure to only look at the first 5 samples and not all 2000 of them\n",
    "    if idx == 5:\n",
    "        break\n",
    "    \n",
    "    # get basename\n",
    "    basename = os.path.basename(f)\n",
    "        \n",
    "    # split name\n",
    "    name = basename.split(\".\")[0]\n",
    "    \n",
    "    # load image and segmentation mask\n",
    "    img_path = os.path.join(path, name + \".png\")\n",
    "    seg_path = os.path.join(path, name + \"_seg.png\")\n",
    "    img = io.imread(img_path)\n",
    "    seg = io.imread(seg_path)\n",
    "\n",
    "    # visualize image and segmentation mask\n",
    "    fig, (ax1, ax2) = plt.subplots(1, 2, figsize=(5, 5))\n",
    "    ax1.axis(\"off\"); ax2.axis(\"off\")\n",
    "\n",
    "    # show both\n",
    "    ax1.imshow(img);ax2.imshow(seg)    \n",
    "    plt.show()"
   ]
  },
  {
   "cell_type": "code",
   "execution_count": 25,
   "id": "13500c1b",
   "metadata": {},
   "outputs": [
    {
     "ename": "NameError",
     "evalue": "name 'img' is not defined",
     "output_type": "error",
     "traceback": [
      "\u001b[1;31m---------------------------------------------------------------------------\u001b[0m",
      "\u001b[1;31mNameError\u001b[0m                                 Traceback (most recent call last)",
      "Input \u001b[1;32mIn [25]\u001b[0m, in \u001b[0;36m<cell line: 1>\u001b[1;34m()\u001b[0m\n\u001b[1;32m----> 1\u001b[0m ref_image \u001b[38;5;241m=\u001b[39m \u001b[43mimg\u001b[49m\n\u001b[0;32m      2\u001b[0m plt\u001b[38;5;241m.\u001b[39mimshow(ref_image)\n",
      "\u001b[1;31mNameError\u001b[0m: name 'img' is not defined"
     ]
    }
   ],
   "source": [
    "ref_image = img\n",
    "plt.imshow(ref_image)"
   ]
  },
  {
   "cell_type": "code",
   "execution_count": null,
   "id": "84d8563c",
   "metadata": {},
   "outputs": [],
   "source": [
    "# saving with different formats\n",
    "\n",
    "# tif\n",
    "io.imwrite(\"saved_image.tif\", ref_image)\n",
    "\n",
    "# png\n",
    "io.imwrite(\"saved_image.png\", ref_image)\n",
    "\n",
    "# jpg\n",
    "io.imwrite(\"saved_image90.jpg\", ref_image, quality=90) # quality specifies how much the saved JPEG image should be compressed\n",
    "io.imwrite(\"saved_image10.jpg\", ref_image, quality=10)"
   ]
  },
  {
   "cell_type": "code",
   "execution_count": null,
   "id": "573eeeac",
   "metadata": {},
   "outputs": [],
   "source": [
    "# check out memory footprints\n",
    "img_tif_size = os.path.getsize(\"saved_image.tif\")\n",
    "img_png_size = os.path.getsize(\"saved_image.png\")\n",
    "img_jpg90_size = os.path.getsize(\"saved_image90.jpg\")\n",
    "img_jpg10_size = os.path.getsize(\"saved_image10.jpg\")\n",
    "\n",
    "plt.bar([0, 1, 2, 3], [img_tif_size, img_png_size, img_jpg90_size, img_jpg10_size])\n",
    "plt.xticks([0, 1, 2, 3], [\".tif\", \".png\", \".jpg (90)\", \".jpg (10)\"])\n",
    "plt.ylabel(\"File size [bytes]\")"
   ]
  },
  {
   "cell_type": "markdown",
   "id": "b8fabdee",
   "metadata": {},
   "source": [
    "### Check out exercise slide here --> JPEG compression"
   ]
  },
  {
   "cell_type": "code",
   "execution_count": 22,
   "id": "77b07ac9",
   "metadata": {},
   "outputs": [
    {
     "ename": "NameError",
     "evalue": "name 'io' is not defined",
     "output_type": "error",
     "traceback": [
      "\u001b[1;31m---------------------------------------------------------------------------\u001b[0m",
      "\u001b[1;31mNameError\u001b[0m                                 Traceback (most recent call last)",
      "Input \u001b[1;32mIn [22]\u001b[0m, in \u001b[0;36m<cell line: 2>\u001b[1;34m()\u001b[0m\n\u001b[0;32m      1\u001b[0m \u001b[38;5;66;03m# load images\u001b[39;00m\n\u001b[1;32m----> 2\u001b[0m img_tif \u001b[38;5;241m=\u001b[39m \u001b[43mio\u001b[49m\u001b[38;5;241m.\u001b[39mimread(\u001b[38;5;124m\"\u001b[39m\u001b[38;5;124msaved_image.tif\u001b[39m\u001b[38;5;124m\"\u001b[39m)\n\u001b[0;32m      3\u001b[0m img_png \u001b[38;5;241m=\u001b[39m io\u001b[38;5;241m.\u001b[39mimread(\u001b[38;5;124m\"\u001b[39m\u001b[38;5;124msaved_image.png\u001b[39m\u001b[38;5;124m\"\u001b[39m)\n\u001b[0;32m      4\u001b[0m img_jpg90 \u001b[38;5;241m=\u001b[39m io\u001b[38;5;241m.\u001b[39mimread(\u001b[38;5;124m\"\u001b[39m\u001b[38;5;124msaved_image90.jpg\u001b[39m\u001b[38;5;124m\"\u001b[39m)\n",
      "\u001b[1;31mNameError\u001b[0m: name 'io' is not defined"
     ]
    }
   ],
   "source": [
    "# load images\n",
    "img_tif = io.imread(\"saved_image.tif\")\n",
    "img_png = io.imread(\"saved_image.png\")\n",
    "img_jpg90 = io.imread(\"saved_image90.jpg\")\n",
    "img_jpg10 = io.imread(\"saved_image90.jpg\")"
   ]
  },
  {
   "cell_type": "code",
   "execution_count": null,
   "id": "12675b5f",
   "metadata": {},
   "outputs": [],
   "source": [
    "# compare them to each other\n",
    "np.allclose(ref_image, img_tif)\n",
    "np.allclose(ref_image, img_png)\n",
    "np.allclose(ref_image, img_jpg90)\n",
    "#np.allclose(ref_image, img_jpg10)"
   ]
  },
  {
   "attachments": {
    "image-2.png": {
     "image/png": "[encoded data removed]"
    },
    "image-3.png": {
     "image/png": "[encoded data removed]"
    }
   },
   "cell_type": "markdown",
   "id": "22c98c7e",
   "metadata": {},
   "source": [
    "### Calculate [PSNR](https://www.ni.com/de-de/innovations/white-papers/11/peak-signal-to-noise-ratio-as-an-image-quality-metric.html) between images\n",
    "\n",
    "![image-2.png](attachment:image-2.png)\n",
    "\n",
    "![image-3.png](attachment:image-3.png)"
   ]
  },
  {
   "cell_type": "code",
   "execution_count": null,
   "id": "91842aee",
   "metadata": {},
   "outputs": [],
   "source": [
    "def psnr(img1, img2):\n",
    "    #mean squared error:\n",
    "    mse = np.mean((img1 - img2) ** 2)\n",
    "    if mse == 0:\n",
    "        return \"MSE is zero\"\n",
    "    PIXEL_MAX = 255.0\n",
    "    return 20 * np.log10(PIXEL_MAX / np.sqrt(mse))"
   ]
  },
  {
   "cell_type": "code",
   "execution_count": null,
   "id": "edadb763",
   "metadata": {},
   "outputs": [],
   "source": [
    "print(psnr(ref_image, img_tif))\n",
    "print(psnr(ref_image, img_png))\n",
    "print(psnr(ref_image, img_jpg))\n",
    "\n",
    "print(psnr(ref_image, np.random.randint(0, 255, ref_image.shape)))"
   ]
  },
  {
   "cell_type": "code",
   "execution_count": null,
   "id": "3b2a111f",
   "metadata": {},
   "outputs": [],
   "source": [
    "import pandas as pd\n",
    "\n",
    "# get all meta data information \n",
    "all_meta_data = []\n",
    "\n",
    "for f in glob_filenames:\n",
    "    # open .meta file\n",
    "    meta_file = open(f)\n",
    "    meta_data = json.load(meta_file)\n",
    "    all_meta_data.append(meta_data)\n",
    "    \n",
    "df = pd.DataFrame(all_meta_data)\n",
    "df"
   ]
  },
  {
   "cell_type": "code",
   "execution_count": null,
   "id": "b663ab53",
   "metadata": {},
   "outputs": [],
   "source": [
    "df.to_csv(\"metadata.csv\")"
   ]
  },
  {
   "cell_type": "markdown",
   "id": "afa390c1",
   "metadata": {},
   "source": [
    "## Load Glottis video from BAGLS"
   ]
  },
  {
   "cell_type": "code",
   "execution_count": null,
   "id": "69937030",
   "metadata": {},
   "outputs": [],
   "source": [
    "vid_path = path + \"/glottis_video.mp4\"  # you can use any arbitrary .mp4 video here or download a glottis video from here: https://www.bagls.org/"
   ]
  },
  {
   "cell_type": "code",
   "execution_count": null,
   "id": "1d5cff41",
   "metadata": {},
   "outputs": [],
   "source": [
    "from IPython.display import Video\n",
    "Video(vid_path)"
   ]
  },
  {
   "cell_type": "code",
   "execution_count": null,
   "id": "0ebb79b1",
   "metadata": {},
   "outputs": [],
   "source": [
    "# load video using scikit-video\n",
    "\n",
    "import skvideo.io  \n",
    "glottis_video = skvideo.io.vread(path + \"/glottis_video.mp4\")  \n",
    "glottis_video.shape"
   ]
  },
  {
   "cell_type": "code",
   "execution_count": null,
   "id": "89dd4979",
   "metadata": {},
   "outputs": [],
   "source": [
    "# load video using imageio\n",
    "\n",
    "import imageio\n",
    "glottis_video = imageio.mimread(path + \"/glottis_video.mp4\")\n",
    "np.asarray(glottis_video).shape"
   ]
  },
  {
   "cell_type": "code",
   "execution_count": null,
   "id": "f6f33d32",
   "metadata": {},
   "outputs": [],
   "source": [
    "import ipywidgets as widgets\n",
    "\n",
    "alpha_slider = widgets.FloatSlider(\n",
    "    value=1.,\n",
    "    min=0,\n",
    "    max=1.0,\n",
    "    step=0.01,\n",
    "    description='Alpha',\n",
    ")\n",
    "\n",
    "@widgets.interact(n=(0, len(glottis_video)-1))\n",
    "def f(n=5, alpha=alpha_slider):\n",
    "    plt.imshow(glottis_video[n], alpha=alpha)"
   ]
  },
  {
   "cell_type": "code",
   "execution_count": null,
   "id": "b28ff830",
   "metadata": {},
   "outputs": [],
   "source": [
    "# load video frame by frame by creating an iterable reader object\n",
    "\n",
    "vid_reader = imageio.get_reader(path + \"/glottis_video.mp4\",  'ffmpeg')\n",
    "\n",
    "for frame in vid_reader.iter_data():\n",
    "    plt.imshow(frame)\n",
    "    break"
   ]
  },
  {
   "cell_type": "code",
   "execution_count": null,
   "id": "f89ab1b8",
   "metadata": {},
   "outputs": [],
   "source": [
    "# JSON files\n",
    "metadata = vid_reader.get_meta_data()\n",
    "metadata"
   ]
  },
  {
   "cell_type": "code",
   "execution_count": null,
   "id": "722360b2",
   "metadata": {},
   "outputs": [],
   "source": [
    "import json\n",
    "\n",
    "with open('video_metadata_example.json', 'w') as f:\n",
    "    json.dump(metadata, f, indent=2)"
   ]
  },
  {
   "cell_type": "code",
   "execution_count": null,
   "id": "13a20b77",
   "metadata": {},
   "outputs": [],
   "source": [
    "with open('video_metadata_example.json', 'r') as f:\n",
    "    data = json.load(f)\n",
    "data"
   ]
  },
  {
   "cell_type": "code",
   "execution_count": null,
   "id": "2b0f700b",
   "metadata": {},
   "outputs": [],
   "source": [
    "# save videos lossless\n",
    "\n",
    "imageio.mimwrite(\"saved_video.mp4\", \n",
    "                 glottis_video,   # video \n",
    "                 fps=10,          # frames per second\n",
    "                 codec='libx264rgb',   # use the right codec\n",
    "                 pixelformat='rgb24',   # and pixel format\n",
    "                 output_params=['-crf', '0',      # Ensure setting crf to 0\n",
    "                                '-preset', 'veryslow']) # Maximum compression: veryslow, \n",
    "                                                         # maximum speed: ultrafast\n",
    "    \n",
    "# check out file size depending on 'veryslow' or 'ultrafast'\n",
    "os.path.getsize(\"saved_video.mp4\")"
   ]
  },
  {
   "cell_type": "code",
   "execution_count": null,
   "id": "53b00d94",
   "metadata": {},
   "outputs": [],
   "source": [
    "# save videos lossless\n",
    "\n",
    "imageio.mimwrite(\"saved_video.mp4\", \n",
    "                 glottis_video,   # video \n",
    "                 fps=10,          # frames per second\n",
    "                 codec='libx264rgb',   # use the right codec\n",
    "                 pixelformat='rgb24',   # and pixel format\n",
    "                 output_params=['-crf', '0',      # Ensure setting crf to 0\n",
    "                                '-preset', 'ultrafast']) # Maximum compression: veryslow, \n",
    "                                                         # maximum speed: ultrafast\n",
    "    \n",
    "# check out file size depending on 'veryslow' or 'ultrafast'\n",
    "os.path.getsize(\"saved_video.mp4\")"
   ]
  },
  {
   "cell_type": "code",
   "execution_count": null,
   "id": "b41cfceb",
   "metadata": {},
   "outputs": [],
   "source": [
    "# compare original loaded videeo and the saved video\n",
    "\n",
    "saved_vid = imageio.mimread(\"saved_video.mp4\")\n",
    "np.allclose(glottis_video, saved_vid)"
   ]
  },
  {
   "cell_type": "code",
   "execution_count": null,
   "id": "cd362d26",
   "metadata": {},
   "outputs": [],
   "source": [
    "# Flammkuchen\n",
    "import flammkuchen as fl\n",
    "\n",
    "d = {\n",
    "    'tabular': pd.DataFrame(np.random.random((20,40))), # random tabular data\n",
    "     'videos': np.random.randint(0, 256, (30, 256, 256, 3)).astype(np.uint8), # random video\n",
    "     'json': dict(name='John Doe', age=32, gender=\"d\") # random meta data\n",
    "}\n",
    "\n",
    "fl.save(\"my_hdf5_file.h5\", d)"
   ]
  },
  {
   "cell_type": "code",
   "execution_count": null,
   "id": "4089c8ec",
   "metadata": {},
   "outputs": [],
   "source": [
    "fl.meta(\"my_hdf5_file.h5\")"
   ]
  },
  {
   "cell_type": "code",
   "execution_count": null,
   "id": "1c98b628",
   "metadata": {},
   "outputs": [],
   "source": [
    "random_video = fl.load(\"my_hdf5_file.h5\", \"/videos\")\n",
    "random_video.shape"
   ]
  },
  {
   "cell_type": "code",
   "execution_count": null,
   "id": "27a0c423",
   "metadata": {},
   "outputs": [],
   "source": [
    "# And only a portion of the video, e.g. only the red channel of the first 5 frames\n",
    "r_first_5_frames = fl.load(\"my_hdf5_file.h5\", \"/videos\", sel=fl.aslice[:5, ..., 0])\n",
    "r_first_5_frames.shape"
   ]
  },
  {
   "cell_type": "code",
   "execution_count": null,
   "id": "5820da64",
   "metadata": {},
   "outputs": [],
   "source": []
  }
 ],
 "metadata": {
  "kernelspec": {
   "display_name": "Python 3 (ipykernel)",
   "language": "python",
   "name": "python3"
  },
  "language_info": {
   "codemirror_mode": {
    "name": "ipython",
    "version": 3
   },
   "file_extension": ".py",
   "mimetype": "text/x-python",
   "name": "python",
   "nbconvert_exporter": "python",
   "pygments_lexer": "ipython3",
   "version": "3.9.12"
  }
 },
 "nbformat": 4,
 "nbformat_minor": 5
}
