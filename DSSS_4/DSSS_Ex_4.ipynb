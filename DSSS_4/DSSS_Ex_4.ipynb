{
 "cells": [
  {
   "cell_type": "markdown",
   "id": "69619bd8",
   "metadata": {},
   "source": [
    "**Setup** <br>\n",
    "Uncomment and run the lines below if you have not installed these packages yet:"
   ]
  },
  {
   "cell_type": "code",
   "execution_count": null,
   "id": "fa6e8bc4",
   "metadata": {},
   "outputs": [],
   "source": [
    "#!pip install pandas\n",
    "#!pip install matplotlib\n",
    "#!pip install seaborn\n",
    "#!pip install -U pandas-profiling"
   ]
  },
  {
   "cell_type": "code",
   "execution_count": null,
   "id": "594a88a6",
   "metadata": {},
   "outputs": [],
   "source": [
    "import pandas as pd\n",
    "import matplotlib.pyplot as plt\n",
    "import seaborn as sns \n",
    "\n",
    "from pandas_profiling import ProfileReport"
   ]
  },
  {
   "cell_type": "markdown",
   "id": "1c6c1573",
   "metadata": {},
   "source": [
    "# Exercise 3: Data exploration"
   ]
  },
  {
   "cell_type": "code",
   "execution_count": null,
   "id": "6307d933",
   "metadata": {},
   "outputs": [],
   "source": [
    "# Download: https://www.kaggle.com/datasets/uciml/pima-indians-diabetes-database\n",
    "\n",
    "# Load DataFrame\n",
    "diabetes = pd.read_csv('diabetes.csv')\n",
    "diabetes.head()"
   ]
  },
  {
   "cell_type": "code",
   "execution_count": null,
   "id": "7684dc38",
   "metadata": {},
   "outputs": [],
   "source": [
    "# Create report\n",
    "profile = ProfileReport(diabetes, title=\"Pandas Profiling Report\")\n",
    "profile.to_notebook_iframe()"
   ]
  },
  {
   "cell_type": "markdown",
   "id": "efd8a808",
   "metadata": {},
   "source": [
    "<br>\n",
    "<br>\n",
    "\n",
    "# Exercise 4: Visualization"
   ]
  },
  {
   "cell_type": "markdown",
   "id": "14899767",
   "metadata": {},
   "source": [
    "## 1) Heatmap\n",
    "**Diverging colormaps**: RdBu, BrBG, PuOr, coolwarm, ..."
   ]
  },
  {
   "cell_type": "code",
   "execution_count": null,
   "id": "155bc243",
   "metadata": {},
   "outputs": [],
   "source": [
    "# Compute correlation matrix (Pearson correlation)\n",
    "correlation_matrix = diabetes.corr()\n",
    "correlation_matrix"
   ]
  },
  {
   "cell_type": "code",
   "execution_count": null,
   "id": "7bc0532d",
   "metadata": {},
   "outputs": [],
   "source": [
    "# Plot heatmap\n"
   ]
  },
  {
   "cell_type": "code",
   "execution_count": null,
   "id": "37e0367f",
   "metadata": {},
   "outputs": [],
   "source": [
    "# load DataFrame\n",
    "flights = sns.load_dataset('flights')\n",
    "flights.head()"
   ]
  },
  {
   "cell_type": "markdown",
   "id": "467a4fda",
   "metadata": {},
   "source": [
    "**Visualize #passengers per month and year**"
   ]
  },
  {
   "cell_type": "code",
   "execution_count": null,
   "id": "0b831148",
   "metadata": {},
   "outputs": [],
   "source": [
    "# \"Pivot\" the DataFrame such that we get #passengers for each month & year\n",
    "flights_2D = flights.pivot(index='month', columns='year', values='passengers')\n",
    "flights_2D"
   ]
  },
  {
   "cell_type": "code",
   "execution_count": null,
   "id": "7f90b70c",
   "metadata": {},
   "outputs": [],
   "source": [
    "# Plot a heatmap\n"
   ]
  },
  {
   "cell_type": "code",
   "execution_count": null,
   "id": "d31bdb7b",
   "metadata": {},
   "outputs": [],
   "source": [
    "# Plot heatmap with a suitable colormap\n",
    "\n",
    "\n",
    "# Rotate labels\n",
    "\n",
    "\n",
    "\n",
    "plt.show()"
   ]
  },
  {
   "cell_type": "markdown",
   "id": "41e13b55",
   "metadata": {},
   "source": [
    "**More colormaps:**\n",
    "* _Sequential colormaps:_ Blues, Greens, Greys, ...\n",
    "* _Perceptually uniform sequential colormaps:_ viridis, cividis, magma, plasma, inferno\n",
    "\n",
    "Further information: https://matplotlib.org/stable/tutorials/colors/colormaps.html"
   ]
  },
  {
   "cell_type": "markdown",
   "id": "881e604f",
   "metadata": {},
   "source": [
    "<br>\n",
    "\n",
    "## 2) Lineplot"
   ]
  },
  {
   "cell_type": "markdown",
   "id": "d7ff49af",
   "metadata": {},
   "source": [
    "**Trend of #passengers over the years?**"
   ]
  },
  {
   "cell_type": "code",
   "execution_count": null,
   "id": "5f3054c0",
   "metadata": {},
   "outputs": [],
   "source": [
    "months = flights['month'].unique()\n",
    "months"
   ]
  },
  {
   "cell_type": "code",
   "execution_count": null,
   "id": "a9213a82",
   "metadata": {},
   "outputs": [],
   "source": [
    "for month in months:\n",
    "    flights_current_month = flights[flights['month'] == month]\n",
    "    \n",
    "    # Line plot for current month (x=year, y=passengers)\n",
    "\n",
    "    \n",
    "plt.legend()"
   ]
  },
  {
   "cell_type": "markdown",
   "id": "35e3a2e6",
   "metadata": {},
   "source": [
    "**Trend of average #passengers over the years?**"
   ]
  },
  {
   "cell_type": "code",
   "execution_count": null,
   "id": "dccedfa8",
   "metadata": {},
   "outputs": [],
   "source": [
    "# Compute mean passengers per year\n",
    "mean_passengers = flights.groupby('year')['passengers'].mean()\n",
    "mean_passengers"
   ]
  },
  {
   "cell_type": "code",
   "execution_count": null,
   "id": "cb3ed3c2",
   "metadata": {},
   "outputs": [],
   "source": [
    "# Compute standard deviation of passengers per year\n",
    "std_passengers = flights.groupby('year')['passengers'].std()\n",
    "std_passengers"
   ]
  },
  {
   "cell_type": "code",
   "execution_count": null,
   "id": "5cf35429",
   "metadata": {},
   "outputs": [],
   "source": [
    "# Line plot with errorbars (mean +/- standard deviation)\n"
   ]
  },
  {
   "cell_type": "code",
   "execution_count": null,
   "id": "fab54576",
   "metadata": {},
   "outputs": [],
   "source": [
    "# Line plot with error bands (mean +/- standard deviation)\n",
    "\n",
    "\n",
    "plt.xlabel('year')\n",
    "plt.ylabel('passengers')"
   ]
  },
  {
   "cell_type": "markdown",
   "id": "f1085a0b",
   "metadata": {},
   "source": [
    "**Using seaborn:**"
   ]
  },
  {
   "cell_type": "code",
   "execution_count": null,
   "id": "7151c3b8",
   "metadata": {},
   "outputs": [],
   "source": [
    "# plot line for each month separately, or with error bars/bands\n"
   ]
  },
  {
   "cell_type": "markdown",
   "id": "25dd5796",
   "metadata": {},
   "source": [
    "<br>\n",
    "\n",
    "## 3) Histogram & boxplot (age distribution)"
   ]
  },
  {
   "cell_type": "code",
   "execution_count": null,
   "id": "e2aea528",
   "metadata": {},
   "outputs": [],
   "source": [
    "# Download: https://www.kaggle.com/datasets/parulpandey/2020-it-salary-survey-for-eu-region\n",
    "\n",
    "# load DataFrame\n",
    "df = pd.read_csv('IT Salary Survey EU  2020.csv')\n",
    "df.head()"
   ]
  },
  {
   "cell_type": "code",
   "execution_count": null,
   "id": "bb0c6c3b",
   "metadata": {},
   "outputs": [],
   "source": [
    "# Remove NaN's from column 'Age'\n",
    "df = df[~df['Age'].isnull()]"
   ]
  },
  {
   "cell_type": "code",
   "execution_count": null,
   "id": "1f20826e",
   "metadata": {},
   "outputs": [],
   "source": [
    "# Create suitable plot for visualizing the age distribution\n"
   ]
  },
  {
   "cell_type": "code",
   "execution_count": null,
   "id": "58ca4318",
   "metadata": {},
   "outputs": [],
   "source": [
    "# Plot\n",
    "\n",
    "\n",
    "# Compute average age\n",
    "\n",
    "print(mean_age)\n",
    "\n",
    "# Highlight average age by plotting a vertical line\n"
   ]
  },
  {
   "cell_type": "code",
   "execution_count": null,
   "id": "604382bf",
   "metadata": {},
   "outputs": [],
   "source": [
    "# Boxplot\n",
    "df[\"Age\"].plot.box()\n",
    "\n",
    "# Seaborn boxplot\n",
    "# sns.boxplot(df, x='Age')"
   ]
  },
  {
   "cell_type": "code",
   "execution_count": null,
   "id": "f2a6eceb",
   "metadata": {},
   "outputs": [],
   "source": [
    "# Plot histogram & boxplot together using plt.subplots()\n",
    "fig, (ax_boxplot, ax_hist) = plt.subplots(nrows=2,\n",
    "                                          gridspec_kw={\"height_ratios\": (.2, .8)})\n",
    "\n",
    "# Boxplot\n",
    "\n",
    "# Histogram\n",
    "\n",
    "\n",
    "# Remove chart borders\n",
    "\n",
    "\n",
    "\n",
    "# Remove duplicate axis label and ticks\n",
    "ax_boxplot.set_xlabel('')\n",
    "ax_boxplot.set_yticks([])\n",
    "ax_boxplot.set_xticks([])"
   ]
  },
  {
   "cell_type": "code",
   "execution_count": null,
   "id": "74abe352",
   "metadata": {},
   "outputs": [],
   "source": [
    "# Set seaborn style {darkgrid, whitegrid, dark, white, ticks}\n",
    "sns.set_style('ticks')"
   ]
  },
  {
   "cell_type": "markdown",
   "id": "f389975e",
   "metadata": {},
   "source": [
    "<br>\n",
    "\n",
    "## 4) Box-, violin-, strip-, and swarmplot (salary distribution)"
   ]
  },
  {
   "cell_type": "code",
   "execution_count": null,
   "id": "1f65c159",
   "metadata": {},
   "outputs": [],
   "source": [
    "df.columns"
   ]
  },
  {
   "cell_type": "code",
   "execution_count": null,
   "id": "9b418b67",
   "metadata": {},
   "outputs": [],
   "source": [
    "# Rename column\n",
    "df = df.rename(columns={'Yearly brutto salary (without bonus and stocks) in EUR': 'Yearly brutto salary in EUR'})"
   ]
  },
  {
   "cell_type": "code",
   "execution_count": null,
   "id": "2499d7a3",
   "metadata": {},
   "outputs": [],
   "source": [
    "# Boxplot of salary distribution\n",
    "sns.boxplot(df, y='Yearly brutto salary in EUR')"
   ]
  },
  {
   "cell_type": "markdown",
   "id": "91ae36e2",
   "metadata": {},
   "source": [
    "**Remove outliers (as shown in last week's exercise)**"
   ]
  },
  {
   "cell_type": "code",
   "execution_count": null,
   "id": "4e27d934",
   "metadata": {},
   "outputs": [],
   "source": [
    "df['Yearly brutto salary in EUR'].describe()"
   ]
  },
  {
   "cell_type": "code",
   "execution_count": null,
   "id": "4f8f7323",
   "metadata": {},
   "outputs": [],
   "source": [
    "# Q3 + whis*(Q3 - Q1)\n",
    "upper_limit = 80000 + 1.5*(80000 - 58800)\n",
    "\n",
    "# Q1 - whis*(Q3 - Q1)\n",
    "lower_limit = 58800 - 1.5*(80000 - 58800)\n",
    "\n",
    "# Apply limits to DataFrame\n",
    "df = df[(df['Yearly brutto salary in EUR'] <= upper_limit) &\n",
    "        (df['Yearly brutto salary in EUR'] >= lower_limit)]"
   ]
  },
  {
   "cell_type": "code",
   "execution_count": null,
   "id": "d912c801",
   "metadata": {},
   "outputs": [],
   "source": [
    "# boxplot\n",
    "sns.boxplot(df, y='Yearly brutto salary in EUR')"
   ]
  },
  {
   "cell_type": "markdown",
   "id": "097f00d7",
   "metadata": {},
   "source": [
    "**Is there a difference in salary between genders?**"
   ]
  },
  {
   "cell_type": "code",
   "execution_count": null,
   "id": "99b96c75",
   "metadata": {},
   "outputs": [],
   "source": [
    "df['Gender'].unique()"
   ]
  },
  {
   "cell_type": "code",
   "execution_count": null,
   "id": "1494eb9a",
   "metadata": {},
   "outputs": [],
   "source": [
    "# Remove NaN's from column \"Gender\"\n",
    "df = df[~df['Gender'].isnull()]"
   ]
  },
  {
   "cell_type": "code",
   "execution_count": null,
   "id": "9bad2e9b",
   "metadata": {},
   "outputs": [],
   "source": [
    "# Plot actual data points with one color for each gender\n"
   ]
  },
  {
   "cell_type": "code",
   "execution_count": null,
   "id": "e92c99b0",
   "metadata": {},
   "outputs": [],
   "source": [
    "# Boxplots of salary by gender\n",
    "\n",
    "\n",
    "# Plot data points\n",
    "\n",
    "\n",
    "sns.despine()"
   ]
  },
  {
   "cell_type": "code",
   "execution_count": null,
   "id": "c13fc650",
   "metadata": {},
   "outputs": [],
   "source": [
    "# Violinplots of salary by gender\n",
    "\n",
    "\n",
    "# PLot data points using swarmplot\n",
    "\n",
    "\n",
    "sns.despine()"
   ]
  },
  {
   "cell_type": "markdown",
   "id": "7029d70e",
   "metadata": {},
   "source": [
    "## 5) Bar plot"
   ]
  },
  {
   "cell_type": "markdown",
   "id": "075312d7",
   "metadata": {},
   "source": [
    "**How many data scientists are there?**"
   ]
  },
  {
   "cell_type": "code",
   "execution_count": null,
   "id": "afe99279",
   "metadata": {},
   "outputs": [],
   "source": [
    "df = df.rename(columns={'Position ': 'Position'})"
   ]
  },
  {
   "cell_type": "code",
   "execution_count": null,
   "id": "3522cc39",
   "metadata": {},
   "outputs": [],
   "source": [
    "position_counts = df['Position'].value_counts()\n",
    "position_counts"
   ]
  },
  {
   "cell_type": "code",
   "execution_count": null,
   "id": "0c8215a6",
   "metadata": {},
   "outputs": [],
   "source": [
    "# Bar plot with count per Position\n"
   ]
  },
  {
   "cell_type": "code",
   "execution_count": null,
   "id": "8e5e4b17",
   "metadata": {},
   "outputs": [],
   "source": [
    "# Only consider top 10 positions\n"
   ]
  },
  {
   "cell_type": "code",
   "execution_count": null,
   "id": "a04b1f66",
   "metadata": {},
   "outputs": [],
   "source": [
    "# Bar plot\n",
    "\n",
    "\n",
    "# Rotate tick labels\n",
    "# plt.xticks(rotation=45, ha='right')\n",
    "plt.show()"
   ]
  },
  {
   "cell_type": "code",
   "execution_count": null,
   "id": "ec529b54",
   "metadata": {},
   "outputs": [],
   "source": [
    "# Sort bars\n",
    "position_counts = position_counts.sort_values()\n",
    "\n",
    "# Horizontal bar plot (because of long labels)\n",
    "\n",
    "\n",
    "plt.show()"
   ]
  },
  {
   "cell_type": "code",
   "execution_count": null,
   "id": "bcef6fc8",
   "metadata": {},
   "outputs": [],
   "source": [
    "# Create custom colors with Data Scientists in blue\n"
   ]
  },
  {
   "cell_type": "code",
   "execution_count": null,
   "id": "013f10e8",
   "metadata": {},
   "outputs": [],
   "source": [
    "# Horizontal bar plot with custom colors\n",
    "bars = plt.barh(y=position_counts.index, width=position_counts.values,\n",
    "                color=custom_colors)\n",
    "\n",
    "# Add axis labels\n",
    "plt.xlabel('Count')\n",
    "plt.ylabel('Position')\n",
    "\n",
    "# Add count next to each bar\n",
    "\n",
    "\n",
    "# Remove chart border & y-axis (declutter!)\n",
    "sns.despine(bottom=False, left=True)\n",
    "plt.tick_params(left=False)\n",
    "plt.xlim([0, 400])\n",
    "\n",
    "plt.show()"
   ]
  },
  {
   "cell_type": "markdown",
   "id": "4229a328",
   "metadata": {},
   "source": [
    "## 6) Save plots for editing in Inkscape"
   ]
  },
  {
   "cell_type": "markdown",
   "id": "89ce7c23",
   "metadata": {},
   "source": [
    "Uncomment next line to install nutil package (see: https://github.com/anki-xyz/nutil)"
   ]
  },
  {
   "cell_type": "code",
   "execution_count": null,
   "id": "3e121b8c",
   "metadata": {},
   "outputs": [],
   "source": [
    "#!pip install git+https://github.com/anki-xyz/nutil"
   ]
  },
  {
   "cell_type": "code",
   "execution_count": null,
   "id": "8802409e",
   "metadata": {},
   "outputs": [],
   "source": [
    "from nutil.plot import paperStyle"
   ]
  },
  {
   "cell_type": "code",
   "execution_count": null,
   "id": "bcabf79d",
   "metadata": {},
   "outputs": [],
   "source": [
    "# Use \"paperStyle\" to define style for publication (scientific paper, thesis, ...)\n",
    "\n",
    "\n",
    "\n",
    "# Plot histogram & boxplot together using plt.subplots()\n",
    "fig, (ax_boxplot, ax_hist) = plt.subplots(nrows=2,\n",
    "                                          figsize=(6.5, 2),\n",
    "                                          gridspec_kw={\"height_ratios\": (.2, .8)})\n",
    "\n",
    "sns.boxplot(df, x='Age', ax=ax_boxplot)\n",
    "sns.histplot(df, x='Age', bins=49, ax=ax_hist)\n",
    "\n",
    "# Remove chart borders\n",
    "sns.despine(ax=ax_boxplot, left=True, bottom=True)\n",
    "sns.despine(ax=ax_hist, trim=True)\n",
    "ax_boxplot.set_xlabel('')\n",
    "ax_boxplot.set_yticks([])\n",
    "ax_boxplot.set_xticks([])\n",
    "\n",
    "# Save\n"
   ]
  },
  {
   "cell_type": "markdown",
   "id": "3f6fd798",
   "metadata": {},
   "source": [
    "Save the other two plots:"
   ]
  },
  {
   "cell_type": "code",
   "execution_count": null,
   "id": "5dbe8429",
   "metadata": {},
   "outputs": [],
   "source": [
    "with paperStyle(font_size=8):\n",
    "    plt.figure(figsize=(2.5, 3))\n",
    "    sns.boxplot(df, x='Gender', y='Yearly brutto salary in EUR',\n",
    "                palette='pastel', width=0.4, fliersize=2)\n",
    "    sns.stripplot(df, x='Gender', y='Yearly brutto salary in EUR', size=2, hue='Gender', legend=False)\n",
    "    sns.despine()\n",
    "    \n",
    "    plt.savefig('files/salary_by_gender.svg', bbox_inches='tight')"
   ]
  },
  {
   "cell_type": "code",
   "execution_count": null,
   "id": "3328f77b",
   "metadata": {},
   "outputs": [],
   "source": [
    "with paperStyle(font_size=8):\n",
    "    plt.figure(figsize=(3,3))\n",
    "    # Horizontal bar plot with custom colors\n",
    "    bars = plt.barh(y=position_counts.index, width=position_counts.values,\n",
    "                    color=custom_colors)\n",
    "\n",
    "    # Add axis labels\n",
    "    plt.xlabel('Count')\n",
    "    plt.ylabel('Position')\n",
    "\n",
    "    # Add count next to each bar\n",
    "    plt.bar_label(bars, padding=5, fontsize=8)\n",
    "\n",
    "    # Remove chart border & y-axis (declutter!)\n",
    "    sns.despine(bottom=False, left=True)\n",
    "    plt.tick_params(left=False)\n",
    "    plt.xlim([0, 400])\n",
    "    \n",
    "    plt.savefig('files/positions.svg', bbox_inches='tight')"
   ]
  }
 ],
 "metadata": {
  "kernelspec": {
   "display_name": "Python 3 (ipykernel)",
   "language": "python",
   "name": "python3"
  },
  "language_info": {
   "codemirror_mode": {
    "name": "ipython",
    "version": 3
   },
   "file_extension": ".py",
   "mimetype": "text/x-python",
   "name": "python",
   "nbconvert_exporter": "python",
   "pygments_lexer": "ipython3",
   "version": "3.9.12"
  }
 },
 "nbformat": 4,
 "nbformat_minor": 5
}
