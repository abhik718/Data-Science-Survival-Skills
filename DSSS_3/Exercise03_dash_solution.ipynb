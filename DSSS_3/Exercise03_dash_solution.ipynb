{
 "cells": [
  {
   "cell_type": "markdown",
   "metadata": {
    "id": "d6s9nmm8qXV3"
   },
   "source": [
    "# Exercise 03: Dash/Plotly\n",
    "\n",
    "Requirements: Numpy, pandas, dash and jupyter_dash"
   ]
  },
  {
   "cell_type": "code",
   "execution_count": 2,
   "metadata": {
    "colab": {
     "base_uri": "https://localhost:8080/"
    },
    "executionInfo": {
     "elapsed": 10220,
     "status": "ok",
     "timestamp": 1668169830938,
     "user": {
      "displayName": "Rene Groh",
      "userId": "05263506107887311575"
     },
     "user_tz": -60
    },
    "id": "i1SEP92jxi1Q",
    "outputId": "3e3dcd6f-b04e-4dd7-9d27-54b87b43613b"
   },
   "outputs": [
    {
     "name": "stdout",
     "output_type": "stream",
     "text": [
      "Looking in indexes: https://pypi.org/simple, https://us-python.pkg.dev/colab-wheels/public/simple/\n",
      "Collecting jupyter_dash\n",
      "  Downloading jupyter_dash-0.4.2-py3-none-any.whl (23 kB)\n",
      "Requirement already satisfied: requests in /usr/local/lib/python3.7/dist-packages (from jupyter_dash) (2.23.0)\n",
      "Collecting dash\n",
      "  Downloading dash-2.7.0-py3-none-any.whl (9.9 MB)\n",
      "\u001b[K     |████████████████████████████████| 9.9 MB 7.3 MB/s \n",
      "\u001b[?25hCollecting nest-asyncio\n",
      "  Downloading nest_asyncio-1.5.6-py3-none-any.whl (5.2 kB)\n",
      "Requirement already satisfied: flask in /usr/local/lib/python3.7/dist-packages (from jupyter_dash) (1.1.4)\n",
      "Collecting ansi2html\n",
      "  Downloading ansi2html-1.8.0-py3-none-any.whl (16 kB)\n",
      "Requirement already satisfied: ipython in /usr/local/lib/python3.7/dist-packages (from jupyter_dash) (7.9.0)\n",
      "Collecting retrying\n",
      "  Downloading retrying-1.3.3.tar.gz (10 kB)\n",
      "Requirement already satisfied: ipykernel in /usr/local/lib/python3.7/dist-packages (from jupyter_dash) (5.3.4)\n",
      "Requirement already satisfied: importlib-metadata in /usr/local/lib/python3.7/dist-packages (from ansi2html->jupyter_dash) (4.13.0)\n",
      "Requirement already satisfied: plotly>=5.0.0 in /usr/local/lib/python3.7/dist-packages (from dash->jupyter_dash) (5.5.0)\n",
      "Collecting dash-html-components==2.0.0\n",
      "  Downloading dash_html_components-2.0.0-py3-none-any.whl (4.1 kB)\n",
      "Collecting dash-core-components==2.0.0\n",
      "  Downloading dash_core_components-2.0.0-py3-none-any.whl (3.8 kB)\n",
      "Collecting dash-table==5.0.0\n",
      "  Downloading dash_table-5.0.0-py3-none-any.whl (3.9 kB)\n",
      "Requirement already satisfied: Jinja2<3.0,>=2.10.1 in /usr/local/lib/python3.7/dist-packages (from flask->jupyter_dash) (2.11.3)\n",
      "Requirement already satisfied: Werkzeug<2.0,>=0.15 in /usr/local/lib/python3.7/dist-packages (from flask->jupyter_dash) (1.0.1)\n",
      "Requirement already satisfied: itsdangerous<2.0,>=0.24 in /usr/local/lib/python3.7/dist-packages (from flask->jupyter_dash) (1.1.0)\n",
      "Requirement already satisfied: click<8.0,>=5.1 in /usr/local/lib/python3.7/dist-packages (from flask->jupyter_dash) (7.1.2)\n",
      "Requirement already satisfied: MarkupSafe>=0.23 in /usr/local/lib/python3.7/dist-packages (from Jinja2<3.0,>=2.10.1->flask->jupyter_dash) (2.0.1)\n",
      "Requirement already satisfied: six in /usr/local/lib/python3.7/dist-packages (from plotly>=5.0.0->dash->jupyter_dash) (1.15.0)\n",
      "Requirement already satisfied: tenacity>=6.2.0 in /usr/local/lib/python3.7/dist-packages (from plotly>=5.0.0->dash->jupyter_dash) (8.1.0)\n",
      "Requirement already satisfied: typing-extensions>=3.6.4 in /usr/local/lib/python3.7/dist-packages (from importlib-metadata->ansi2html->jupyter_dash) (4.1.1)\n",
      "Requirement already satisfied: zipp>=0.5 in /usr/local/lib/python3.7/dist-packages (from importlib-metadata->ansi2html->jupyter_dash) (3.10.0)\n",
      "Requirement already satisfied: traitlets>=4.1.0 in /usr/local/lib/python3.7/dist-packages (from ipykernel->jupyter_dash) (5.1.1)\n",
      "Requirement already satisfied: tornado>=4.2 in /usr/local/lib/python3.7/dist-packages (from ipykernel->jupyter_dash) (6.0.4)\n",
      "Requirement already satisfied: jupyter-client in /usr/local/lib/python3.7/dist-packages (from ipykernel->jupyter_dash) (6.1.12)\n",
      "Requirement already satisfied: setuptools>=18.5 in /usr/local/lib/python3.7/dist-packages (from ipython->jupyter_dash) (57.4.0)\n",
      "Requirement already satisfied: backcall in /usr/local/lib/python3.7/dist-packages (from ipython->jupyter_dash) (0.2.0)\n",
      "Requirement already satisfied: decorator in /usr/local/lib/python3.7/dist-packages (from ipython->jupyter_dash) (4.4.2)\n",
      "Requirement already satisfied: pygments in /usr/local/lib/python3.7/dist-packages (from ipython->jupyter_dash) (2.6.1)\n",
      "Requirement already satisfied: pickleshare in /usr/local/lib/python3.7/dist-packages (from ipython->jupyter_dash) (0.7.5)\n",
      "Requirement already satisfied: pexpect in /usr/local/lib/python3.7/dist-packages (from ipython->jupyter_dash) (4.8.0)\n",
      "Requirement already satisfied: prompt-toolkit<2.1.0,>=2.0.0 in /usr/local/lib/python3.7/dist-packages (from ipython->jupyter_dash) (2.0.10)\n",
      "Collecting jedi>=0.10\n",
      "  Downloading jedi-0.18.1-py2.py3-none-any.whl (1.6 MB)\n",
      "\u001b[K     |████████████████████████████████| 1.6 MB 52.2 MB/s \n",
      "\u001b[?25hRequirement already satisfied: parso<0.9.0,>=0.8.0 in /usr/local/lib/python3.7/dist-packages (from jedi>=0.10->ipython->jupyter_dash) (0.8.3)\n",
      "Requirement already satisfied: wcwidth in /usr/local/lib/python3.7/dist-packages (from prompt-toolkit<2.1.0,>=2.0.0->ipython->jupyter_dash) (0.2.5)\n",
      "Requirement already satisfied: pyzmq>=13 in /usr/local/lib/python3.7/dist-packages (from jupyter-client->ipykernel->jupyter_dash) (23.2.1)\n",
      "Requirement already satisfied: jupyter-core>=4.6.0 in /usr/local/lib/python3.7/dist-packages (from jupyter-client->ipykernel->jupyter_dash) (4.11.2)\n",
      "Requirement already satisfied: python-dateutil>=2.1 in /usr/local/lib/python3.7/dist-packages (from jupyter-client->ipykernel->jupyter_dash) (2.8.2)\n",
      "Requirement already satisfied: ptyprocess>=0.5 in /usr/local/lib/python3.7/dist-packages (from pexpect->ipython->jupyter_dash) (0.7.0)\n",
      "Requirement already satisfied: certifi>=2017.4.17 in /usr/local/lib/python3.7/dist-packages (from requests->jupyter_dash) (2022.9.24)\n",
      "Requirement already satisfied: chardet<4,>=3.0.2 in /usr/local/lib/python3.7/dist-packages (from requests->jupyter_dash) (3.0.4)\n",
      "Requirement already satisfied: urllib3!=1.25.0,!=1.25.1,<1.26,>=1.21.1 in /usr/local/lib/python3.7/dist-packages (from requests->jupyter_dash) (1.24.3)\n",
      "Requirement already satisfied: idna<3,>=2.5 in /usr/local/lib/python3.7/dist-packages (from requests->jupyter_dash) (2.10)\n",
      "Building wheels for collected packages: retrying\n",
      "  Building wheel for retrying (setup.py) ... \u001b[?25l\u001b[?25hdone\n",
      "  Created wheel for retrying: filename=retrying-1.3.3-py3-none-any.whl size=11448 sha256=164878b912201349384150b203eac721f4a921924f33172fb977500568ffb9c6\n",
      "  Stored in directory: /root/.cache/pip/wheels/f9/8d/8d/f6af3f7f9eea3553bc2fe6d53e4b287dad18b06a861ac56ddf\n",
      "Successfully built retrying\n",
      "Installing collected packages: jedi, dash-table, dash-html-components, dash-core-components, retrying, nest-asyncio, dash, ansi2html, jupyter-dash\n",
      "Successfully installed ansi2html-1.8.0 dash-2.7.0 dash-core-components-2.0.0 dash-html-components-2.0.0 dash-table-5.0.0 jedi-0.18.1 jupyter-dash-0.4.2 nest-asyncio-1.5.6 retrying-1.3.3\n"
     ]
    }
   ],
   "source": [
    "\n",
    "# In case you have problems, try using this specific versions: \n",
    "# !pip install -q jupyter_dash==0.3.0\n",
    "# !pip install -q dash==1.19.0\n",
    "# import dash_core_components as dcc\n",
    "# import dash_html_components as html\n",
    "!pip install jupyter_dash"
   ]
  },
  {
   "cell_type": "code",
   "execution_count": 3,
   "metadata": {
    "colab": {
     "base_uri": "https://localhost:8080/",
     "height": 36
    },
    "executionInfo": {
     "elapsed": 896,
     "status": "ok",
     "timestamp": 1668169838556,
     "user": {
      "displayName": "Rene Groh",
      "userId": "05263506107887311575"
     },
     "user_tz": -60
    },
    "id": "6ZZ2JSl5fiQg",
    "outputId": "1cdf2835-b1c2-48be-c3cb-d2fb1ff17edc"
   },
   "outputs": [
    {
     "data": {
      "application/vnd.google.colaboratory.intrinsic+json": {
       "type": "string"
      },
      "text/plain": [
       "'0.4.2'"
      ]
     },
     "execution_count": 3,
     "metadata": {},
     "output_type": "execute_result"
    }
   ],
   "source": [
    "# We need to use a package to be able to run dash embedded in a jupyter notebook:\n",
    "import jupyter_dash\n",
    "jupyter_dash.__version__"
   ]
  },
  {
   "cell_type": "code",
   "execution_count": 4,
   "metadata": {
    "executionInfo": {
     "elapsed": 341,
     "status": "ok",
     "timestamp": 1668169854308,
     "user": {
      "displayName": "Rene Groh",
      "userId": "05263506107887311575"
     },
     "user_tz": -60
    },
    "id": "IEgAqLZmx2iN"
   },
   "outputs": [],
   "source": [
    "import pandas as pd\n",
    "import numpy as np\n",
    "# Let's call some modules to plot and build a web app:\n",
    "import plotly.graph_objects as go\n",
    "from jupyter_dash import JupyterDash\n",
    "from dash import  dcc, html  # Dash Core Components and HTML components\n",
    "from dash.dependencies import Input, Output  ### Callbacks!"
   ]
  },
  {
   "cell_type": "markdown",
   "metadata": {
    "id": "ZWt8ImMJqXWS"
   },
   "source": [
    "[Dash Core Components](https://dash.plotly.com/dash-core-components): Gives us acces to interactive components, including dropdowns, checklists, radio buttons sliders, etc.\n",
    "\n",
    "[HTML Components](https://dash.plotly.com/dash-html-components): To create the HTML Layout using Python and not raw HTML or templates. \n"
   ]
  },
  {
   "cell_type": "markdown",
   "metadata": {
    "id": "J12J3hFtqXWT"
   },
   "source": [
    "Let's make a random Bar plot using graph_objects "
   ]
  },
  {
   "cell_type": "code",
   "execution_count": null,
   "metadata": {
    "id": "TiyJYMAzqXWU"
   },
   "outputs": [],
   "source": [
    "# If you have problems running the next line, try using: \n",
    "# !pip install --upgrade nbformat"
   ]
  },
  {
   "cell_type": "code",
   "execution_count": 5,
   "metadata": {
    "colab": {
     "base_uri": "https://localhost:8080/",
     "height": 542
    },
    "executionInfo": {
     "elapsed": 585,
     "status": "ok",
     "timestamp": 1668169909265,
     "user": {
      "displayName": "Rene Groh",
      "userId": "05263506107887311575"
     },
     "user_tz": -60
    },
    "id": "SHaSyk1RqXWW",
    "outputId": "2d7cf861-a7e0-4c88-83bc-c8d3edf60e53"
   },
   "outputs": [
    {
     "data": {
      "text/html": [
       "<html>\n",
       "<head><meta charset=\"utf-8\" /></head>\n",
       "<body>\n",
       "    <div>            <script src=\"https://cdnjs.cloudflare.com/ajax/libs/mathjax/2.7.5/MathJax.js?config=TeX-AMS-MML_SVG\"></script><script type=\"text/javascript\">if (window.MathJax) {MathJax.Hub.Config({SVG: {font: \"STIX-Web\"}});}</script>                <script type=\"text/javascript\">window.PlotlyConfig = {MathJaxConfig: 'local'};</script>\n",
       "        <script src=\"https://cdn.plot.ly/plotly-2.8.3.min.js\"></script>                <div id=\"3af03c10-2b27-4fc5-b146-75a9ed2527e5\" class=\"plotly-graph-div\" style=\"height:525px; width:100%;\"></div>            <script type=\"text/javascript\">                                    window.PLOTLYENV=window.PLOTLYENV || {};                                    if (document.getElementById(\"3af03c10-2b27-4fc5-b146-75a9ed2527e5\")) {                    Plotly.newPlot(                        \"3af03c10-2b27-4fc5-b146-75a9ed2527e5\",                        [{\"x\":[-0.5580613979670805,-0.3912102642055446,-0.22435913044400874,-0.05750799668247286,0.10934313707906307,0.276194270840599,0.4430454046021348,0.6098965383636707,0.7767476721252067,0.9435988058867426,1.1104499396482785,1.2773010734098145,1.4441522071713502,1.611003340932886,1.777854474694422,1.944705608455958,2.111556742217494,2.27840787597903,2.4452590097405658,2.6121101435021017,2.7789612772636376],\"y\":[0.005993366526530186,0.04195356568571131,0.08990049789795282,0.11986733053060371,0.22175456148161687,0.3056616928530397,0.551389720440777,0.7311907162366826,0.5873499195999582,0.7192039831836223,0.7911243815019845,0.6892371505509722,0.4734759555958847,0.2936749597999791,0.22774792800814705,0.0839071313714226,0.03596019915918112,0.011986733053060371,0.005993366526530186,0.005993366526530186],\"type\":\"bar\"}],                        {\"template\":{\"data\":{\"bar\":[{\"error_x\":{\"color\":\"#2a3f5f\"},\"error_y\":{\"color\":\"#2a3f5f\"},\"marker\":{\"line\":{\"color\":\"#E5ECF6\",\"width\":0.5},\"pattern\":{\"fillmode\":\"overlay\",\"size\":10,\"solidity\":0.2}},\"type\":\"bar\"}],\"barpolar\":[{\"marker\":{\"line\":{\"color\":\"#E5ECF6\",\"width\":0.5},\"pattern\":{\"fillmode\":\"overlay\",\"size\":10,\"solidity\":0.2}},\"type\":\"barpolar\"}],\"carpet\":[{\"aaxis\":{\"endlinecolor\":\"#2a3f5f\",\"gridcolor\":\"white\",\"linecolor\":\"white\",\"minorgridcolor\":\"white\",\"startlinecolor\":\"#2a3f5f\"},\"baxis\":{\"endlinecolor\":\"#2a3f5f\",\"gridcolor\":\"white\",\"linecolor\":\"white\",\"minorgridcolor\":\"white\",\"startlinecolor\":\"#2a3f5f\"},\"type\":\"carpet\"}],\"choropleth\":[{\"colorbar\":{\"outlinewidth\":0,\"ticks\":\"\"},\"type\":\"choropleth\"}],\"contour\":[{\"colorbar\":{\"outlinewidth\":0,\"ticks\":\"\"},\"colorscale\":[[0.0,\"#0d0887\"],[0.1111111111111111,\"#46039f\"],[0.2222222222222222,\"#7201a8\"],[0.3333333333333333,\"#9c179e\"],[0.4444444444444444,\"#bd3786\"],[0.5555555555555556,\"#d8576b\"],[0.6666666666666666,\"#ed7953\"],[0.7777777777777778,\"#fb9f3a\"],[0.8888888888888888,\"#fdca26\"],[1.0,\"#f0f921\"]],\"type\":\"contour\"}],\"contourcarpet\":[{\"colorbar\":{\"outlinewidth\":0,\"ticks\":\"\"},\"type\":\"contourcarpet\"}],\"heatmap\":[{\"colorbar\":{\"outlinewidth\":0,\"ticks\":\"\"},\"colorscale\":[[0.0,\"#0d0887\"],[0.1111111111111111,\"#46039f\"],[0.2222222222222222,\"#7201a8\"],[0.3333333333333333,\"#9c179e\"],[0.4444444444444444,\"#bd3786\"],[0.5555555555555556,\"#d8576b\"],[0.6666666666666666,\"#ed7953\"],[0.7777777777777778,\"#fb9f3a\"],[0.8888888888888888,\"#fdca26\"],[1.0,\"#f0f921\"]],\"type\":\"heatmap\"}],\"heatmapgl\":[{\"colorbar\":{\"outlinewidth\":0,\"ticks\":\"\"},\"colorscale\":[[0.0,\"#0d0887\"],[0.1111111111111111,\"#46039f\"],[0.2222222222222222,\"#7201a8\"],[0.3333333333333333,\"#9c179e\"],[0.4444444444444444,\"#bd3786\"],[0.5555555555555556,\"#d8576b\"],[0.6666666666666666,\"#ed7953\"],[0.7777777777777778,\"#fb9f3a\"],[0.8888888888888888,\"#fdca26\"],[1.0,\"#f0f921\"]],\"type\":\"heatmapgl\"}],\"histogram\":[{\"marker\":{\"pattern\":{\"fillmode\":\"overlay\",\"size\":10,\"solidity\":0.2}},\"type\":\"histogram\"}],\"histogram2d\":[{\"colorbar\":{\"outlinewidth\":0,\"ticks\":\"\"},\"colorscale\":[[0.0,\"#0d0887\"],[0.1111111111111111,\"#46039f\"],[0.2222222222222222,\"#7201a8\"],[0.3333333333333333,\"#9c179e\"],[0.4444444444444444,\"#bd3786\"],[0.5555555555555556,\"#d8576b\"],[0.6666666666666666,\"#ed7953\"],[0.7777777777777778,\"#fb9f3a\"],[0.8888888888888888,\"#fdca26\"],[1.0,\"#f0f921\"]],\"type\":\"histogram2d\"}],\"histogram2dcontour\":[{\"colorbar\":{\"outlinewidth\":0,\"ticks\":\"\"},\"colorscale\":[[0.0,\"#0d0887\"],[0.1111111111111111,\"#46039f\"],[0.2222222222222222,\"#7201a8\"],[0.3333333333333333,\"#9c179e\"],[0.4444444444444444,\"#bd3786\"],[0.5555555555555556,\"#d8576b\"],[0.6666666666666666,\"#ed7953\"],[0.7777777777777778,\"#fb9f3a\"],[0.8888888888888888,\"#fdca26\"],[1.0,\"#f0f921\"]],\"type\":\"histogram2dcontour\"}],\"mesh3d\":[{\"colorbar\":{\"outlinewidth\":0,\"ticks\":\"\"},\"type\":\"mesh3d\"}],\"parcoords\":[{\"line\":{\"colorbar\":{\"outlinewidth\":0,\"ticks\":\"\"}},\"type\":\"parcoords\"}],\"pie\":[{\"automargin\":true,\"type\":\"pie\"}],\"scatter\":[{\"marker\":{\"colorbar\":{\"outlinewidth\":0,\"ticks\":\"\"}},\"type\":\"scatter\"}],\"scatter3d\":[{\"line\":{\"colorbar\":{\"outlinewidth\":0,\"ticks\":\"\"}},\"marker\":{\"colorbar\":{\"outlinewidth\":0,\"ticks\":\"\"}},\"type\":\"scatter3d\"}],\"scattercarpet\":[{\"marker\":{\"colorbar\":{\"outlinewidth\":0,\"ticks\":\"\"}},\"type\":\"scattercarpet\"}],\"scattergeo\":[{\"marker\":{\"colorbar\":{\"outlinewidth\":0,\"ticks\":\"\"}},\"type\":\"scattergeo\"}],\"scattergl\":[{\"marker\":{\"colorbar\":{\"outlinewidth\":0,\"ticks\":\"\"}},\"type\":\"scattergl\"}],\"scattermapbox\":[{\"marker\":{\"colorbar\":{\"outlinewidth\":0,\"ticks\":\"\"}},\"type\":\"scattermapbox\"}],\"scatterpolar\":[{\"marker\":{\"colorbar\":{\"outlinewidth\":0,\"ticks\":\"\"}},\"type\":\"scatterpolar\"}],\"scatterpolargl\":[{\"marker\":{\"colorbar\":{\"outlinewidth\":0,\"ticks\":\"\"}},\"type\":\"scatterpolargl\"}],\"scatterternary\":[{\"marker\":{\"colorbar\":{\"outlinewidth\":0,\"ticks\":\"\"}},\"type\":\"scatterternary\"}],\"surface\":[{\"colorbar\":{\"outlinewidth\":0,\"ticks\":\"\"},\"colorscale\":[[0.0,\"#0d0887\"],[0.1111111111111111,\"#46039f\"],[0.2222222222222222,\"#7201a8\"],[0.3333333333333333,\"#9c179e\"],[0.4444444444444444,\"#bd3786\"],[0.5555555555555556,\"#d8576b\"],[0.6666666666666666,\"#ed7953\"],[0.7777777777777778,\"#fb9f3a\"],[0.8888888888888888,\"#fdca26\"],[1.0,\"#f0f921\"]],\"type\":\"surface\"}],\"table\":[{\"cells\":{\"fill\":{\"color\":\"#EBF0F8\"},\"line\":{\"color\":\"white\"}},\"header\":{\"fill\":{\"color\":\"#C8D4E3\"},\"line\":{\"color\":\"white\"}},\"type\":\"table\"}]},\"layout\":{\"annotationdefaults\":{\"arrowcolor\":\"#2a3f5f\",\"arrowhead\":0,\"arrowwidth\":1},\"autotypenumbers\":\"strict\",\"coloraxis\":{\"colorbar\":{\"outlinewidth\":0,\"ticks\":\"\"}},\"colorscale\":{\"diverging\":[[0,\"#8e0152\"],[0.1,\"#c51b7d\"],[0.2,\"#de77ae\"],[0.3,\"#f1b6da\"],[0.4,\"#fde0ef\"],[0.5,\"#f7f7f7\"],[0.6,\"#e6f5d0\"],[0.7,\"#b8e186\"],[0.8,\"#7fbc41\"],[0.9,\"#4d9221\"],[1,\"#276419\"]],\"sequential\":[[0.0,\"#0d0887\"],[0.1111111111111111,\"#46039f\"],[0.2222222222222222,\"#7201a8\"],[0.3333333333333333,\"#9c179e\"],[0.4444444444444444,\"#bd3786\"],[0.5555555555555556,\"#d8576b\"],[0.6666666666666666,\"#ed7953\"],[0.7777777777777778,\"#fb9f3a\"],[0.8888888888888888,\"#fdca26\"],[1.0,\"#f0f921\"]],\"sequentialminus\":[[0.0,\"#0d0887\"],[0.1111111111111111,\"#46039f\"],[0.2222222222222222,\"#7201a8\"],[0.3333333333333333,\"#9c179e\"],[0.4444444444444444,\"#bd3786\"],[0.5555555555555556,\"#d8576b\"],[0.6666666666666666,\"#ed7953\"],[0.7777777777777778,\"#fb9f3a\"],[0.8888888888888888,\"#fdca26\"],[1.0,\"#f0f921\"]]},\"colorway\":[\"#636efa\",\"#EF553B\",\"#00cc96\",\"#ab63fa\",\"#FFA15A\",\"#19d3f3\",\"#FF6692\",\"#B6E880\",\"#FF97FF\",\"#FECB52\"],\"font\":{\"color\":\"#2a3f5f\"},\"geo\":{\"bgcolor\":\"white\",\"lakecolor\":\"white\",\"landcolor\":\"#E5ECF6\",\"showlakes\":true,\"showland\":true,\"subunitcolor\":\"white\"},\"hoverlabel\":{\"align\":\"left\"},\"hovermode\":\"closest\",\"mapbox\":{\"style\":\"light\"},\"paper_bgcolor\":\"white\",\"plot_bgcolor\":\"#E5ECF6\",\"polar\":{\"angularaxis\":{\"gridcolor\":\"white\",\"linecolor\":\"white\",\"ticks\":\"\"},\"bgcolor\":\"#E5ECF6\",\"radialaxis\":{\"gridcolor\":\"white\",\"linecolor\":\"white\",\"ticks\":\"\"}},\"scene\":{\"xaxis\":{\"backgroundcolor\":\"#E5ECF6\",\"gridcolor\":\"white\",\"gridwidth\":2,\"linecolor\":\"white\",\"showbackground\":true,\"ticks\":\"\",\"zerolinecolor\":\"white\"},\"yaxis\":{\"backgroundcolor\":\"#E5ECF6\",\"gridcolor\":\"white\",\"gridwidth\":2,\"linecolor\":\"white\",\"showbackground\":true,\"ticks\":\"\",\"zerolinecolor\":\"white\"},\"zaxis\":{\"backgroundcolor\":\"#E5ECF6\",\"gridcolor\":\"white\",\"gridwidth\":2,\"linecolor\":\"white\",\"showbackground\":true,\"ticks\":\"\",\"zerolinecolor\":\"white\"}},\"shapedefaults\":{\"line\":{\"color\":\"#2a3f5f\"}},\"ternary\":{\"aaxis\":{\"gridcolor\":\"white\",\"linecolor\":\"white\",\"ticks\":\"\"},\"baxis\":{\"gridcolor\":\"white\",\"linecolor\":\"white\",\"ticks\":\"\"},\"bgcolor\":\"#E5ECF6\",\"caxis\":{\"gridcolor\":\"white\",\"linecolor\":\"white\",\"ticks\":\"\"}},\"title\":{\"x\":0.05},\"xaxis\":{\"automargin\":true,\"gridcolor\":\"white\",\"linecolor\":\"white\",\"ticks\":\"\",\"title\":{\"standoff\":15},\"zerolinecolor\":\"white\",\"zerolinewidth\":2},\"yaxis\":{\"automargin\":true,\"gridcolor\":\"white\",\"linecolor\":\"white\",\"ticks\":\"\",\"title\":{\"standoff\":15},\"zerolinecolor\":\"white\",\"zerolinewidth\":2}}},\"title\":{\"text\":\"Example of a Figure\"}},                        {\"responsive\": true}                    ).then(function(){\n",
       "                            \n",
       "var gd = document.getElementById('3af03c10-2b27-4fc5-b146-75a9ed2527e5');\n",
       "var x = new MutationObserver(function (mutations, observer) {{\n",
       "        var display = window.getComputedStyle(gd).display;\n",
       "        if (!display || display === 'none') {{\n",
       "            console.log([gd, 'removed!']);\n",
       "            Plotly.purge(gd);\n",
       "            observer.disconnect();\n",
       "        }}\n",
       "}});\n",
       "\n",
       "// Listen for the removal of the full notebook cells\n",
       "var notebookContainer = gd.closest('#notebook-container');\n",
       "if (notebookContainer) {{\n",
       "    x.observe(notebookContainer, {childList: true});\n",
       "}}\n",
       "\n",
       "// Listen for the clearing of the current output cell\n",
       "var outputEl = gd.closest('.output');\n",
       "if (outputEl) {{\n",
       "    x.observe(outputEl, {childList: true});\n",
       "}}\n",
       "\n",
       "                        })                };                            </script>        </div>\n",
       "</body>\n",
       "</html>"
      ]
     },
     "metadata": {},
     "output_type": "display_data"
    }
   ],
   "source": [
    "mu, sigma = 1, 0.5 # mean and standard deviation\n",
    "s = np.random.normal(mu, sigma, 1000)\n",
    "hist, bin_edges = np.histogram(s, 20, density=True)\n",
    "\n",
    "fig = go.Figure(\n",
    "    data=[go.Bar(y=hist, x = bin_edges)],\n",
    "    layout_title_text=\"Example of a Figure\"\n",
    ")\n",
    "fig.show()"
   ]
  },
  {
   "cell_type": "markdown",
   "metadata": {
    "id": "OacPMQ1GqXWd"
   },
   "source": [
    "# Preparing our data"
   ]
  },
  {
   "cell_type": "markdown",
   "metadata": {
    "id": "D0VIi_qqKSUx"
   },
   "source": [
    "1. Create a function to calculate the seven day average from a dataset. \n",
    "\n",
    "    * It takes two arguments: the datapoints and a window size. \n",
    "\n",
    "    * It should shift the window over the given points and calculate the mean within that window. "
   ]
  },
  {
   "cell_type": "code",
   "execution_count": 6,
   "metadata": {
    "executionInfo": {
     "elapsed": 221,
     "status": "ok",
     "timestamp": 1668170034411,
     "user": {
      "displayName": "Rene Groh",
      "userId": "05263506107887311575"
     },
     "user_tz": -60
    },
    "id": "pnDGNaGxyuI2"
   },
   "outputs": [],
   "source": [
    "def movingAverage(x, window=7):\n",
    "    r = np.zeros_like(x)\n",
    "    \n",
    "    for i in range(x.shape[0]):\n",
    "        if i < window:\n",
    "            r[i] = x[:i+1].mean()\n",
    "            \n",
    "        else:        \n",
    "            r[i] = x[i-window:i].mean()\n",
    "        \n",
    "    return r"
   ]
  },
  {
   "cell_type": "markdown",
   "metadata": {
    "id": "dv4U8BYAqXWh"
   },
   "source": [
    "2. Read the csv using pandas"
   ]
  },
  {
   "cell_type": "code",
   "execution_count": 9,
   "metadata": {
    "colab": {
     "base_uri": "https://localhost:8080/",
     "height": 357
    },
    "executionInfo": {
     "elapsed": 38,
     "status": "ok",
     "timestamp": 1668170053531,
     "user": {
      "displayName": "Rene Groh",
      "userId": "05263506107887311575"
     },
     "user_tz": -60
    },
    "id": "rx4XjVxOxpIl",
    "outputId": "dc72b5cc-4c54-4e5e-da3e-180982c5f421"
   },
   "outputs": [
    {
     "data": {
      "text/html": [
       "\n",
       "  <div id=\"df-dd6e72ea-3cb1-4026-9f04-a4b77685b265\">\n",
       "    <div class=\"colab-df-container\">\n",
       "      <div>\n",
       "<style scoped>\n",
       "    .dataframe tbody tr th:only-of-type {\n",
       "        vertical-align: middle;\n",
       "    }\n",
       "\n",
       "    .dataframe tbody tr th {\n",
       "        vertical-align: top;\n",
       "    }\n",
       "\n",
       "    .dataframe thead th {\n",
       "        text-align: right;\n",
       "    }\n",
       "</style>\n",
       "<table border=\"1\" class=\"dataframe\">\n",
       "  <thead>\n",
       "    <tr style=\"text-align: right;\">\n",
       "      <th></th>\n",
       "      <th>Datum</th>\n",
       "      <th>PS_COVID_Faelle</th>\n",
       "      <th>UG_PI_COVID_Faelle</th>\n",
       "      <th>OG_PI_COVID_Faelle</th>\n",
       "      <th>PS_COVID_Faelle_ma4</th>\n",
       "      <th>UG_PI_COVID_Faelle_ma4</th>\n",
       "      <th>OG_PI_COVID_Faelle_ma4</th>\n",
       "      <th>PS_7_Tage_R_Wert</th>\n",
       "      <th>UG_PI_7_Tage_R_Wert</th>\n",
       "      <th>OG_PI_7_Tage_R_Wert</th>\n",
       "    </tr>\n",
       "  </thead>\n",
       "  <tbody>\n",
       "    <tr>\n",
       "      <th>0</th>\n",
       "      <td>2020-03-02</td>\n",
       "      <td>304</td>\n",
       "      <td>292</td>\n",
       "      <td>319</td>\n",
       "      <td>225</td>\n",
       "      <td>213</td>\n",
       "      <td>238</td>\n",
       "      <td>NaN</td>\n",
       "      <td>NaN</td>\n",
       "      <td>NaN</td>\n",
       "    </tr>\n",
       "    <tr>\n",
       "      <th>1</th>\n",
       "      <td>2020-03-03</td>\n",
       "      <td>321</td>\n",
       "      <td>304</td>\n",
       "      <td>337</td>\n",
       "      <td>261</td>\n",
       "      <td>248</td>\n",
       "      <td>276</td>\n",
       "      <td>NaN</td>\n",
       "      <td>NaN</td>\n",
       "      <td>NaN</td>\n",
       "    </tr>\n",
       "    <tr>\n",
       "      <th>2</th>\n",
       "      <td>2020-03-04</td>\n",
       "      <td>448</td>\n",
       "      <td>430</td>\n",
       "      <td>467</td>\n",
       "      <td>326</td>\n",
       "      <td>311</td>\n",
       "      <td>342</td>\n",
       "      <td>NaN</td>\n",
       "      <td>NaN</td>\n",
       "      <td>NaN</td>\n",
       "    </tr>\n",
       "    <tr>\n",
       "      <th>3</th>\n",
       "      <td>2020-03-05</td>\n",
       "      <td>503</td>\n",
       "      <td>485</td>\n",
       "      <td>525</td>\n",
       "      <td>394</td>\n",
       "      <td>378</td>\n",
       "      <td>412</td>\n",
       "      <td>NaN</td>\n",
       "      <td>NaN</td>\n",
       "      <td>NaN</td>\n",
       "    </tr>\n",
       "    <tr>\n",
       "      <th>4</th>\n",
       "      <td>2020-03-06</td>\n",
       "      <td>757</td>\n",
       "      <td>732</td>\n",
       "      <td>783</td>\n",
       "      <td>507</td>\n",
       "      <td>488</td>\n",
       "      <td>528</td>\n",
       "      <td>2.34</td>\n",
       "      <td>2.28</td>\n",
       "      <td>2.39</td>\n",
       "    </tr>\n",
       "  </tbody>\n",
       "</table>\n",
       "</div>\n",
       "      <button class=\"colab-df-convert\" onclick=\"convertToInteractive('df-dd6e72ea-3cb1-4026-9f04-a4b77685b265')\"\n",
       "              title=\"Convert this dataframe to an interactive table.\"\n",
       "              style=\"display:none;\">\n",
       "        \n",
       "  <svg xmlns=\"http://www.w3.org/2000/svg\" height=\"24px\"viewBox=\"0 0 24 24\"\n",
       "       width=\"24px\">\n",
       "    <path d=\"M0 0h24v24H0V0z\" fill=\"none\"/>\n",
       "    <path d=\"M18.56 5.44l.94 2.06.94-2.06 2.06-.94-2.06-.94-.94-2.06-.94 2.06-2.06.94zm-11 1L8.5 8.5l.94-2.06 2.06-.94-2.06-.94L8.5 2.5l-.94 2.06-2.06.94zm10 10l.94 2.06.94-2.06 2.06-.94-2.06-.94-.94-2.06-.94 2.06-2.06.94z\"/><path d=\"M17.41 7.96l-1.37-1.37c-.4-.4-.92-.59-1.43-.59-.52 0-1.04.2-1.43.59L10.3 9.45l-7.72 7.72c-.78.78-.78 2.05 0 2.83L4 21.41c.39.39.9.59 1.41.59.51 0 1.02-.2 1.41-.59l7.78-7.78 2.81-2.81c.8-.78.8-2.07 0-2.86zM5.41 20L4 18.59l7.72-7.72 1.47 1.35L5.41 20z\"/>\n",
       "  </svg>\n",
       "      </button>\n",
       "      \n",
       "  <style>\n",
       "    .colab-df-container {\n",
       "      display:flex;\n",
       "      flex-wrap:wrap;\n",
       "      gap: 12px;\n",
       "    }\n",
       "\n",
       "    .colab-df-convert {\n",
       "      background-color: #E8F0FE;\n",
       "      border: none;\n",
       "      border-radius: 50%;\n",
       "      cursor: pointer;\n",
       "      display: none;\n",
       "      fill: #1967D2;\n",
       "      height: 32px;\n",
       "      padding: 0 0 0 0;\n",
       "      width: 32px;\n",
       "    }\n",
       "\n",
       "    .colab-df-convert:hover {\n",
       "      background-color: #E2EBFA;\n",
       "      box-shadow: 0px 1px 2px rgba(60, 64, 67, 0.3), 0px 1px 3px 1px rgba(60, 64, 67, 0.15);\n",
       "      fill: #174EA6;\n",
       "    }\n",
       "\n",
       "    [theme=dark] .colab-df-convert {\n",
       "      background-color: #3B4455;\n",
       "      fill: #D2E3FC;\n",
       "    }\n",
       "\n",
       "    [theme=dark] .colab-df-convert:hover {\n",
       "      background-color: #434B5C;\n",
       "      box-shadow: 0px 1px 3px 1px rgba(0, 0, 0, 0.15);\n",
       "      filter: drop-shadow(0px 1px 2px rgba(0, 0, 0, 0.3));\n",
       "      fill: #FFFFFF;\n",
       "    }\n",
       "  </style>\n",
       "\n",
       "      <script>\n",
       "        const buttonEl =\n",
       "          document.querySelector('#df-dd6e72ea-3cb1-4026-9f04-a4b77685b265 button.colab-df-convert');\n",
       "        buttonEl.style.display =\n",
       "          google.colab.kernel.accessAllowed ? 'block' : 'none';\n",
       "\n",
       "        async function convertToInteractive(key) {\n",
       "          const element = document.querySelector('#df-dd6e72ea-3cb1-4026-9f04-a4b77685b265');\n",
       "          const dataTable =\n",
       "            await google.colab.kernel.invokeFunction('convertToInteractive',\n",
       "                                                     [key], {});\n",
       "          if (!dataTable) return;\n",
       "\n",
       "          const docLinkHtml = 'Like what you see? Visit the ' +\n",
       "            '<a target=\"_blank\" href=https://colab.research.google.com/notebooks/data_table.ipynb>data table notebook</a>'\n",
       "            + ' to learn more about interactive tables.';\n",
       "          element.innerHTML = '';\n",
       "          dataTable['output_type'] = 'display_data';\n",
       "          await google.colab.output.renderOutput(dataTable, element);\n",
       "          const docLink = document.createElement('div');\n",
       "          docLink.innerHTML = docLinkHtml;\n",
       "          element.appendChild(docLink);\n",
       "        }\n",
       "      </script>\n",
       "    </div>\n",
       "  </div>\n",
       "  "
      ],
      "text/plain": [
       "        Datum  PS_COVID_Faelle  UG_PI_COVID_Faelle  OG_PI_COVID_Faelle  \\\n",
       "0  2020-03-02              304                 292                 319   \n",
       "1  2020-03-03              321                 304                 337   \n",
       "2  2020-03-04              448                 430                 467   \n",
       "3  2020-03-05              503                 485                 525   \n",
       "4  2020-03-06              757                 732                 783   \n",
       "\n",
       "   PS_COVID_Faelle_ma4  UG_PI_COVID_Faelle_ma4  OG_PI_COVID_Faelle_ma4  \\\n",
       "0                  225                     213                     238   \n",
       "1                  261                     248                     276   \n",
       "2                  326                     311                     342   \n",
       "3                  394                     378                     412   \n",
       "4                  507                     488                     528   \n",
       "\n",
       "   PS_7_Tage_R_Wert  UG_PI_7_Tage_R_Wert  OG_PI_7_Tage_R_Wert  \n",
       "0               NaN                  NaN                  NaN  \n",
       "1               NaN                  NaN                  NaN  \n",
       "2               NaN                  NaN                  NaN  \n",
       "3               NaN                  NaN                  NaN  \n",
       "4              2.34                 2.28                 2.39  "
      ]
     },
     "execution_count": 9,
     "metadata": {},
     "output_type": "execute_result"
    }
   ],
   "source": [
    "df = pd.read_csv ('covid_19.csv',sep=',') # https://github.com/robert-koch-institut/SARS-CoV-2-Nowcasting_und_-R-Schaetzung\n",
    "df.head()"
   ]
  },
  {
   "cell_type": "markdown",
   "metadata": {
    "id": "1OZboDXTqXWj"
   },
   "source": [
    "3. Check the data we have available:"
   ]
  },
  {
   "cell_type": "code",
   "execution_count": 8,
   "metadata": {
    "colab": {
     "base_uri": "https://localhost:8080/"
    },
    "executionInfo": {
     "elapsed": 239,
     "status": "ok",
     "timestamp": 1668170042536,
     "user": {
      "displayName": "Rene Groh",
      "userId": "05263506107887311575"
     },
     "user_tz": -60
    },
    "id": "nbfDV7EMykIP",
    "outputId": "15301031-e8b8-40f3-8943-48c7a69f4d3c"
   },
   "outputs": [
    {
     "data": {
      "text/plain": [
       "Index(['Datum', 'PS_COVID_Faelle', 'UG_PI_COVID_Faelle', 'OG_PI_COVID_Faelle',\n",
       "       'PS_COVID_Faelle_ma4', 'UG_PI_COVID_Faelle_ma4',\n",
       "       'OG_PI_COVID_Faelle_ma4', 'PS_7_Tage_R_Wert', 'UG_PI_7_Tage_R_Wert',\n",
       "       'OG_PI_7_Tage_R_Wert'],\n",
       "      dtype='object')"
      ]
     },
     "execution_count": 8,
     "metadata": {},
     "output_type": "execute_result"
    }
   ],
   "source": [
    "df.columns"
   ]
  },
  {
   "cell_type": "markdown",
   "metadata": {
    "id": "mh3q-0cyKlyx"
   },
   "source": [
    "# Creating a Dash Layout"
   ]
  },
  {
   "cell_type": "code",
   "execution_count": 10,
   "metadata": {
    "executionInfo": {
     "elapsed": 236,
     "status": "ok",
     "timestamp": 1668170082263,
     "user": {
      "displayName": "Rene Groh",
      "userId": "05263506107887311575"
     },
     "user_tz": -60
    },
    "id": "HGn31_SL0AXR"
   },
   "outputs": [],
   "source": [
    "app = JupyterDash(__name__) ## Jupyter Dash app"
   ]
  },
  {
   "cell_type": "markdown",
   "metadata": {
    "id": "EzuCqcs2AQdS"
   },
   "source": [
    "4. Create a function that returns a bar plot using graph_objects: "
   ]
  },
  {
   "cell_type": "code",
   "execution_count": 13,
   "metadata": {
    "executionInfo": {
     "elapsed": 245,
     "status": "ok",
     "timestamp": 1668170297564,
     "user": {
      "displayName": "Rene Groh",
      "userId": "05263506107887311575"
     },
     "user_tz": -60
    },
    "id": "00ynIWPz0LTz"
   },
   "outputs": [],
   "source": [
    "# Function that creates a Bar plot from  a 'df' filtering 'data' with an 'initial_date'\n",
    "def plot_bar(df,colum, initial_date): \n",
    "  return go.Bar(x=df.query(\"Datum >'{}'\".format(initial_date))['Datum'],\n",
    "                y=df.query(\"Datum >'{}'\".format(initial_date))[colum].values,\n",
    "                name=\"raw daily cases\")"
   ]
  },
  {
   "cell_type": "markdown",
   "metadata": {
    "id": "0yk-FY0ZAR8a"
   },
   "source": [
    "5. Create a function that returns a line plot using graph_objects."
   ]
  },
  {
   "cell_type": "markdown",
   "metadata": {
    "id": "cjnFBDPTqXWl"
   },
   "source": [
    "How do we ask for specific colums in our pandas data frame using a boolean equation?"
   ]
  },
  {
   "cell_type": "code",
   "execution_count": 14,
   "metadata": {
    "executionInfo": {
     "elapsed": 5,
     "status": "ok",
     "timestamp": 1668170300222,
     "user": {
      "displayName": "Rene Groh",
      "userId": "05263506107887311575"
     },
     "user_tz": -60
    },
    "id": "3WJlUYp755i9"
   },
   "outputs": [],
   "source": [
    "# Function that creates a Line plot \n",
    "# It calculates the seven day average from  a 'df' filtering 'data' with an 'initial_date'\n",
    "def plot_line(df, colum, initial_date):\n",
    "  sevendays = movingAverage(df.query(\"Datum > '2021-01-01'\")[colum].values)\n",
    "  return go.Scatter(y = sevendays, x=df.query(\"Datum >'{}'\".format(initial_date))['Datum'], name =' 7 day average' )"
   ]
  },
  {
   "cell_type": "code",
   "execution_count": 11,
   "metadata": {
    "colab": {
     "base_uri": "https://localhost:8080/",
     "height": 357
    },
    "executionInfo": {
     "elapsed": 240,
     "status": "ok",
     "timestamp": 1668170223653,
     "user": {
      "displayName": "Rene Groh",
      "userId": "05263506107887311575"
     },
     "user_tz": -60
    },
    "id": "3A2_EVn6sXNF",
    "outputId": "8e46e308-183d-4d78-a7ac-979401b27579"
   },
   "outputs": [
    {
     "data": {
      "text/html": [
       "\n",
       "  <div id=\"df-fefc16be-4595-47e4-8413-5acd23000a1f\">\n",
       "    <div class=\"colab-df-container\">\n",
       "      <div>\n",
       "<style scoped>\n",
       "    .dataframe tbody tr th:only-of-type {\n",
       "        vertical-align: middle;\n",
       "    }\n",
       "\n",
       "    .dataframe tbody tr th {\n",
       "        vertical-align: top;\n",
       "    }\n",
       "\n",
       "    .dataframe thead th {\n",
       "        text-align: right;\n",
       "    }\n",
       "</style>\n",
       "<table border=\"1\" class=\"dataframe\">\n",
       "  <thead>\n",
       "    <tr style=\"text-align: right;\">\n",
       "      <th></th>\n",
       "      <th>Datum</th>\n",
       "      <th>PS_COVID_Faelle</th>\n",
       "      <th>UG_PI_COVID_Faelle</th>\n",
       "      <th>OG_PI_COVID_Faelle</th>\n",
       "      <th>PS_COVID_Faelle_ma4</th>\n",
       "      <th>UG_PI_COVID_Faelle_ma4</th>\n",
       "      <th>OG_PI_COVID_Faelle_ma4</th>\n",
       "      <th>PS_7_Tage_R_Wert</th>\n",
       "      <th>UG_PI_7_Tage_R_Wert</th>\n",
       "      <th>OG_PI_7_Tage_R_Wert</th>\n",
       "    </tr>\n",
       "  </thead>\n",
       "  <tbody>\n",
       "    <tr>\n",
       "      <th>0</th>\n",
       "      <td>2020-03-02</td>\n",
       "      <td>304</td>\n",
       "      <td>292</td>\n",
       "      <td>319</td>\n",
       "      <td>225</td>\n",
       "      <td>213</td>\n",
       "      <td>238</td>\n",
       "      <td>NaN</td>\n",
       "      <td>NaN</td>\n",
       "      <td>NaN</td>\n",
       "    </tr>\n",
       "    <tr>\n",
       "      <th>1</th>\n",
       "      <td>2020-03-03</td>\n",
       "      <td>321</td>\n",
       "      <td>304</td>\n",
       "      <td>337</td>\n",
       "      <td>261</td>\n",
       "      <td>248</td>\n",
       "      <td>276</td>\n",
       "      <td>NaN</td>\n",
       "      <td>NaN</td>\n",
       "      <td>NaN</td>\n",
       "    </tr>\n",
       "    <tr>\n",
       "      <th>2</th>\n",
       "      <td>2020-03-04</td>\n",
       "      <td>448</td>\n",
       "      <td>430</td>\n",
       "      <td>467</td>\n",
       "      <td>326</td>\n",
       "      <td>311</td>\n",
       "      <td>342</td>\n",
       "      <td>NaN</td>\n",
       "      <td>NaN</td>\n",
       "      <td>NaN</td>\n",
       "    </tr>\n",
       "    <tr>\n",
       "      <th>3</th>\n",
       "      <td>2020-03-05</td>\n",
       "      <td>503</td>\n",
       "      <td>485</td>\n",
       "      <td>525</td>\n",
       "      <td>394</td>\n",
       "      <td>378</td>\n",
       "      <td>412</td>\n",
       "      <td>NaN</td>\n",
       "      <td>NaN</td>\n",
       "      <td>NaN</td>\n",
       "    </tr>\n",
       "    <tr>\n",
       "      <th>4</th>\n",
       "      <td>2020-03-06</td>\n",
       "      <td>757</td>\n",
       "      <td>732</td>\n",
       "      <td>783</td>\n",
       "      <td>507</td>\n",
       "      <td>488</td>\n",
       "      <td>528</td>\n",
       "      <td>2.34</td>\n",
       "      <td>2.28</td>\n",
       "      <td>2.39</td>\n",
       "    </tr>\n",
       "  </tbody>\n",
       "</table>\n",
       "</div>\n",
       "      <button class=\"colab-df-convert\" onclick=\"convertToInteractive('df-fefc16be-4595-47e4-8413-5acd23000a1f')\"\n",
       "              title=\"Convert this dataframe to an interactive table.\"\n",
       "              style=\"display:none;\">\n",
       "        \n",
       "  <svg xmlns=\"http://www.w3.org/2000/svg\" height=\"24px\"viewBox=\"0 0 24 24\"\n",
       "       width=\"24px\">\n",
       "    <path d=\"M0 0h24v24H0V0z\" fill=\"none\"/>\n",
       "    <path d=\"M18.56 5.44l.94 2.06.94-2.06 2.06-.94-2.06-.94-.94-2.06-.94 2.06-2.06.94zm-11 1L8.5 8.5l.94-2.06 2.06-.94-2.06-.94L8.5 2.5l-.94 2.06-2.06.94zm10 10l.94 2.06.94-2.06 2.06-.94-2.06-.94-.94-2.06-.94 2.06-2.06.94z\"/><path d=\"M17.41 7.96l-1.37-1.37c-.4-.4-.92-.59-1.43-.59-.52 0-1.04.2-1.43.59L10.3 9.45l-7.72 7.72c-.78.78-.78 2.05 0 2.83L4 21.41c.39.39.9.59 1.41.59.51 0 1.02-.2 1.41-.59l7.78-7.78 2.81-2.81c.8-.78.8-2.07 0-2.86zM5.41 20L4 18.59l7.72-7.72 1.47 1.35L5.41 20z\"/>\n",
       "  </svg>\n",
       "      </button>\n",
       "      \n",
       "  <style>\n",
       "    .colab-df-container {\n",
       "      display:flex;\n",
       "      flex-wrap:wrap;\n",
       "      gap: 12px;\n",
       "    }\n",
       "\n",
       "    .colab-df-convert {\n",
       "      background-color: #E8F0FE;\n",
       "      border: none;\n",
       "      border-radius: 50%;\n",
       "      cursor: pointer;\n",
       "      display: none;\n",
       "      fill: #1967D2;\n",
       "      height: 32px;\n",
       "      padding: 0 0 0 0;\n",
       "      width: 32px;\n",
       "    }\n",
       "\n",
       "    .colab-df-convert:hover {\n",
       "      background-color: #E2EBFA;\n",
       "      box-shadow: 0px 1px 2px rgba(60, 64, 67, 0.3), 0px 1px 3px 1px rgba(60, 64, 67, 0.15);\n",
       "      fill: #174EA6;\n",
       "    }\n",
       "\n",
       "    [theme=dark] .colab-df-convert {\n",
       "      background-color: #3B4455;\n",
       "      fill: #D2E3FC;\n",
       "    }\n",
       "\n",
       "    [theme=dark] .colab-df-convert:hover {\n",
       "      background-color: #434B5C;\n",
       "      box-shadow: 0px 1px 3px 1px rgba(0, 0, 0, 0.15);\n",
       "      filter: drop-shadow(0px 1px 2px rgba(0, 0, 0, 0.3));\n",
       "      fill: #FFFFFF;\n",
       "    }\n",
       "  </style>\n",
       "\n",
       "      <script>\n",
       "        const buttonEl =\n",
       "          document.querySelector('#df-fefc16be-4595-47e4-8413-5acd23000a1f button.colab-df-convert');\n",
       "        buttonEl.style.display =\n",
       "          google.colab.kernel.accessAllowed ? 'block' : 'none';\n",
       "\n",
       "        async function convertToInteractive(key) {\n",
       "          const element = document.querySelector('#df-fefc16be-4595-47e4-8413-5acd23000a1f');\n",
       "          const dataTable =\n",
       "            await google.colab.kernel.invokeFunction('convertToInteractive',\n",
       "                                                     [key], {});\n",
       "          if (!dataTable) return;\n",
       "\n",
       "          const docLinkHtml = 'Like what you see? Visit the ' +\n",
       "            '<a target=\"_blank\" href=https://colab.research.google.com/notebooks/data_table.ipynb>data table notebook</a>'\n",
       "            + ' to learn more about interactive tables.';\n",
       "          element.innerHTML = '';\n",
       "          dataTable['output_type'] = 'display_data';\n",
       "          await google.colab.output.renderOutput(dataTable, element);\n",
       "          const docLink = document.createElement('div');\n",
       "          docLink.innerHTML = docLinkHtml;\n",
       "          element.appendChild(docLink);\n",
       "        }\n",
       "      </script>\n",
       "    </div>\n",
       "  </div>\n",
       "  "
      ],
      "text/plain": [
       "        Datum  PS_COVID_Faelle  UG_PI_COVID_Faelle  OG_PI_COVID_Faelle  \\\n",
       "0  2020-03-02              304                 292                 319   \n",
       "1  2020-03-03              321                 304                 337   \n",
       "2  2020-03-04              448                 430                 467   \n",
       "3  2020-03-05              503                 485                 525   \n",
       "4  2020-03-06              757                 732                 783   \n",
       "\n",
       "   PS_COVID_Faelle_ma4  UG_PI_COVID_Faelle_ma4  OG_PI_COVID_Faelle_ma4  \\\n",
       "0                  225                     213                     238   \n",
       "1                  261                     248                     276   \n",
       "2                  326                     311                     342   \n",
       "3                  394                     378                     412   \n",
       "4                  507                     488                     528   \n",
       "\n",
       "   PS_7_Tage_R_Wert  UG_PI_7_Tage_R_Wert  OG_PI_7_Tage_R_Wert  \n",
       "0               NaN                  NaN                  NaN  \n",
       "1               NaN                  NaN                  NaN  \n",
       "2               NaN                  NaN                  NaN  \n",
       "3               NaN                  NaN                  NaN  \n",
       "4              2.34                 2.28                 2.39  "
      ]
     },
     "execution_count": 11,
     "metadata": {},
     "output_type": "execute_result"
    }
   ],
   "source": [
    "df.head()"
   ]
  },
  {
   "cell_type": "code",
   "execution_count": 15,
   "metadata": {
    "executionInfo": {
     "elapsed": 229,
     "status": "ok",
     "timestamp": 1668170405010,
     "user": {
      "displayName": "Rene Groh",
      "userId": "05263506107887311575"
     },
     "user_tz": -60
    },
    "id": "otvuydy10jPa"
   },
   "outputs": [],
   "source": [
    "colum = 'PS_COVID_Faelle'      # first data to display\n",
    "\n",
    "initial_date = '2021-01-01'    \n",
    "\n",
    "bar = plot_bar(df,colum, initial_date)   # creating the go.Bar object\n",
    "\n",
    "line = plot_line(df, colum,initial_date) # creating the go.Scatter object "
   ]
  },
  {
   "cell_type": "markdown",
   "metadata": {
    "id": "l73RGI-MOE8x"
   },
   "source": [
    "We can create a Figure that contains the plots:"
   ]
  },
  {
   "cell_type": "code",
   "execution_count": 16,
   "metadata": {
    "executionInfo": {
     "elapsed": 509,
     "status": "ok",
     "timestamp": 1668170409374,
     "user": {
      "displayName": "Rene Groh",
      "userId": "05263506107887311575"
     },
     "user_tz": -60
    },
    "id": "9idUeGBhQeH6"
   },
   "outputs": [],
   "source": [
    " # Function that creates a Plotly Figure. \n",
    " # The Figure displays the plots contained in 'input'.\n",
    " # The figure will have a width of 'w' and a height of 'h'\n",
    "def create_fig(input, w = 900, h = 600 ):\n",
    "  fig = go.Figure(data = input).update_layout(\n",
    "                  width=w,  # setting  width\n",
    "                  height=h, # setting  height   \n",
    "                  updatemenus = list([dict(\n",
    "                                type=\"buttons\", # Buttons to activate/deactivate plots\n",
    "                                active=0,       # First button will be active by default                 \n",
    "                                buttons=list([\n",
    "                                            # Button 1\n",
    "                                            dict(label = 'Raw daily cases', # name of the button\n",
    "                                                    method = 'update',        # method used to refresh the image\n",
    "                                                    args = [{'visible': [True, False]}, # which plot will be available (only first) \n",
    "                                                            {'title': 'Covid-19 Cases in Germany'}]), # name of the plot\n",
    "                                            # Button 2\n",
    "                                            dict(label = '7 Day average', # name of the button\n",
    "                                                    method = 'update',\n",
    "                                                    args = [{'visible': [False, True]},\n",
    "                                                            {'title': 'Covid-19 Cases in Germany'}]), \n",
    "                                            # Button 3\n",
    "                                            dict(label = 'Both',\n",
    "                                                    method = 'update',\n",
    "                                                    args = [{'visible': [True, True]},\n",
    "                                                            {'title': 'Covid-19 Cases in Germany'}])\n",
    "                            ]),\n",
    "                        )\n",
    "                    ])\n",
    "                )\n",
    "  return fig\n"
   ]
  },
  {
   "cell_type": "code",
   "execution_count": 17,
   "metadata": {
    "executionInfo": {
     "elapsed": 235,
     "status": "ok",
     "timestamp": 1668170438229,
     "user": {
      "displayName": "Rene Groh",
      "userId": "05263506107887311575"
     },
     "user_tz": -60
    },
    "id": "XBl09r3QTmmy"
   },
   "outputs": [],
   "source": [
    "input = [bar, line] #bar plot, line plot\n",
    "\n",
    "fig = create_fig(input)"
   ]
  },
  {
   "cell_type": "markdown",
   "metadata": {
    "id": "yQcReKNJLffF"
   },
   "source": [
    "6. Create a Dropdown that will update the data of your plots."
   ]
  },
  {
   "cell_type": "code",
   "execution_count": 19,
   "metadata": {
    "executionInfo": {
     "elapsed": 332,
     "status": "ok",
     "timestamp": 1668170462549,
     "user": {
      "displayName": "Rene Groh",
      "userId": "05263506107887311575"
     },
     "user_tz": -60
    },
    "id": "7v_fo6f_ZujH"
   },
   "outputs": [],
   "source": [
    "# Dropdown from dash_core_components\n",
    "dd = dcc.Dropdown(\n",
    "        id='dd',\n",
    "        # options: dictionary containing all the options.\n",
    "        # 'label' is the label of the option display to the user \n",
    "        # 'value' is the internal value to work with\n",
    "        options=[\n",
    "            {'label': 'PS', 'value': 'PS_COVID_Faelle' },       # option 1\n",
    "            {'label': 'UG_PI', 'value': 'UG_PI_COVID_Faelle'},  # option 2\n",
    "            {'label': 'OG_PI', 'value': 'OG_PI_COVID_Faelle'}], # option 3\n",
    "            value = 'PS_COVID_Faelle' )#initial value"
   ]
  },
  {
   "cell_type": "markdown",
   "metadata": {
    "id": "0V2jB96uL7o_"
   },
   "source": [
    "We create the final layout with a the ``Content Division`` element of the html:"
   ]
  },
  {
   "cell_type": "code",
   "execution_count": 20,
   "metadata": {
    "executionInfo": {
     "elapsed": 270,
     "status": "ok",
     "timestamp": 1668170476691,
     "user": {
      "displayName": "Rene Groh",
      "userId": "05263506107887311575"
     },
     "user_tz": -60
    },
    "id": "UvEaXswQa4JT"
   },
   "outputs": [],
   "source": [
    "app.layout = html.Div([\n",
    "    html.H1(\"Covid cases in Germany \"),   # Title\n",
    "    dcc.Graph(id='graph', figure = fig),  # Graph that contains the figure (Look at the ID!!) \n",
    "    dd, # Dropdown under the figure\n",
    "])"
   ]
  },
  {
   "cell_type": "markdown",
   "metadata": {
    "id": "LdQAeN7kbWc2"
   },
   "source": [
    "Working with callbacks"
   ]
  },
  {
   "cell_type": "markdown",
   "metadata": {
    "id": "0f5zEYi_EDdu"
   },
   "source": [
    "7. Create the ``callback`` to update your plot. Calcualte again the seven day average and make the plots using the new entry. Then, feed the graph with your new figure."
   ]
  },
  {
   "cell_type": "code",
   "execution_count": 21,
   "metadata": {
    "executionInfo": {
     "elapsed": 237,
     "status": "ok",
     "timestamp": 1668170599169,
     "user": {
      "displayName": "Rene Groh",
      "userId": "05263506107887311575"
     },
     "user_tz": -60
    },
    "id": "r16CcRTxbUk3"
   },
   "outputs": [],
   "source": [
    "@app.callback(\n",
    "    Output('graph', 'figure'),\n",
    "    Input('dd', 'value')\n",
    "  )\n",
    "\n",
    "def update_output(value):\n",
    "  # we re-call the function but now with a given new data obtained from the dropdown selection\n",
    "\n",
    "  bar = plot_bar(df,value, initial_date)\n",
    "\n",
    "  line = plot_line(df, value,initial_date)\n",
    "   \n",
    "  # we pass the bar plot and the line to the figure and return it to the graph.\n",
    "  return create_fig([bar, line]) "
   ]
  },
  {
   "cell_type": "markdown",
   "metadata": {
    "id": "Bbf9uOXTMBMq"
   },
   "source": [
    "Finally, we run the app using the port 8090. You can either follow the link, or use the ``inline mode`` to display the app on a cell of Jupyter Notebook/ Google Colab."
   ]
  },
  {
   "cell_type": "code",
   "execution_count": 22,
   "metadata": {
    "colab": {
     "base_uri": "https://localhost:8080/",
     "height": 52
    },
    "executionInfo": {
     "elapsed": 268,
     "status": "ok",
     "timestamp": 1668170605043,
     "user": {
      "displayName": "Rene Groh",
      "userId": "05263506107887311575"
     },
     "user_tz": -60
    },
    "id": "XWkflsAtcqPk",
    "outputId": "b4d2df19-d514-4f91-f53d-a99464e1fea4"
   },
   "outputs": [
    {
     "name": "stdout",
     "output_type": "stream",
     "text": [
      "Dash app running on:\n"
     ]
    },
    {
     "data": {
      "application/javascript": [
       "(async (port, path, text, element) => {\n",
       "    if (!google.colab.kernel.accessAllowed) {\n",
       "      return;\n",
       "    }\n",
       "    element.appendChild(document.createTextNode(''));\n",
       "    const url = await google.colab.kernel.proxyPort(port);\n",
       "    const anchor = document.createElement('a');\n",
       "    anchor.href = new URL(path, url).toString();\n",
       "    anchor.target = '_blank';\n",
       "    anchor.setAttribute('data-href', url + path);\n",
       "    anchor.textContent = text;\n",
       "    element.appendChild(anchor);\n",
       "  })(8090, \"/\", \"http://127.0.0.1:8090/\", window.element)"
      ],
      "text/plain": [
       "<IPython.core.display.Javascript object>"
      ]
     },
     "metadata": {},
     "output_type": "display_data"
    }
   ],
   "source": [
    "if __name__ == '__main__':\n",
    "  app.run_server(port = 8090, dev_tools_ui=True, debug=True,\n",
    "              dev_tools_hot_reload =True, threaded=True)"
   ]
  }
 ],
 "metadata": {
  "colab": {
   "collapsed_sections": [],
   "provenance": []
  },
  "kernelspec": {
   "display_name": "Python 3 (ipykernel)",
   "language": "python",
   "name": "python3"
  },
  "language_info": {
   "codemirror_mode": {
    "name": "ipython",
    "version": 3
   },
   "file_extension": ".py",
   "mimetype": "text/x-python",
   "name": "python",
   "nbconvert_exporter": "python",
   "pygments_lexer": "ipython3",
   "version": "3.9.12"
  }
 },
 "nbformat": 4,
 "nbformat_minor": 1
}
