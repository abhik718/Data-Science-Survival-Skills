{
 "cells": [
  {
   "cell_type": "markdown",
   "metadata": {},
   "source": [
    "# Exercise 03: Dash/Plotly\n",
    "\n",
    "Requirements: Numpy, pandas, dash and jupyter_dash"
   ]
  },
  {
   "cell_type": "code",
   "execution_count": null,
   "metadata": {
    "id": "i1SEP92jxi1Q"
   },
   "outputs": [],
   "source": [
    "\n",
    "# In case you have problems, try using this specific versions: \n",
    "# !pip install -q jupyter_dash==0.3.0\n",
    "# !pip install -q dash==1.19.0\n",
    "# import dash_core_components as dcc\n",
    "# import dash_html_components as html"
   ]
  },
  {
   "cell_type": "code",
   "execution_count": null,
   "metadata": {
    "colab": {
     "base_uri": "https://localhost:8080/",
     "height": 35
    },
    "executionInfo": {
     "elapsed": 410,
     "status": "ok",
     "timestamp": 1643890989915,
     "user": {
      "displayName": "Hernan Alberto Aguilera Abril",
      "photoUrl": "https://lh3.googleusercontent.com/a-/AOh14Gh2d_3UxHqpx21-Mq49AyJ13XbBUREW0e6TtohDYA=s64",
      "userId": "06567418598318698093"
     },
     "user_tz": -60
    },
    "id": "6ZZ2JSl5fiQg",
    "outputId": "15809ac0-ba78-4b82-d72d-d59e2ced3d79"
   },
   "outputs": [],
   "source": [
    "# We need to use a package to be able to run dash embedded in a jupyter notebook"
   ]
  },
  {
   "cell_type": "code",
   "execution_count": null,
   "metadata": {
    "id": "IEgAqLZmx2iN"
   },
   "outputs": [],
   "source": [
    "# Other modules"
   ]
  },
  {
   "cell_type": "markdown",
   "metadata": {},
   "source": [
    "Let's make a random Bar plot using graph_objects "
   ]
  },
  {
   "cell_type": "code",
   "execution_count": null,
   "metadata": {},
   "outputs": [],
   "source": [
    "# If you have problems running the next line, try using: \n",
    "# !pip install --upgrade nbformat"
   ]
  },
  {
   "cell_type": "code",
   "execution_count": null,
   "metadata": {},
   "outputs": [],
   "source": [
    "mu, sigma = 1, 0.5 # mean and standard deviation\n",
    "s = np.random.normal(mu, sigma, 1000)\n",
    "hist, bin_edges = np.histogram(s, 20, density=True)\n"
   ]
  },
  {
   "cell_type": "markdown",
   "metadata": {},
   "source": [
    "# Preparing our data"
   ]
  },
  {
   "cell_type": "markdown",
   "metadata": {
    "id": "D0VIi_qqKSUx"
   },
   "source": [
    "1. Create a function to calculate the seven day average from a dataset. \n",
    "\n",
    "    * It takes two arguments: the datapoints and a window size. \n",
    "\n",
    "    * It should shift the window over the given points and calculate the mean within that window. "
   ]
  },
  {
   "cell_type": "code",
   "execution_count": null,
   "metadata": {
    "id": "pnDGNaGxyuI2"
   },
   "outputs": [],
   "source": [
    "def movingAverage(x, window):\n",
    "    \n",
    "    return something"
   ]
  },
  {
   "cell_type": "markdown",
   "metadata": {},
   "source": [
    "2. Read the csv using pandas"
   ]
  },
  {
   "cell_type": "code",
   "execution_count": null,
   "metadata": {
    "id": "rx4XjVxOxpIl"
   },
   "outputs": [],
   "source": []
  },
  {
   "cell_type": "markdown",
   "metadata": {},
   "source": [
    "3. Check the data we have available:"
   ]
  },
  {
   "cell_type": "code",
   "execution_count": null,
   "metadata": {
    "colab": {
     "base_uri": "https://localhost:8080/"
    },
    "executionInfo": {
     "elapsed": 12,
     "status": "ok",
     "timestamp": 1643890990410,
     "user": {
      "displayName": "Hernan Alberto Aguilera Abril",
      "photoUrl": "https://lh3.googleusercontent.com/a-/AOh14Gh2d_3UxHqpx21-Mq49AyJ13XbBUREW0e6TtohDYA=s64",
      "userId": "06567418598318698093"
     },
     "user_tz": -60
    },
    "id": "nbfDV7EMykIP",
    "outputId": "430b34a7-3e47-406b-cef6-bd818cac1adb"
   },
   "outputs": [],
   "source": []
  },
  {
   "cell_type": "markdown",
   "metadata": {
    "id": "mh3q-0cyKlyx"
   },
   "source": [
    "# Creating a Dash Layout"
   ]
  },
  {
   "cell_type": "code",
   "execution_count": null,
   "metadata": {
    "id": "HGn31_SL0AXR"
   },
   "outputs": [],
   "source": []
  },
  {
   "cell_type": "markdown",
   "metadata": {
    "id": "EzuCqcs2AQdS"
   },
   "source": [
    "4. Create a function that returns a bar plot using graph_objects: "
   ]
  },
  {
   "cell_type": "code",
   "execution_count": null,
   "metadata": {
    "id": "00ynIWPz0LTz"
   },
   "outputs": [],
   "source": [
    "# Function that creates a Bar plot from  a 'df' filtering 'data' with an 'initial_date'\n",
    "def plot_bar(df,colum, initial_date): \n",
    "  return go.Bar(# x = \n",
    "                # y =\n",
    "                name=\"raw daily cases\")"
   ]
  },
  {
   "cell_type": "markdown",
   "metadata": {
    "id": "0yk-FY0ZAR8a"
   },
   "source": [
    "5. Create a function that returns a line plot using graph_objects."
   ]
  },
  {
   "cell_type": "markdown",
   "metadata": {},
   "source": [
    "How do we ask for specific colums in our pandas data frame using a boolean equation?"
   ]
  },
  {
   "cell_type": "code",
   "execution_count": null,
   "metadata": {
    "id": "3WJlUYp755i9"
   },
   "outputs": [],
   "source": [
    "# Function that creates a Line plot \n",
    "# It calculates the seven day average from  a 'df' filtering 'data' with an 'initial_date'\n",
    "def plot_line(df, colum, initial_date):\n",
    "  sevendays = movingAverage(df.query(\"Datum > '2021-01-01'\")[colum].values)\n",
    "  return go.Scatter(#y = sevendays, \n",
    "                    #x=df.query(\"Datum >'{}'\".format(initial_date))['Datum'], \n",
    "                    # name =' 7 day average' )"
   ]
  },
  {
   "cell_type": "code",
   "execution_count": null,
   "metadata": {
    "id": "otvuydy10jPa"
   },
   "outputs": [],
   "source": [
    "colum = 'PS_COVID_Faelle'      # first data to display\n",
    "\n",
    "initial_date = '2021-01-01'    \n",
    "\n",
    "bar = plot_bar(df,colum, initial_date)   # creating the go.Bar object\n",
    "\n",
    "line = plot_line(df, colum,initial_date) # creating the go.Scatter object "
   ]
  },
  {
   "cell_type": "markdown",
   "metadata": {
    "id": "l73RGI-MOE8x"
   },
   "source": [
    "We can create a Figure that contains the plots:"
   ]
  },
  {
   "cell_type": "code",
   "execution_count": null,
   "metadata": {
    "id": "9idUeGBhQeH6"
   },
   "outputs": [],
   "source": [
    " # Function that creates a Plotly Figure. \n",
    " # The Figure displays the plots contained in 'input'.\n",
    " # The figure will have a width of 'w' and a height of 'h'\n",
    "def create_fig(input, w = 900, h = 600 ):\n",
    "  fig = go.Figure(data = input).update_layout(\n",
    "                  width=w,  # setting  width\n",
    "                  height=h, # setting  height   \n",
    "                  updatemenus = list([dict(\n",
    "                                type=\"buttons\", # Buttons to activate/deactivate plots\n",
    "                                active=0,       # First button will be active by default                 \n",
    "                                buttons=list([\n",
    "                                            # Button 1\n",
    "                                            dict(label = 'Raw daily cases', # name of the button\n",
    "                                                    method = 'update',        # method used to refresh the image\n",
    "                                                    args = [{'visible': [True, False]}, # which plot will be available (only first) \n",
    "                                                            {'title': 'Covid-19 Cases in Germany'}]), # name of the plot\n",
    "                                            # Button 2\n",
    "                                            dict(label = '7 Day average', # name of the button\n",
    "                                                    method = 'update',\n",
    "                                                    args = [{'visible': [False, True]},\n",
    "                                                            {'title': 'Covid-19 Cases in Germany'}]), \n",
    "                                            # Button 3\n",
    "                                            dict(label = 'Both',\n",
    "                                                    method = 'update',\n",
    "                                                    args = [{'visible': [True, True]},\n",
    "                                                            {'title': 'Covid-19 Cases in Germany'}])\n",
    "                            ]),\n",
    "                        )\n",
    "                    ])\n",
    "                )\n",
    "  return fig\n"
   ]
  },
  {
   "cell_type": "code",
   "execution_count": null,
   "metadata": {
    "id": "XBl09r3QTmmy"
   },
   "outputs": [],
   "source": [
    "input = [bar, line] #bar plot, line plot\n",
    "\n",
    "fig = create_fig(input)"
   ]
  },
  {
   "cell_type": "markdown",
   "metadata": {
    "id": "yQcReKNJLffF"
   },
   "source": [
    "6. Create a Dropdown that will update the data of your plots."
   ]
  },
  {
   "cell_type": "code",
   "execution_count": null,
   "metadata": {
    "id": "7v_fo6f_ZujH"
   },
   "outputs": [],
   "source": [
    "# Dropdown from dash_core_components\n",
    "dd = dcc.Dropdown(\n",
    "        id='dropdown',\n",
    "        # options: dictionary containing all the options.\n",
    "        # 'label' is the label of the option display to the user \n",
    "        # 'value' is the internal value to work with\n",
    "        options=[\n",
    "            {'label': 'PS', 'value': 'PS_COVID_Faelle' },       # option 1\n",
    "            {'label': 'UG_PI', 'value': 'UG_PI_COVID_Faelle'},  # option 2\n",
    "            {'label': 'OG_PI', 'value': 'OG_PI_COVID_Faelle'}], # option 3\n",
    "            value = 'PS_COVID_Faelle' )#initial value"
   ]
  },
  {
   "cell_type": "markdown",
   "metadata": {
    "id": "0V2jB96uL7o_"
   },
   "source": [
    "We create the final layout with a the ``Content Division`` element of the html:"
   ]
  },
  {
   "cell_type": "code",
   "execution_count": null,
   "metadata": {
    "id": "UvEaXswQa4JT"
   },
   "outputs": [],
   "source": [
    "app.layout = html.Div([\n",
    "      # Title\n",
    "      # Graph that contains the figure (Look at the ID!!) \n",
    "      # Dropdown under the figure\n",
    "])"
   ]
  },
  {
   "cell_type": "markdown",
   "metadata": {
    "id": "LdQAeN7kbWc2"
   },
   "source": [
    "Working with callbacks"
   ]
  },
  {
   "cell_type": "markdown",
   "metadata": {
    "id": "0f5zEYi_EDdu"
   },
   "source": [
    "7. Create the ``callback`` to update your plot. Calcualte again the seven day average and make the plots using the new entry. Then, feed the graph with your new figure."
   ]
  },
  {
   "cell_type": "code",
   "execution_count": null,
   "metadata": {
    "id": "r16CcRTxbUk3"
   },
   "outputs": [],
   "source": [
    "@app.callback(\n",
    "    Output(),\n",
    "    Input()\n",
    "  )\n",
    "\n",
    "def update_output(value):\n",
    "  # we re-call the function but now with a given new data obtained from the dropdown selection\n",
    "\n",
    "  bar = plot_bar(df,value, initial_date)\n",
    "\n",
    "  line = plot_line(df, value,initial_date)\n",
    "   \n",
    "  # we pass the bar plot and the line to the figure and return it to the graph.\n",
    "  return "
   ]
  },
  {
   "cell_type": "markdown",
   "metadata": {
    "id": "Bbf9uOXTMBMq"
   },
   "source": [
    "Finally, we run the app using the port 8090. You can either follow the link, or use the ``inline mode`` to display the app on a cell of Jupyter Notebook/ Google Colab."
   ]
  },
  {
   "cell_type": "code",
   "execution_count": null,
   "metadata": {
    "colab": {
     "base_uri": "https://localhost:8080/",
     "height": 52
    },
    "executionInfo": {
     "elapsed": 8,
     "status": "ok",
     "timestamp": 1643891152267,
     "user": {
      "displayName": "Hernan Alberto Aguilera Abril",
      "photoUrl": "https://lh3.googleusercontent.com/a-/AOh14Gh2d_3UxHqpx21-Mq49AyJ13XbBUREW0e6TtohDYA=s64",
      "userId": "06567418598318698093"
     },
     "user_tz": -60
    },
    "id": "XWkflsAtcqPk",
    "outputId": "211733ad-ebd9-4506-af01-6156176b039e"
   },
   "outputs": [],
   "source": [
    "if __name__ == '__main__':\n",
    "  # Do something\n",
    "  pass"
   ]
  }
 ],
 "metadata": {
  "colab": {
   "authorship_tag": "ABX9TyPeDAoebOIEks38e1bjNHBN",
   "collapsed_sections": [],
   "name": "EX12_debug.ipynb",
   "provenance": []
  },
  "kernelspec": {
   "display_name": "Python 3 (ipykernel)",
   "language": "python",
   "name": "python3"
  },
  "language_info": {
   "codemirror_mode": {
    "name": "ipython",
    "version": 3
   },
   "file_extension": ".py",
   "mimetype": "text/x-python",
   "name": "python",
   "nbconvert_exporter": "python",
   "pygments_lexer": "ipython3",
   "version": "3.9.12"
  }
 },
 "nbformat": 4,
 "nbformat_minor": 1
}
