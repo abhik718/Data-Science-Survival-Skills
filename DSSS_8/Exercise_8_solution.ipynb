{
 "cells": [
  {
   "cell_type": "code",
   "execution_count": 3,
   "metadata": {},
   "outputs": [
    {
     "ename": "SyntaxError",
     "evalue": "invalid syntax (2259440937.py, line 1)",
     "output_type": "error",
     "traceback": [
      "\u001b[1;36m  Input \u001b[1;32mIn [3]\u001b[1;36m\u001b[0m\n\u001b[1;33m    conda create -n tf tensorflow\u001b[0m\n\u001b[1;37m          ^\u001b[0m\n\u001b[1;31mSyntaxError\u001b[0m\u001b[1;31m:\u001b[0m invalid syntax\n"
     ]
    }
   ],
   "source": [
    "conda create -n tf tensorflow\n",
    "conda activate tf"
   ]
  },
  {
   "cell_type": "code",
   "execution_count": 2,
   "metadata": {
    "executionInfo": {
     "elapsed": 3887,
     "status": "ok",
     "timestamp": 1671186236256,
     "user": {
      "displayName": "Rene Groh",
      "userId": "05263506107887311575"
     },
     "user_tz": -60
    },
    "id": "TGb5G2UD2vGH"
   },
   "outputs": [
    {
     "ename": "ModuleNotFoundError",
     "evalue": "No module named 'tensorflow'",
     "output_type": "error",
     "traceback": [
      "\u001b[1;31m---------------------------------------------------------------------------\u001b[0m",
      "\u001b[1;31mModuleNotFoundError\u001b[0m                       Traceback (most recent call last)",
      "Input \u001b[1;32mIn [2]\u001b[0m, in \u001b[0;36m<cell line: 1>\u001b[1;34m()\u001b[0m\n\u001b[1;32m----> 1\u001b[0m \u001b[38;5;28;01mimport\u001b[39;00m \u001b[38;5;21;01mtensorflow\u001b[39;00m \u001b[38;5;28;01mas\u001b[39;00m \u001b[38;5;21;01mtf\u001b[39;00m\n\u001b[0;32m      2\u001b[0m \u001b[38;5;28;01mimport\u001b[39;00m \u001b[38;5;21;01mtensorflow_datasets\u001b[39;00m \u001b[38;5;28;01mas\u001b[39;00m \u001b[38;5;21;01mtfds\u001b[39;00m\n\u001b[0;32m      3\u001b[0m \u001b[38;5;28;01mimport\u001b[39;00m \u001b[38;5;21;01mnumpy\u001b[39;00m \u001b[38;5;28;01mas\u001b[39;00m \u001b[38;5;21;01mnp\u001b[39;00m\n",
      "\u001b[1;31mModuleNotFoundError\u001b[0m: No module named 'tensorflow'"
     ]
    }
   ],
   "source": [
    "import tensorflow as tf\n",
    "import tensorflow_datasets as tfds\n",
    "import numpy as np\n",
    "import matplotlib.pyplot as plt \n",
    "import seaborn as sns"
   ]
  },
  {
   "cell_type": "code",
   "execution_count": 3,
   "metadata": {
    "colab": {
     "base_uri": "https://localhost:8080/",
     "height": 148,
     "referenced_widgets": [
      "d510e5091cea4717b5a45bc9e116b0c7",
      "eac2b35257d643589e7f4536f0fd943e",
      "8f8c83d0381345e097fb9cbcba72e87e",
      "def9b610cfc447aab078af1f0af8d379",
      "b623d35e8f874ba59413897130863259",
      "2201913fa1974c409a6a8ddeef2659a7",
      "e808a81b3f704aba9761be89f5ac8811",
      "4321bec53dde4cad86a44a3822e438ed",
      "e312be0d0e304f5eae24a218fee9a010",
      "3c0f737c4827413daa60b974626be7d8",
      "230bc3719c884c538968acb10f8704e9",
      "f2f52ce71acd46bca080283e9ed7e1ed",
      "5a279c43419d4a7484cfc6bd92d20210",
      "0161cb60ef714e82b26c89c70d96f3e9",
      "dffb6d8a2a694e7e87a3e2defd401cf2",
      "de4f910617784294a4caea86f5746f95",
      "7601c6ec2f764b6c9b51518c7b29c6aa",
      "570a0f4993384210a3f0124f1a7d7af4",
      "31df53a0026c4d6cb8bce26cd155c0c8",
      "23fefa0ae12e4b9ca15f46cb890cc6da",
      "2eec08cafc334e5090c61dca480068f0",
      "772565bf9488407fac71695326410394",
      "7b800c1800244562b865383167e34cb6",
      "151a50ca78d24e20a33ae32c80c3dd87",
      "03710593a069427cafb9cabd94675bc2",
      "9d9e522529854600b2cee2c069804d94",
      "d4afc6afc63843499d47368788ecb0a7",
      "6dd33a55245f41bbb7e3560abc7d9207",
      "9d7df7c3f1464e368cee6ce89dc6f018",
      "c731defc5e934d3daba23b1ec9a6303b",
      "88bb9bac631345aca631fb9a992ccdde",
      "42c9e1180f4e4325b655e1eee3efdd18",
      "720374d1e374428d9ef3e3f98581f7af",
      "8731ae9eb81f4fad82218760075866e9",
      "26288ef2a19449c3b01b86cfa9993adf",
      "6c743964ea5c4a0ca1e45bc6dd9c4a1f",
      "7a82961bbe7a479cb025cc0b104ca669",
      "e5062db356fa4791b37f292fb0e3d249",
      "b9ae1da38ec44800897b7b6bc5b7832c",
      "fbde5346386d428aa18e2b39ab8f6239",
      "e259bc73a0a046a0ba7573c9dc622d55",
      "d5975689dc0344af8368c5a185cd8141",
      "d4062ffff25b4570b97db017797c0fa6",
      "42372e14576d47e2866ea087efc75a72",
      "9ad21e35e91848b4acb2390f39b51f1b",
      "4402ad8417744ee1acd5ab14bdf5d29d",
      "5e4143463a754a05981b504cd2d5bc15",
      "d13bf0ab11b24c5ea9f6aa7927566a62",
      "298db1dcfd614e609af4f712acaab7de",
      "51e5472b7d67483d937f3c950fde7e77",
      "6762ab497748481281e52e6a0111ac30",
      "ed1fc5bcde88433e8771652e74c981ea",
      "9951e743417d4d4e9678cfb81837f0b2",
      "5a4ab81121d843da9ae3af783c4ebb52",
      "7fcf87d24bcc4197be2e195506b7d9b9",
      "496ff539f23d40fb92d23269dd6f7004",
      "54b20a4e50914019a20aac89cb8fe9e7",
      "93d36718780849a582b57b2792323859",
      "297955f84b5b4d9d8839d2175125b0f8",
      "89e8bc13c1d847a2a34cb3d4e844d09b",
      "7b179844dd3141798e0bcfc04a594e07",
      "e73413dcada44bb4bf625c80da8587b9",
      "0bd5dac626454b27abd0e4ec209277ff",
      "e9ca48d22f2d45039452d15b737924d5",
      "996b7d79e5704c57834dd840b08c7241",
      "290af7ba5d6648bba8d29a2c8746271e",
      "753c38d7ac4440ecae969d1da3a4f4d0",
      "931d575d8ae4488cabfb2170479c1541",
      "2a5ba3a54a32474dbf866bc4916feaa0",
      "be164a13e3124ed3b85017508f291a29",
      "e1825fbf18d34e5092bcaa3215e24ab8",
      "e8e3ae1e935f4aefa81824030021b464",
      "94490f9b945e4b6780d2c8271d29d893",
      "0ecd9e70093d4f7cae0f360f8712e2b7",
      "21a16410127e4a72b92d32bf584e381a",
      "4d745e9514b14c6e850572472616ff90",
      "e31d631bebaf4715a10932069408823b",
      "6ac34aaeea454a11b3d8eb3fc69439b3",
      "432c6e765c784631ad31ccc0eb6268eb",
      "67671ee76ae74d1488ad4986824c89d8",
      "c2575b1b8f6144bdbc4c11038241efd5",
      "515871be3c674e2d866ec88edee3fd02",
      "4cab8fee33e74411a3a321ec16aac35b",
      "ee63092412784768ad6a6a63d76e2cfd",
      "6bf3b51cb7c7494b969b0239786c146e",
      "782099a4a4684f8d8548a70a6fa9bf8f",
      "2edefd16ac3846b6b2ea7321d1a2ea6d",
      "e3602b46f4034caa9745efa902e3861e"
     ]
    },
    "executionInfo": {
     "elapsed": 79076,
     "status": "ok",
     "timestamp": 1671186315328,
     "user": {
      "displayName": "Rene Groh",
      "userId": "05263506107887311575"
     },
     "user_tz": -60
    },
    "id": "vNVvNxWt25Pw",
    "outputId": "5c56a1b8-c10f-4b20-cb30-d69ee046c117"
   },
   "outputs": [
    {
     "name": "stdout",
     "output_type": "stream",
     "text": [
      "Downloading and preparing dataset 29.45 MiB (download: 29.45 MiB, generated: 36.42 MiB, total: 65.87 MiB) to ~/tensorflow_datasets/fashion_mnist/3.0.1...\n"
     ]
    },
    {
     "data": {
      "application/vnd.jupyter.widget-view+json": {
       "model_id": "d510e5091cea4717b5a45bc9e116b0c7",
       "version_major": 2,
       "version_minor": 0
      },
      "text/plain": [
       "Dl Completed...: 0 url [00:00, ? url/s]"
      ]
     },
     "metadata": {},
     "output_type": "display_data"
    },
    {
     "data": {
      "application/vnd.jupyter.widget-view+json": {
       "model_id": "f2f52ce71acd46bca080283e9ed7e1ed",
       "version_major": 2,
       "version_minor": 0
      },
      "text/plain": [
       "Dl Size...: 0 MiB [00:00, ? MiB/s]"
      ]
     },
     "metadata": {},
     "output_type": "display_data"
    },
    {
     "data": {
      "application/vnd.jupyter.widget-view+json": {
       "model_id": "7b800c1800244562b865383167e34cb6",
       "version_major": 2,
       "version_minor": 0
      },
      "text/plain": [
       "Extraction completed...: 0 file [00:00, ? file/s]"
      ]
     },
     "metadata": {},
     "output_type": "display_data"
    },
    {
     "data": {
      "application/vnd.jupyter.widget-view+json": {
       "model_id": "8731ae9eb81f4fad82218760075866e9",
       "version_major": 2,
       "version_minor": 0
      },
      "text/plain": [
       "Generating splits...:   0%|          | 0/2 [00:00<?, ? splits/s]"
      ]
     },
     "metadata": {},
     "output_type": "display_data"
    },
    {
     "data": {
      "application/vnd.jupyter.widget-view+json": {
       "model_id": "9ad21e35e91848b4acb2390f39b51f1b",
       "version_major": 2,
       "version_minor": 0
      },
      "text/plain": [
       "Generating train examples...:   0%|          | 0/60000 [00:00<?, ? examples/s]"
      ]
     },
     "metadata": {},
     "output_type": "display_data"
    },
    {
     "data": {
      "application/vnd.jupyter.widget-view+json": {
       "model_id": "496ff539f23d40fb92d23269dd6f7004",
       "version_major": 2,
       "version_minor": 0
      },
      "text/plain": [
       "Shuffling ~/tensorflow_datasets/fashion_mnist/3.0.1.incompleteK5PV5L/fashion_mnist-train.tfrecord*...:   0%|  …"
      ]
     },
     "metadata": {},
     "output_type": "display_data"
    },
    {
     "data": {
      "application/vnd.jupyter.widget-view+json": {
       "model_id": "753c38d7ac4440ecae969d1da3a4f4d0",
       "version_major": 2,
       "version_minor": 0
      },
      "text/plain": [
       "Generating test examples...:   0%|          | 0/10000 [00:00<?, ? examples/s]"
      ]
     },
     "metadata": {},
     "output_type": "display_data"
    },
    {
     "data": {
      "application/vnd.jupyter.widget-view+json": {
       "model_id": "6ac34aaeea454a11b3d8eb3fc69439b3",
       "version_major": 2,
       "version_minor": 0
      },
      "text/plain": [
       "Shuffling ~/tensorflow_datasets/fashion_mnist/3.0.1.incompleteK5PV5L/fashion_mnist-test.tfrecord*...:   0%|   …"
      ]
     },
     "metadata": {},
     "output_type": "display_data"
    },
    {
     "name": "stdout",
     "output_type": "stream",
     "text": [
      "Dataset fashion_mnist downloaded and prepared to ~/tensorflow_datasets/fashion_mnist/3.0.1. Subsequent calls will reuse this data.\n"
     ]
    }
   ],
   "source": [
    "train_data, val_data, test_data = tfds.load(\"fashion_mnist\", \n",
    "                                            #split=['train[10000:]', 'train[0:10000]', 'test'], \n",
    "                                            split=['train[20%:]', 'train[0%:20%]', 'test'],\n",
    "                                            as_supervised=True)\n",
    "\n",
    "def helper(ds):\n",
    "  x, y = [], []\n",
    "  for x_, y_ in tfds.as_numpy(ds):\n",
    "    x.append(x_)\n",
    "    y.append(y_)\n",
    "  return np.asarray(x) / 255.0, np.asarray(y)\n",
    "\n",
    "train_images, train_labels = helper(train_data)\n",
    "val_images, val_labels = helper(val_data)\n",
    "test_images, test_labels = helper(test_data)"
   ]
  },
  {
   "cell_type": "code",
   "execution_count": 4,
   "metadata": {
    "executionInfo": {
     "elapsed": 28,
     "status": "ok",
     "timestamp": 1671186315329,
     "user": {
      "displayName": "Rene Groh",
      "userId": "05263506107887311575"
     },
     "user_tz": -60
    },
    "id": "Z-vq8UjHBKYY"
   },
   "outputs": [],
   "source": [
    "class_names = ['T-shirt/top', 'Trouser', 'Pullover', 'Dress', 'Coat',\n",
    "               'Sandal', 'Shirt', 'Sneaker', 'Bag', 'Ankle boot']"
   ]
  },
  {
   "cell_type": "code",
   "execution_count": 14,
   "metadata": {
    "colab": {
     "base_uri": "https://localhost:8080/"
    },
    "executionInfo": {
     "elapsed": 559,
     "status": "ok",
     "timestamp": 1671186877770,
     "user": {
      "displayName": "Rene Groh",
      "userId": "05263506107887311575"
     },
     "user_tz": -60
    },
    "id": "lNXSW28AcigV",
    "outputId": "700fd650-13ec-4eb4-d0f0-55e80a612fab"
   },
   "outputs": [
    {
     "name": "stdout",
     "output_type": "stream",
     "text": [
      "Model: \"sequential_1\"\n",
      "_________________________________________________________________\n",
      " Layer (type)                Output Shape              Param #   \n",
      "=================================================================\n",
      " flatten_1 (Flatten)         (None, 784)               0         \n",
      "                                                                 \n",
      " dense_2 (Dense)             (None, 32)                25120     \n",
      "                                                                 \n",
      " dense_3 (Dense)             (None, 10)                330       \n",
      "                                                                 \n",
      "=================================================================\n",
      "Total params: 25,450\n",
      "Trainable params: 25,450\n",
      "Non-trainable params: 0\n",
      "_________________________________________________________________\n"
     ]
    }
   ],
   "source": [
    "model = tf.keras.Sequential()\n",
    "model.add(tf.keras.layers.Flatten(input_shape=(28, 28)))\n",
    "#model.add(tf.keras.layers.Dense(256, activation='relu'))\n",
    "#model.add(tf.keras.layers.Dropout(0.1))\n",
    "#model.add(tf.keras.layers.Dense(128, activation='relu'))\n",
    "#model.add(tf.keras.layers.Dense(64, activation='relu'))\n",
    "model.add(tf.keras.layers.Dense(32, activation='relu'))\n",
    "model.add(tf.keras.layers.Dense(10, activation=\"softmax\"))\n",
    "\n",
    "model.summary()"
   ]
  },
  {
   "cell_type": "code",
   "execution_count": 15,
   "metadata": {
    "executionInfo": {
     "elapsed": 1,
     "status": "ok",
     "timestamp": 1671186878512,
     "user": {
      "displayName": "Rene Groh",
      "userId": "05263506107887311575"
     },
     "user_tz": -60
    },
    "id": "edpE5QnxekvS"
   },
   "outputs": [],
   "source": [
    "opt1 = tf.keras.optimizers.SGD(learning_rate=1)\n",
    "opt2 = tf.keras.optimizers.SGD(learning_rate=0.01, momentum=0.975, decay=2e-06, nesterov=True)\n",
    "\n",
    "model.compile(optimizer=opt2,\n",
    "              loss=tf.keras.losses.SparseCategoricalCrossentropy(),\n",
    "              metrics=['accuracy'])"
   ]
  },
  {
   "cell_type": "code",
   "execution_count": 16,
   "metadata": {
    "colab": {
     "base_uri": "https://localhost:8080/"
    },
    "executionInfo": {
     "elapsed": 39980,
     "status": "ok",
     "timestamp": 1671186920820,
     "user": {
      "displayName": "Rene Groh",
      "userId": "05263506107887311575"
     },
     "user_tz": -60
    },
    "id": "r72Hz0n6gjDI",
    "outputId": "0754200d-7341-481f-fddf-a34e49451f24"
   },
   "outputs": [
    {
     "name": "stdout",
     "output_type": "stream",
     "text": [
      "Epoch 1/10\n",
      "1500/1500 [==============================] - 4s 3ms/step - loss: 0.5317 - accuracy: 0.8101 - val_loss: 0.4780 - val_accuracy: 0.8356\n",
      "Epoch 2/10\n",
      "1500/1500 [==============================] - 4s 2ms/step - loss: 0.4355 - accuracy: 0.8432 - val_loss: 0.4227 - val_accuracy: 0.8509\n",
      "Epoch 3/10\n",
      "1500/1500 [==============================] - 4s 2ms/step - loss: 0.4109 - accuracy: 0.8537 - val_loss: 0.4140 - val_accuracy: 0.8536\n",
      "Epoch 4/10\n",
      "1500/1500 [==============================] - 4s 2ms/step - loss: 0.3853 - accuracy: 0.8599 - val_loss: 0.3997 - val_accuracy: 0.8591\n",
      "Epoch 5/10\n",
      "1500/1500 [==============================] - 4s 2ms/step - loss: 0.3690 - accuracy: 0.8677 - val_loss: 0.4182 - val_accuracy: 0.8560\n",
      "Epoch 6/10\n",
      "1500/1500 [==============================] - 4s 2ms/step - loss: 0.3591 - accuracy: 0.8701 - val_loss: 0.3918 - val_accuracy: 0.8604\n",
      "Epoch 7/10\n",
      "1500/1500 [==============================] - 6s 4ms/step - loss: 0.3490 - accuracy: 0.8747 - val_loss: 0.3971 - val_accuracy: 0.8596\n",
      "Epoch 8/10\n",
      "1500/1500 [==============================] - 4s 3ms/step - loss: 0.3472 - accuracy: 0.8732 - val_loss: 0.3972 - val_accuracy: 0.8605\n",
      "Epoch 9/10\n",
      "1500/1500 [==============================] - 4s 2ms/step - loss: 0.3380 - accuracy: 0.8765 - val_loss: 0.3909 - val_accuracy: 0.8668\n",
      "Epoch 10/10\n",
      "1500/1500 [==============================] - 4s 2ms/step - loss: 0.3333 - accuracy: 0.8777 - val_loss: 0.3821 - val_accuracy: 0.8742\n"
     ]
    }
   ],
   "source": [
    "history = model.fit(train_images, train_labels, validation_data=[val_images, val_labels], epochs=10)"
   ]
  },
  {
   "cell_type": "code",
   "execution_count": 17,
   "metadata": {
    "colab": {
     "base_uri": "https://localhost:8080/",
     "height": 296
    },
    "executionInfo": {
     "elapsed": 24,
     "status": "ok",
     "timestamp": 1671186920821,
     "user": {
      "displayName": "Rene Groh",
      "userId": "05263506107887311575"
     },
     "user_tz": -60
    },
    "id": "ivNLvAriIjUH",
    "outputId": "1a3c687b-e246-4d1b-8b39-c93887af559e"
   },
   "outputs": [
    {
     "data": {
      "text/plain": [
       "Text(0.5, 0, 'epochs')"
      ]
     },
     "execution_count": 17,
     "metadata": {},
     "output_type": "execute_result"
    },
    {
     "data": {
      "image/png": "[encoded data removed]",
      "text/plain": [
       "<Figure size 432x288 with 1 Axes>"
      ]
     },
     "metadata": {
      "needs_background": "light"
     },
     "output_type": "display_data"
    }
   ],
   "source": [
    "plt.plot(history.history['loss'], label=\"training\")\n",
    "plt.plot(history.history['val_loss'], label=\"validation\")\n",
    "plt.legend()\n",
    "plt.ylabel(\"loss\")\n",
    "plt.xlabel(\"epochs\")"
   ]
  },
  {
   "cell_type": "code",
   "execution_count": 18,
   "metadata": {
    "colab": {
     "base_uri": "https://localhost:8080/"
    },
    "executionInfo": {
     "elapsed": 1320,
     "status": "ok",
     "timestamp": 1671186922128,
     "user": {
      "displayName": "Rene Groh",
      "userId": "05263506107887311575"
     },
     "user_tz": -60
    },
    "id": "yhf3F6RxwFqc",
    "outputId": "9cd3555b-4d29-495d-c70b-d8621b50a04f"
   },
   "outputs": [
    {
     "name": "stdout",
     "output_type": "stream",
     "text": [
      "313/313 [==============================] - 1s 2ms/step - loss: 0.4113 - accuracy: 0.8598\n"
     ]
    },
    {
     "data": {
      "text/plain": [
       "[0.4113401472568512, 0.8597999811172485]"
      ]
     },
     "execution_count": 18,
     "metadata": {},
     "output_type": "execute_result"
    }
   ],
   "source": [
    "model.evaluate(test_images, test_labels)"
   ]
  },
  {
   "cell_type": "code",
   "execution_count": 19,
   "metadata": {
    "colab": {
     "base_uri": "https://localhost:8080/"
    },
    "executionInfo": {
     "elapsed": 519,
     "status": "ok",
     "timestamp": 1671186922639,
     "user": {
      "displayName": "Rene Groh",
      "userId": "05263506107887311575"
     },
     "user_tz": -60
    },
    "id": "emKUcP_zgtTJ",
    "outputId": "c38bffdb-4227-45bd-d8c0-f70ce597fd81"
   },
   "outputs": [
    {
     "name": "stdout",
     "output_type": "stream",
     "text": [
      "313/313 [==============================] - 0s 1ms/step\n"
     ]
    }
   ],
   "source": [
    "y_pred = model.predict(test_images)\n",
    "y_pred = np.asarray([np.argmax(y) for y in y_pred])"
   ]
  },
  {
   "cell_type": "markdown",
   "metadata": {
    "id": "9KAiJ9M8cVkK"
   },
   "source": [
    "## Confusion Matrix"
   ]
  },
  {
   "cell_type": "code",
   "execution_count": 20,
   "metadata": {
    "executionInfo": {
     "elapsed": 3,
     "status": "ok",
     "timestamp": 1671186922639,
     "user": {
      "displayName": "Rene Groh",
      "userId": "05263506107887311575"
     },
     "user_tz": -60
    },
    "id": "TaWLfAiXtQjw"
   },
   "outputs": [],
   "source": [
    "from sklearn.metrics import confusion_matrix"
   ]
  },
  {
   "cell_type": "code",
   "execution_count": 21,
   "metadata": {
    "executionInfo": {
     "elapsed": 4,
     "status": "ok",
     "timestamp": 1671186922640,
     "user": {
      "displayName": "Rene Groh",
      "userId": "05263506107887311575"
     },
     "user_tz": -60
    },
    "id": "47123NtQt9Xz"
   },
   "outputs": [],
   "source": [
    "conf_mat = confusion_matrix(y_true=test_labels, y_pred=y_pred)#, normalize='all')"
   ]
  },
  {
   "cell_type": "code",
   "execution_count": 22,
   "metadata": {
    "colab": {
     "base_uri": "https://localhost:8080/",
     "height": 609
    },
    "executionInfo": {
     "elapsed": 756,
     "status": "ok",
     "timestamp": 1671186923392,
     "user": {
      "displayName": "Rene Groh",
      "userId": "05263506107887311575"
     },
     "user_tz": -60
    },
    "id": "j0O_Ig4IvBeg",
    "outputId": "2e234271-63a8-4cb3-ffd1-1bedf782be67"
   },
   "outputs": [
    {
     "data": {
      "text/plain": [
       "<matplotlib.axes._subplots.AxesSubplot at 0x7f04ce094b20>"
      ]
     },
     "execution_count": 22,
     "metadata": {},
     "output_type": "execute_result"
    },
    {
     "data": {
      "image/png": "[encoded data removed]",
      "text/plain": [
       "<Figure size 1080x720 with 2 Axes>"
      ]
     },
     "metadata": {
      "needs_background": "light"
     },
     "output_type": "display_data"
    }
   ],
   "source": [
    "fig, ax = plt.subplots(figsize=(15,10)) \n",
    "sns.heatmap(conf_mat, ax=ax, annot=True, fmt=\"g\", cmap=\"Blues\", xticklabels=class_names,yticklabels=class_names)"
   ]
  },
  {
   "cell_type": "markdown",
   "metadata": {
    "id": "c5u1xeJocxjB"
   },
   "source": [
    "![Screenshot 2022-12-16 112231.png](data:image/png;base64,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)\n",
    "\n",
    "Source: https://en.wikipedia.org/wiki/Receiver_operating_characteristic"
   ]
  },
  {
   "cell_type": "markdown",
   "metadata": {
    "id": "abpu-blXcqLe"
   },
   "source": [
    "### **Precision**\n",
    "$precision = \\frac{TP} {TP + FP}$\n",
    "\n",
    "### **Recall/Sensitivity/True positive rate**\n",
    "$recall = \\frac{TP} {TP + FN}$\n",
    "\n",
    "### **Fall-out/False positive rate**\n",
    "$fallout = \\frac{FP} {FP + TN}$\n",
    "\n",
    "### **Specificity/True negative rate**\n",
    "$specificity = \\frac{TN} {TN + FP}$\n",
    "\n",
    "### **F1-score (harmonic mean of precision and recall)**\n",
    "$F1 = \\frac{2TP} {2TP + FP + FN}$\n"
   ]
  },
  {
   "cell_type": "code",
   "execution_count": null,
   "metadata": {
    "colab": {
     "base_uri": "https://localhost:8080/"
    },
    "executionInfo": {
     "elapsed": 1364,
     "status": "ok",
     "timestamp": 1671147660447,
     "user": {
      "displayName": "Rene Groh",
      "userId": "05263506107887311575"
     },
     "user_tz": -60
    },
    "id": "IuVJSFa8vhUK",
    "outputId": "63b8bf49-f06d-4587-fba9-ecbd00ec85a5"
   },
   "outputs": [
    {
     "name": "stdout",
     "output_type": "stream",
     "text": [
      "              precision    recall  f1-score   support\n",
      "\n",
      "           0       0.00      0.00      0.00      1000\n",
      "           1       0.00      0.00      0.00      1000\n",
      "           2       0.10      1.00      0.18      1000\n",
      "           3       0.00      0.00      0.00      1000\n",
      "           4       0.00      0.00      0.00      1000\n",
      "           5       0.00      0.00      0.00      1000\n",
      "           6       0.00      0.00      0.00      1000\n",
      "           7       0.00      0.00      0.00      1000\n",
      "           8       0.00      0.00      0.00      1000\n",
      "           9       0.00      0.00      0.00      1000\n",
      "\n",
      "    accuracy                           0.10     10000\n",
      "   macro avg       0.01      0.10      0.02     10000\n",
      "weighted avg       0.01      0.10      0.02     10000\n",
      "\n"
     ]
    },
    {
     "name": "stderr",
     "output_type": "stream",
     "text": [
      "/usr/local/lib/python3.8/dist-packages/sklearn/metrics/_classification.py:1318: UndefinedMetricWarning: Precision and F-score are ill-defined and being set to 0.0 in labels with no predicted samples. Use `zero_division` parameter to control this behavior.\n",
      "  _warn_prf(average, modifier, msg_start, len(result))\n",
      "/usr/local/lib/python3.8/dist-packages/sklearn/metrics/_classification.py:1318: UndefinedMetricWarning: Precision and F-score are ill-defined and being set to 0.0 in labels with no predicted samples. Use `zero_division` parameter to control this behavior.\n",
      "  _warn_prf(average, modifier, msg_start, len(result))\n",
      "/usr/local/lib/python3.8/dist-packages/sklearn/metrics/_classification.py:1318: UndefinedMetricWarning: Precision and F-score are ill-defined and being set to 0.0 in labels with no predicted samples. Use `zero_division` parameter to control this behavior.\n",
      "  _warn_prf(average, modifier, msg_start, len(result))\n"
     ]
    }
   ],
   "source": [
    "from sklearn.metrics import classification_report\n",
    "\n",
    "print(classification_report(test_labels, y_pred))"
   ]
  },
  {
   "cell_type": "code",
   "execution_count": null,
   "metadata": {
    "colab": {
     "base_uri": "https://localhost:8080/"
    },
    "executionInfo": {
     "elapsed": 8,
     "status": "ok",
     "timestamp": 1671147660884,
     "user": {
      "displayName": "Rene Groh",
      "userId": "05263506107887311575"
     },
     "user_tz": -60
    },
    "id": "SP58tnhTEMD1",
    "outputId": "0e13153b-f780-4482-aa61-727117888ca3"
   },
   "outputs": [
    {
     "data": {
      "text/plain": [
       "(10000, 10)"
      ]
     },
     "execution_count": 112,
     "metadata": {},
     "output_type": "execute_result"
    }
   ],
   "source": [
    "# binarize labels to one-hot encoded vectors\n",
    "from sklearn.preprocessing import LabelBinarizer\n",
    "\n",
    "label_binarizer = LabelBinarizer().fit(train_labels)\n",
    "test_labels_onehot = label_binarizer.transform(test_labels)\n",
    "test_labels_onehot.shape"
   ]
  },
  {
   "cell_type": "code",
   "execution_count": null,
   "metadata": {
    "colab": {
     "base_uri": "https://localhost:8080/"
    },
    "executionInfo": {
     "elapsed": 6,
     "status": "ok",
     "timestamp": 1671147660884,
     "user": {
      "displayName": "Rene Groh",
      "userId": "05263506107887311575"
     },
     "user_tz": -60
    },
    "id": "P2aMV09dGvcj",
    "outputId": "55b80672-60f3-402e-8abb-96dad32ed038"
   },
   "outputs": [
    {
     "data": {
      "text/plain": [
       "array([[0, 0, 1, 0, 0, 0, 0, 0, 0, 0]])"
      ]
     },
     "execution_count": 113,
     "metadata": {},
     "output_type": "execute_result"
    }
   ],
   "source": [
    "label_binarizer.transform([2])"
   ]
  },
  {
   "cell_type": "code",
   "execution_count": null,
   "metadata": {
    "colab": {
     "base_uri": "https://localhost:8080/"
    },
    "executionInfo": {
     "elapsed": 858,
     "status": "ok",
     "timestamp": 1671147661737,
     "user": {
      "displayName": "Rene Groh",
      "userId": "05263506107887311575"
     },
     "user_tz": -60
    },
    "id": "ZdR5DMnQHNme",
    "outputId": "e9a3bab3-1e36-4b11-dc04-12622f0bde5c"
   },
   "outputs": [
    {
     "name": "stdout",
     "output_type": "stream",
     "text": [
      "313/313 [==============================] - 0s 1ms/step\n"
     ]
    },
    {
     "data": {
      "text/plain": [
       "array([0.09525519, 0.07554709, 0.11870797, 0.10281047, 0.09281901,\n",
       "       0.10521749, 0.11596557, 0.10425135, 0.08158526, 0.10784063],\n",
       "      dtype=float32)"
      ]
     },
     "execution_count": 114,
     "metadata": {},
     "output_type": "execute_result"
    }
   ],
   "source": [
    "# predict y_pred again\n",
    "y_pred = model.predict(test_images)\n",
    "y_pred[0]"
   ]
  },
  {
   "cell_type": "markdown",
   "metadata": {
    "id": "-Yo2ZVVGcQn_"
   },
   "source": [
    "## **ROC curves**\n",
    "\n",
    "![Roc_curve.svg.png](data:image/png;base64,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)\n",
    "\n",
    "Source: https://en.wikipedia.org/wiki/Receiver_operating_characteristic#/media/File:Roc_curve.svg"
   ]
  },
  {
   "cell_type": "code",
   "execution_count": null,
   "metadata": {
    "colab": {
     "base_uri": "https://localhost:8080/",
     "height": 295
    },
    "executionInfo": {
     "elapsed": 480,
     "status": "ok",
     "timestamp": 1671147664843,
     "user": {
      "displayName": "Rene Groh",
      "userId": "05263506107887311575"
     },
     "user_tz": -60
    },
    "id": "SNewmxgoATuz",
    "outputId": "39b63d6b-d512-4d5e-f248-cfa35ddf199c"
   },
   "outputs": [
    {
     "data": {
      "image/png": "[encoded data removed]",
      "text/plain": [
       "<Figure size 432x288 with 1 Axes>"
      ]
     },
     "metadata": {
      "needs_background": "light"
     },
     "output_type": "display_data"
    }
   ],
   "source": [
    "# display ROC curves\n",
    "from sklearn.metrics import RocCurveDisplay\n",
    "\n",
    "class_id = 6\n",
    "\n",
    "RocCurveDisplay.from_predictions(\n",
    "    test_labels_onehot[:, class_id],\n",
    "    y_pred[:, class_id],\n",
    "    name=f\"{class_names[class_id]} vs the rest\",\n",
    "    color=\"darkorange\",\n",
    ")\n",
    "plt.plot([0, 1], [0, 1], \"k--\", label=\"chance level (AUC = 0.5)\")\n",
    "plt.axis(\"square\")\n",
    "plt.xlabel(\"False Positive Rate\")\n",
    "plt.ylabel(\"True Positive Rate\")\n",
    "plt.title(\"One-vs-Rest ROC curves\")\n",
    "plt.legend()\n",
    "plt.show()"
   ]
  },
  {
   "cell_type": "markdown",
   "metadata": {
    "id": "Eo1vSTkxLL1Z"
   },
   "source": [
    "## k-fold Cross Validation"
   ]
  },
  {
   "cell_type": "code",
   "execution_count": null,
   "metadata": {
    "colab": {
     "base_uri": "https://localhost:8080/"
    },
    "executionInfo": {
     "elapsed": 3,
     "status": "ok",
     "timestamp": 1671147937504,
     "user": {
      "displayName": "Rene Groh",
      "userId": "05263506107887311575"
     },
     "user_tz": -60
    },
    "id": "NEQcDtFHLPEk",
    "outputId": "ed24d88d-8f79-4805-896d-8cea43f2eb3e"
   },
   "outputs": [
    {
     "data": {
      "text/plain": [
       "(70000, 28, 28, 1)"
      ]
     },
     "execution_count": 116,
     "metadata": {},
     "output_type": "execute_result"
    }
   ],
   "source": [
    "# Merge inputs and targets\n",
    "inputs = np.concatenate((train_images, val_images, test_images), axis=0)\n",
    "targets = np.concatenate((train_labels, val_labels, test_labels), axis=0)\n",
    "\n",
    "inputs.shape"
   ]
  },
  {
   "cell_type": "markdown",
   "metadata": {
    "id": "pyHlIMfeakxe"
   },
   "source": [
    "![Screenshot 2022-12-16 111224.png](data:image/png;base64,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)\n",
    "\n",
    "Source: https://arxiv.org/pdf/1811.12808.pdf"
   ]
  },
  {
   "cell_type": "code",
   "execution_count": null,
   "metadata": {
    "id": "xd7gFuc-LdFD"
   },
   "outputs": [],
   "source": [
    "from sklearn.model_selection import StratifiedKFold\n",
    "\n",
    "kfold = StratifiedKFold(n_splits=7, shuffle=True)"
   ]
  },
  {
   "cell_type": "code",
   "execution_count": null,
   "metadata": {
    "id": "gRN3xe5ZLnLI"
   },
   "outputs": [],
   "source": [
    "def get_model():\n",
    "  model = tf.keras.Sequential()\n",
    "  model.add(tf.keras.layers.Flatten(input_shape=(28, 28)))\n",
    "  #model.add(tf.keras.layers.Dense(256, activation='relu'))\n",
    "  #model.add(tf.keras.layers.Dropout(0.1))\n",
    "  #model.add(tf.keras.layers.Dense(128, activation='relu'))\n",
    "  #model.add(tf.keras.layers.Dense(64, activation='relu'))\n",
    "  model.add(tf.keras.layers.Dense(32, activation='relu'))\n",
    "  model.add(tf.keras.layers.Dense(10, activation=\"softmax\"))\n",
    "\n",
    "  model.compile(optimizer=tf.keras.optimizers.SGD(learning_rate=0.01, momentum=0.975, decay=2e-06, nesterov=True),\n",
    "              loss=tf.keras.losses.SparseCategoricalCrossentropy(),\n",
    "              metrics=['accuracy'])\n",
    "  return model"
   ]
  },
  {
   "cell_type": "code",
   "execution_count": 23,
   "metadata": {
    "colab": {
     "base_uri": "https://localhost:8080/",
     "height": 236
    },
    "executionInfo": {
     "elapsed": 1501,
     "status": "error",
     "timestamp": 1671187318603,
     "user": {
      "displayName": "Rene Groh",
      "userId": "05263506107887311575"
     },
     "user_tz": -60
    },
    "id": "_ZTwePUmMMZW",
    "outputId": "bb8a8187-fd7b-447b-bff4-07ea41876530"
   },
   "outputs": [
    {
     "ename": "NameError",
     "evalue": "ignored",
     "output_type": "error",
     "traceback": [
      "\u001b[0;31m---------------------------------------------------------------------------\u001b[0m",
      "\u001b[0;31mNameError\u001b[0m                                 Traceback (most recent call last)",
      "\u001b[0;32m<ipython-input-23-39f4413a652c>\u001b[0m in \u001b[0;36m<module>\u001b[0;34m\u001b[0m\n\u001b[1;32m      2\u001b[0m \u001b[0mloss_per_fold\u001b[0m \u001b[0;34m=\u001b[0m \u001b[0;34m[\u001b[0m\u001b[0;34m]\u001b[0m\u001b[0;34m\u001b[0m\u001b[0;34m\u001b[0m\u001b[0m\n\u001b[1;32m      3\u001b[0m \u001b[0;34m\u001b[0m\u001b[0m\n\u001b[0;32m----> 4\u001b[0;31m \u001b[0;32mfor\u001b[0m \u001b[0midx\u001b[0m\u001b[0;34m,\u001b[0m \u001b[0;34m(\u001b[0m\u001b[0mtrain\u001b[0m\u001b[0;34m,\u001b[0m \u001b[0mtest\u001b[0m\u001b[0;34m)\u001b[0m \u001b[0;32min\u001b[0m \u001b[0menumerate\u001b[0m\u001b[0;34m(\u001b[0m\u001b[0mkfold\u001b[0m\u001b[0;34m.\u001b[0m\u001b[0msplit\u001b[0m\u001b[0;34m(\u001b[0m\u001b[0minputs\u001b[0m\u001b[0;34m,\u001b[0m \u001b[0mtargets\u001b[0m\u001b[0;34m)\u001b[0m\u001b[0;34m)\u001b[0m\u001b[0;34m:\u001b[0m\u001b[0;34m\u001b[0m\u001b[0;34m\u001b[0m\u001b[0m\n\u001b[0m\u001b[1;32m      5\u001b[0m   \u001b[0mmodel\u001b[0m \u001b[0;34m=\u001b[0m \u001b[0mget_model\u001b[0m\u001b[0;34m(\u001b[0m\u001b[0;34m)\u001b[0m\u001b[0;34m\u001b[0m\u001b[0;34m\u001b[0m\u001b[0m\n\u001b[1;32m      6\u001b[0m \u001b[0;34m\u001b[0m\u001b[0m\n",
      "\u001b[0;31mNameError\u001b[0m: name 'kfold' is not defined"
     ]
    }
   ],
   "source": [
    "acc_per_fold = []\n",
    "loss_per_fold = []\n",
    "\n",
    "for idx, (train, test) in enumerate(kfold.split(inputs, targets)):\n",
    "  model = get_model()\n",
    "\n",
    "  history = model.fit(inputs[train], targets[train], batch_size=128, epochs=10, verbose=0)\n",
    "  scores = model.evaluate(inputs[test], targets[test])\n",
    "\n",
    "  print(f'Score for fold {idx + 1}: {model.metrics_names[0]} of {scores[0]}; {model.metrics_names[1]} of {scores[1]*100}%')\n",
    "  acc_per_fold.append(scores[1] * 100)\n",
    "  loss_per_fold.append(scores[0])"
   ]
  },
  {
   "cell_type": "code",
   "execution_count": null,
   "metadata": {
    "id": "LLOu1HgRMyfv"
   },
   "outputs": [],
   "source": []
  }
 ],
 "metadata": {
  "accelerator": "GPU",
  "colab": {
   "authorship_tag": "ABX9TyPyPwmkAR308aMaR5Mgb8bD",
   "provenance": []
  },
  "gpuClass": "standard",
  "kernelspec": {
   "display_name": "Python 3 (ipykernel)",
   "language": "python",
   "name": "python3"
  },
  "language_info": {
   "codemirror_mode": {
    "name": "ipython",
    "version": 3
   },
   "file_extension": ".py",
   "mimetype": "text/x-python",
   "name": "python",
   "nbconvert_exporter": "python",
   "pygments_lexer": "ipython3",
   "version": "3.9.12"
  },
  "widgets": {
   "application/vnd.jupyter.widget-state+json": {
    "0161cb60ef714e82b26c89c70d96f3e9": {
     "model_module": "@jupyter-widgets/controls",
     "model_module_version": "1.5.0",
     "model_name": "FloatProgressModel",
     "state": {
      "_dom_classes": [],
      "_model_module": "@jupyter-widgets/controls",
      "_model_module_version": "1.5.0",
      "_model_name": "FloatProgressModel",
      "_view_count": null,
      "_view_module": "@jupyter-widgets/controls",
      "_view_module_version": "1.5.0",
      "_view_name": "ProgressView",
      "bar_style": "success",
      "description": "",
      "description_tooltip": null,
      "layout": "IPY_MODEL_31df53a0026c4d6cb8bce26cd155c0c8",
      "max": 1,
      "min": 0,
      "orientation": "horizontal",
      "style": "IPY_MODEL_23fefa0ae12e4b9ca15f46cb890cc6da",
      "value": 1
     }
    },
    "03710593a069427cafb9cabd94675bc2": {
     "model_module": "@jupyter-widgets/controls",
     "model_module_version": "1.5.0",
     "model_name": "FloatProgressModel",
     "state": {
      "_dom_classes": [],
      "_model_module": "@jupyter-widgets/controls",
      "_model_module_version": "1.5.0",
      "_model_name": "FloatProgressModel",
      "_view_count": null,
      "_view_module": "@jupyter-widgets/controls",
      "_view_module_version": "1.5.0",
      "_view_name": "ProgressView",
      "bar_style": "success",
      "description": "",
      "description_tooltip": null,
      "layout": "IPY_MODEL_c731defc5e934d3daba23b1ec9a6303b",
      "max": 1,
      "min": 0,
      "orientation": "horizontal",
      "style": "IPY_MODEL_88bb9bac631345aca631fb9a992ccdde",
      "value": 1
     }
    },
    "0bd5dac626454b27abd0e4ec209277ff": {
     "model_module": "@jupyter-widgets/base",
     "model_module_version": "1.2.0",
     "model_name": "LayoutModel",
     "state": {
      "_model_module": "@jupyter-widgets/base",
      "_model_module_version": "1.2.0",
      "_model_name": "LayoutModel",
      "_view_count": null,
      "_view_module": "@jupyter-widgets/base",
      "_view_module_version": "1.2.0",
      "_view_name": "LayoutView",
      "align_content": null,
      "align_items": null,
      "align_self": null,
      "border": null,
      "bottom": null,
      "display": null,
      "flex": null,
      "flex_flow": null,
      "grid_area": null,
      "grid_auto_columns": null,
      "grid_auto_flow": null,
      "grid_auto_rows": null,
      "grid_column": null,
      "grid_gap": null,
      "grid_row": null,
      "grid_template_areas": null,
      "grid_template_columns": null,
      "grid_template_rows": null,
      "height": null,
      "justify_content": null,
      "justify_items": null,
      "left": null,
      "margin": null,
      "max_height": null,
      "max_width": null,
      "min_height": null,
      "min_width": null,
      "object_fit": null,
      "object_position": null,
      "order": null,
      "overflow": null,
      "overflow_x": null,
      "overflow_y": null,
      "padding": null,
      "right": null,
      "top": null,
      "visibility": null,
      "width": null
     }
    },
    "0ecd9e70093d4f7cae0f360f8712e2b7": {
     "model_module": "@jupyter-widgets/base",
     "model_module_version": "1.2.0",
     "model_name": "LayoutModel",
     "state": {
      "_model_module": "@jupyter-widgets/base",
      "_model_module_version": "1.2.0",
      "_model_name": "LayoutModel",
      "_view_count": null,
      "_view_module": "@jupyter-widgets/base",
      "_view_module_version": "1.2.0",
      "_view_name": "LayoutView",
      "align_content": null,
      "align_items": null,
      "align_self": null,
      "border": null,
      "bottom": null,
      "display": null,
      "flex": null,
      "flex_flow": null,
      "grid_area": null,
      "grid_auto_columns": null,
      "grid_auto_flow": null,
      "grid_auto_rows": null,
      "grid_column": null,
      "grid_gap": null,
      "grid_row": null,
      "grid_template_areas": null,
      "grid_template_columns": null,
      "grid_template_rows": null,
      "height": null,
      "justify_content": null,
      "justify_items": null,
      "left": null,
      "margin": null,
      "max_height": null,
      "max_width": null,
      "min_height": null,
      "min_width": null,
      "object_fit": null,
      "object_position": null,
      "order": null,
      "overflow": null,
      "overflow_x": null,
      "overflow_y": null,
      "padding": null,
      "right": null,
      "top": null,
      "visibility": null,
      "width": null
     }
    },
    "151a50ca78d24e20a33ae32c80c3dd87": {
     "model_module": "@jupyter-widgets/controls",
     "model_module_version": "1.5.0",
     "model_name": "HTMLModel",
     "state": {
      "_dom_classes": [],
      "_model_module": "@jupyter-widgets/controls",
      "_model_module_version": "1.5.0",
      "_model_name": "HTMLModel",
      "_view_count": null,
      "_view_module": "@jupyter-widgets/controls",
      "_view_module_version": "1.5.0",
      "_view_name": "HTMLView",
      "description": "",
      "description_tooltip": null,
      "layout": "IPY_MODEL_6dd33a55245f41bbb7e3560abc7d9207",
      "placeholder": "​",
      "style": "IPY_MODEL_9d7df7c3f1464e368cee6ce89dc6f018",
      "value": "Extraction completed...: 100%"
     }
    },
    "21a16410127e4a72b92d32bf584e381a": {
     "model_module": "@jupyter-widgets/controls",
     "model_module_version": "1.5.0",
     "model_name": "ProgressStyleModel",
     "state": {
      "_model_module": "@jupyter-widgets/controls",
      "_model_module_version": "1.5.0",
      "_model_name": "ProgressStyleModel",
      "_view_count": null,
      "_view_module": "@jupyter-widgets/base",
      "_view_module_version": "1.2.0",
      "_view_name": "StyleView",
      "bar_color": null,
      "description_width": ""
     }
    },
    "2201913fa1974c409a6a8ddeef2659a7": {
     "model_module": "@jupyter-widgets/base",
     "model_module_version": "1.2.0",
     "model_name": "LayoutModel",
     "state": {
      "_model_module": "@jupyter-widgets/base",
      "_model_module_version": "1.2.0",
      "_model_name": "LayoutModel",
      "_view_count": null,
      "_view_module": "@jupyter-widgets/base",
      "_view_module_version": "1.2.0",
      "_view_name": "LayoutView",
      "align_content": null,
      "align_items": null,
      "align_self": null,
      "border": null,
      "bottom": null,
      "display": null,
      "flex": null,
      "flex_flow": null,
      "grid_area": null,
      "grid_auto_columns": null,
      "grid_auto_flow": null,
      "grid_auto_rows": null,
      "grid_column": null,
      "grid_gap": null,
      "grid_row": null,
      "grid_template_areas": null,
      "grid_template_columns": null,
      "grid_template_rows": null,
      "height": null,
      "justify_content": null,
      "justify_items": null,
      "left": null,
      "margin": null,
      "max_height": null,
      "max_width": null,
      "min_height": null,
      "min_width": null,
      "object_fit": null,
      "object_position": null,
      "order": null,
      "overflow": null,
      "overflow_x": null,
      "overflow_y": null,
      "padding": null,
      "right": null,
      "top": null,
      "visibility": null,
      "width": null
     }
    },
    "230bc3719c884c538968acb10f8704e9": {
     "model_module": "@jupyter-widgets/controls",
     "model_module_version": "1.5.0",
     "model_name": "DescriptionStyleModel",
     "state": {
      "_model_module": "@jupyter-widgets/controls",
      "_model_module_version": "1.5.0",
      "_model_name": "DescriptionStyleModel",
      "_view_count": null,
      "_view_module": "@jupyter-widgets/base",
      "_view_module_version": "1.2.0",
      "_view_name": "StyleView",
      "description_width": ""
     }
    },
    "23fefa0ae12e4b9ca15f46cb890cc6da": {
     "model_module": "@jupyter-widgets/controls",
     "model_module_version": "1.5.0",
     "model_name": "ProgressStyleModel",
     "state": {
      "_model_module": "@jupyter-widgets/controls",
      "_model_module_version": "1.5.0",
      "_model_name": "ProgressStyleModel",
      "_view_count": null,
      "_view_module": "@jupyter-widgets/base",
      "_view_module_version": "1.2.0",
      "_view_name": "StyleView",
      "bar_color": null,
      "description_width": ""
     }
    },
    "26288ef2a19449c3b01b86cfa9993adf": {
     "model_module": "@jupyter-widgets/controls",
     "model_module_version": "1.5.0",
     "model_name": "HTMLModel",
     "state": {
      "_dom_classes": [],
      "_model_module": "@jupyter-widgets/controls",
      "_model_module_version": "1.5.0",
      "_model_name": "HTMLModel",
      "_view_count": null,
      "_view_module": "@jupyter-widgets/controls",
      "_view_module_version": "1.5.0",
      "_view_name": "HTMLView",
      "description": "",
      "description_tooltip": null,
      "layout": "IPY_MODEL_b9ae1da38ec44800897b7b6bc5b7832c",
      "placeholder": "​",
      "style": "IPY_MODEL_fbde5346386d428aa18e2b39ab8f6239",
      "value": "Generating splits...: 100%"
     }
    },
    "290af7ba5d6648bba8d29a2c8746271e": {
     "model_module": "@jupyter-widgets/controls",
     "model_module_version": "1.5.0",
     "model_name": "DescriptionStyleModel",
     "state": {
      "_model_module": "@jupyter-widgets/controls",
      "_model_module_version": "1.5.0",
      "_model_name": "DescriptionStyleModel",
      "_view_count": null,
      "_view_module": "@jupyter-widgets/base",
      "_view_module_version": "1.2.0",
      "_view_name": "StyleView",
      "description_width": ""
     }
    },
    "297955f84b5b4d9d8839d2175125b0f8": {
     "model_module": "@jupyter-widgets/controls",
     "model_module_version": "1.5.0",
     "model_name": "HTMLModel",
     "state": {
      "_dom_classes": [],
      "_model_module": "@jupyter-widgets/controls",
      "_model_module_version": "1.5.0",
      "_model_name": "HTMLModel",
      "_view_count": null,
      "_view_module": "@jupyter-widgets/controls",
      "_view_module_version": "1.5.0",
      "_view_name": "HTMLView",
      "description": "",
      "description_tooltip": null,
      "layout": "IPY_MODEL_996b7d79e5704c57834dd840b08c7241",
      "placeholder": "​",
      "style": "IPY_MODEL_290af7ba5d6648bba8d29a2c8746271e",
      "value": " 39874/60000 [00:00&lt;00:00, 231279.78 examples/s]"
     }
    },
    "298db1dcfd614e609af4f712acaab7de": {
     "model_module": "@jupyter-widgets/base",
     "model_module_version": "1.2.0",
     "model_name": "LayoutModel",
     "state": {
      "_model_module": "@jupyter-widgets/base",
      "_model_module_version": "1.2.0",
      "_model_name": "LayoutModel",
      "_view_count": null,
      "_view_module": "@jupyter-widgets/base",
      "_view_module_version": "1.2.0",
      "_view_name": "LayoutView",
      "align_content": null,
      "align_items": null,
      "align_self": null,
      "border": null,
      "bottom": null,
      "display": null,
      "flex": null,
      "flex_flow": null,
      "grid_area": null,
      "grid_auto_columns": null,
      "grid_auto_flow": null,
      "grid_auto_rows": null,
      "grid_column": null,
      "grid_gap": null,
      "grid_row": null,
      "grid_template_areas": null,
      "grid_template_columns": null,
      "grid_template_rows": null,
      "height": null,
      "justify_content": null,
      "justify_items": null,
      "left": null,
      "margin": null,
      "max_height": null,
      "max_width": null,
      "min_height": null,
      "min_width": null,
      "object_fit": null,
      "object_position": null,
      "order": null,
      "overflow": null,
      "overflow_x": null,
      "overflow_y": null,
      "padding": null,
      "right": null,
      "top": null,
      "visibility": "hidden",
      "width": null
     }
    },
    "2a5ba3a54a32474dbf866bc4916feaa0": {
     "model_module": "@jupyter-widgets/controls",
     "model_module_version": "1.5.0",
     "model_name": "FloatProgressModel",
     "state": {
      "_dom_classes": [],
      "_model_module": "@jupyter-widgets/controls",
      "_model_module_version": "1.5.0",
      "_model_name": "FloatProgressModel",
      "_view_count": null,
      "_view_module": "@jupyter-widgets/controls",
      "_view_module_version": "1.5.0",
      "_view_name": "ProgressView",
      "bar_style": "",
      "description": "",
      "description_tooltip": null,
      "layout": "IPY_MODEL_0ecd9e70093d4f7cae0f360f8712e2b7",
      "max": 10000,
      "min": 0,
      "orientation": "horizontal",
      "style": "IPY_MODEL_21a16410127e4a72b92d32bf584e381a",
      "value": 10000
     }
    },
    "2edefd16ac3846b6b2ea7321d1a2ea6d": {
     "model_module": "@jupyter-widgets/base",
     "model_module_version": "1.2.0",
     "model_name": "LayoutModel",
     "state": {
      "_model_module": "@jupyter-widgets/base",
      "_model_module_version": "1.2.0",
      "_model_name": "LayoutModel",
      "_view_count": null,
      "_view_module": "@jupyter-widgets/base",
      "_view_module_version": "1.2.0",
      "_view_name": "LayoutView",
      "align_content": null,
      "align_items": null,
      "align_self": null,
      "border": null,
      "bottom": null,
      "display": null,
      "flex": null,
      "flex_flow": null,
      "grid_area": null,
      "grid_auto_columns": null,
      "grid_auto_flow": null,
      "grid_auto_rows": null,
      "grid_column": null,
      "grid_gap": null,
      "grid_row": null,
      "grid_template_areas": null,
      "grid_template_columns": null,
      "grid_template_rows": null,
      "height": null,
      "justify_content": null,
      "justify_items": null,
      "left": null,
      "margin": null,
      "max_height": null,
      "max_width": null,
      "min_height": null,
      "min_width": null,
      "object_fit": null,
      "object_position": null,
      "order": null,
      "overflow": null,
      "overflow_x": null,
      "overflow_y": null,
      "padding": null,
      "right": null,
      "top": null,
      "visibility": null,
      "width": null
     }
    },
    "2eec08cafc334e5090c61dca480068f0": {
     "model_module": "@jupyter-widgets/base",
     "model_module_version": "1.2.0",
     "model_name": "LayoutModel",
     "state": {
      "_model_module": "@jupyter-widgets/base",
      "_model_module_version": "1.2.0",
      "_model_name": "LayoutModel",
      "_view_count": null,
      "_view_module": "@jupyter-widgets/base",
      "_view_module_version": "1.2.0",
      "_view_name": "LayoutView",
      "align_content": null,
      "align_items": null,
      "align_self": null,
      "border": null,
      "bottom": null,
      "display": null,
      "flex": null,
      "flex_flow": null,
      "grid_area": null,
      "grid_auto_columns": null,
      "grid_auto_flow": null,
      "grid_auto_rows": null,
      "grid_column": null,
      "grid_gap": null,
      "grid_row": null,
      "grid_template_areas": null,
      "grid_template_columns": null,
      "grid_template_rows": null,
      "height": null,
      "justify_content": null,
      "justify_items": null,
      "left": null,
      "margin": null,
      "max_height": null,
      "max_width": null,
      "min_height": null,
      "min_width": null,
      "object_fit": null,
      "object_position": null,
      "order": null,
      "overflow": null,
      "overflow_x": null,
      "overflow_y": null,
      "padding": null,
      "right": null,
      "top": null,
      "visibility": null,
      "width": null
     }
    },
    "31df53a0026c4d6cb8bce26cd155c0c8": {
     "model_module": "@jupyter-widgets/base",
     "model_module_version": "1.2.0",
     "model_name": "LayoutModel",
     "state": {
      "_model_module": "@jupyter-widgets/base",
      "_model_module_version": "1.2.0",
      "_model_name": "LayoutModel",
      "_view_count": null,
      "_view_module": "@jupyter-widgets/base",
      "_view_module_version": "1.2.0",
      "_view_name": "LayoutView",
      "align_content": null,
      "align_items": null,
      "align_self": null,
      "border": null,
      "bottom": null,
      "display": null,
      "flex": null,
      "flex_flow": null,
      "grid_area": null,
      "grid_auto_columns": null,
      "grid_auto_flow": null,
      "grid_auto_rows": null,
      "grid_column": null,
      "grid_gap": null,
      "grid_row": null,
      "grid_template_areas": null,
      "grid_template_columns": null,
      "grid_template_rows": null,
      "height": null,
      "justify_content": null,
      "justify_items": null,
      "left": null,
      "margin": null,
      "max_height": null,
      "max_width": null,
      "min_height": null,
      "min_width": null,
      "object_fit": null,
      "object_position": null,
      "order": null,
      "overflow": null,
      "overflow_x": null,
      "overflow_y": null,
      "padding": null,
      "right": null,
      "top": null,
      "visibility": null,
      "width": "20px"
     }
    },
    "3c0f737c4827413daa60b974626be7d8": {
     "model_module": "@jupyter-widgets/base",
     "model_module_version": "1.2.0",
     "model_name": "LayoutModel",
     "state": {
      "_model_module": "@jupyter-widgets/base",
      "_model_module_version": "1.2.0",
      "_model_name": "LayoutModel",
      "_view_count": null,
      "_view_module": "@jupyter-widgets/base",
      "_view_module_version": "1.2.0",
      "_view_name": "LayoutView",
      "align_content": null,
      "align_items": null,
      "align_self": null,
      "border": null,
      "bottom": null,
      "display": null,
      "flex": null,
      "flex_flow": null,
      "grid_area": null,
      "grid_auto_columns": null,
      "grid_auto_flow": null,
      "grid_auto_rows": null,
      "grid_column": null,
      "grid_gap": null,
      "grid_row": null,
      "grid_template_areas": null,
      "grid_template_columns": null,
      "grid_template_rows": null,
      "height": null,
      "justify_content": null,
      "justify_items": null,
      "left": null,
      "margin": null,
      "max_height": null,
      "max_width": null,
      "min_height": null,
      "min_width": null,
      "object_fit": null,
      "object_position": null,
      "order": null,
      "overflow": null,
      "overflow_x": null,
      "overflow_y": null,
      "padding": null,
      "right": null,
      "top": null,
      "visibility": null,
      "width": null
     }
    },
    "42372e14576d47e2866ea087efc75a72": {
     "model_module": "@jupyter-widgets/controls",
     "model_module_version": "1.5.0",
     "model_name": "DescriptionStyleModel",
     "state": {
      "_model_module": "@jupyter-widgets/controls",
      "_model_module_version": "1.5.0",
      "_model_name": "DescriptionStyleModel",
      "_view_count": null,
      "_view_module": "@jupyter-widgets/base",
      "_view_module_version": "1.2.0",
      "_view_name": "StyleView",
      "description_width": ""
     }
    },
    "42c9e1180f4e4325b655e1eee3efdd18": {
     "model_module": "@jupyter-widgets/base",
     "model_module_version": "1.2.0",
     "model_name": "LayoutModel",
     "state": {
      "_model_module": "@jupyter-widgets/base",
      "_model_module_version": "1.2.0",
      "_model_name": "LayoutModel",
      "_view_count": null,
      "_view_module": "@jupyter-widgets/base",
      "_view_module_version": "1.2.0",
      "_view_name": "LayoutView",
      "align_content": null,
      "align_items": null,
      "align_self": null,
      "border": null,
      "bottom": null,
      "display": null,
      "flex": null,
      "flex_flow": null,
      "grid_area": null,
      "grid_auto_columns": null,
      "grid_auto_flow": null,
      "grid_auto_rows": null,
      "grid_column": null,
      "grid_gap": null,
      "grid_row": null,
      "grid_template_areas": null,
      "grid_template_columns": null,
      "grid_template_rows": null,
      "height": null,
      "justify_content": null,
      "justify_items": null,
      "left": null,
      "margin": null,
      "max_height": null,
      "max_width": null,
      "min_height": null,
      "min_width": null,
      "object_fit": null,
      "object_position": null,
      "order": null,
      "overflow": null,
      "overflow_x": null,
      "overflow_y": null,
      "padding": null,
      "right": null,
      "top": null,
      "visibility": null,
      "width": null
     }
    },
    "4321bec53dde4cad86a44a3822e438ed": {
     "model_module": "@jupyter-widgets/base",
     "model_module_version": "1.2.0",
     "model_name": "LayoutModel",
     "state": {
      "_model_module": "@jupyter-widgets/base",
      "_model_module_version": "1.2.0",
      "_model_name": "LayoutModel",
      "_view_count": null,
      "_view_module": "@jupyter-widgets/base",
      "_view_module_version": "1.2.0",
      "_view_name": "LayoutView",
      "align_content": null,
      "align_items": null,
      "align_self": null,
      "border": null,
      "bottom": null,
      "display": null,
      "flex": null,
      "flex_flow": null,
      "grid_area": null,
      "grid_auto_columns": null,
      "grid_auto_flow": null,
      "grid_auto_rows": null,
      "grid_column": null,
      "grid_gap": null,
      "grid_row": null,
      "grid_template_areas": null,
      "grid_template_columns": null,
      "grid_template_rows": null,
      "height": null,
      "justify_content": null,
      "justify_items": null,
      "left": null,
      "margin": null,
      "max_height": null,
      "max_width": null,
      "min_height": null,
      "min_width": null,
      "object_fit": null,
      "object_position": null,
      "order": null,
      "overflow": null,
      "overflow_x": null,
      "overflow_y": null,
      "padding": null,
      "right": null,
      "top": null,
      "visibility": null,
      "width": "20px"
     }
    },
    "432c6e765c784631ad31ccc0eb6268eb": {
     "model_module": "@jupyter-widgets/controls",
     "model_module_version": "1.5.0",
     "model_name": "HTMLModel",
     "state": {
      "_dom_classes": [],
      "_model_module": "@jupyter-widgets/controls",
      "_model_module_version": "1.5.0",
      "_model_name": "HTMLModel",
      "_view_count": null,
      "_view_module": "@jupyter-widgets/controls",
      "_view_module_version": "1.5.0",
      "_view_name": "HTMLView",
      "description": "",
      "description_tooltip": null,
      "layout": "IPY_MODEL_4cab8fee33e74411a3a321ec16aac35b",
      "placeholder": "​",
      "style": "IPY_MODEL_ee63092412784768ad6a6a63d76e2cfd",
      "value": "Shuffling ~/tensorflow_datasets/fashion_mnist/3.0.1.incompleteK5PV5L/fashion_mnist-test.tfrecord*...:   0%"
     }
    },
    "4402ad8417744ee1acd5ab14bdf5d29d": {
     "model_module": "@jupyter-widgets/controls",
     "model_module_version": "1.5.0",
     "model_name": "HTMLModel",
     "state": {
      "_dom_classes": [],
      "_model_module": "@jupyter-widgets/controls",
      "_model_module_version": "1.5.0",
      "_model_name": "HTMLModel",
      "_view_count": null,
      "_view_module": "@jupyter-widgets/controls",
      "_view_module_version": "1.5.0",
      "_view_name": "HTMLView",
      "description": "",
      "description_tooltip": null,
      "layout": "IPY_MODEL_51e5472b7d67483d937f3c950fde7e77",
      "placeholder": "​",
      "style": "IPY_MODEL_6762ab497748481281e52e6a0111ac30",
      "value": "Generating train examples...: 100%"
     }
    },
    "496ff539f23d40fb92d23269dd6f7004": {
     "model_module": "@jupyter-widgets/controls",
     "model_module_version": "1.5.0",
     "model_name": "HBoxModel",
     "state": {
      "_dom_classes": [],
      "_model_module": "@jupyter-widgets/controls",
      "_model_module_version": "1.5.0",
      "_model_name": "HBoxModel",
      "_view_count": null,
      "_view_module": "@jupyter-widgets/controls",
      "_view_module_version": "1.5.0",
      "_view_name": "HBoxView",
      "box_style": "",
      "children": [
       "IPY_MODEL_54b20a4e50914019a20aac89cb8fe9e7",
       "IPY_MODEL_93d36718780849a582b57b2792323859",
       "IPY_MODEL_297955f84b5b4d9d8839d2175125b0f8"
      ],
      "layout": "IPY_MODEL_89e8bc13c1d847a2a34cb3d4e844d09b"
     }
    },
    "4cab8fee33e74411a3a321ec16aac35b": {
     "model_module": "@jupyter-widgets/base",
     "model_module_version": "1.2.0",
     "model_name": "LayoutModel",
     "state": {
      "_model_module": "@jupyter-widgets/base",
      "_model_module_version": "1.2.0",
      "_model_name": "LayoutModel",
      "_view_count": null,
      "_view_module": "@jupyter-widgets/base",
      "_view_module_version": "1.2.0",
      "_view_name": "LayoutView",
      "align_content": null,
      "align_items": null,
      "align_self": null,
      "border": null,
      "bottom": null,
      "display": null,
      "flex": null,
      "flex_flow": null,
      "grid_area": null,
      "grid_auto_columns": null,
      "grid_auto_flow": null,
      "grid_auto_rows": null,
      "grid_column": null,
      "grid_gap": null,
      "grid_row": null,
      "grid_template_areas": null,
      "grid_template_columns": null,
      "grid_template_rows": null,
      "height": null,
      "justify_content": null,
      "justify_items": null,
      "left": null,
      "margin": null,
      "max_height": null,
      "max_width": null,
      "min_height": null,
      "min_width": null,
      "object_fit": null,
      "object_position": null,
      "order": null,
      "overflow": null,
      "overflow_x": null,
      "overflow_y": null,
      "padding": null,
      "right": null,
      "top": null,
      "visibility": null,
      "width": null
     }
    },
    "4d745e9514b14c6e850572472616ff90": {
     "model_module": "@jupyter-widgets/base",
     "model_module_version": "1.2.0",
     "model_name": "LayoutModel",
     "state": {
      "_model_module": "@jupyter-widgets/base",
      "_model_module_version": "1.2.0",
      "_model_name": "LayoutModel",
      "_view_count": null,
      "_view_module": "@jupyter-widgets/base",
      "_view_module_version": "1.2.0",
      "_view_name": "LayoutView",
      "align_content": null,
      "align_items": null,
      "align_self": null,
      "border": null,
      "bottom": null,
      "display": null,
      "flex": null,
      "flex_flow": null,
      "grid_area": null,
      "grid_auto_columns": null,
      "grid_auto_flow": null,
      "grid_auto_rows": null,
      "grid_column": null,
      "grid_gap": null,
      "grid_row": null,
      "grid_template_areas": null,
      "grid_template_columns": null,
      "grid_template_rows": null,
      "height": null,
      "justify_content": null,
      "justify_items": null,
      "left": null,
      "margin": null,
      "max_height": null,
      "max_width": null,
      "min_height": null,
      "min_width": null,
      "object_fit": null,
      "object_position": null,
      "order": null,
      "overflow": null,
      "overflow_x": null,
      "overflow_y": null,
      "padding": null,
      "right": null,
      "top": null,
      "visibility": null,
      "width": null
     }
    },
    "515871be3c674e2d866ec88edee3fd02": {
     "model_module": "@jupyter-widgets/base",
     "model_module_version": "1.2.0",
     "model_name": "LayoutModel",
     "state": {
      "_model_module": "@jupyter-widgets/base",
      "_model_module_version": "1.2.0",
      "_model_name": "LayoutModel",
      "_view_count": null,
      "_view_module": "@jupyter-widgets/base",
      "_view_module_version": "1.2.0",
      "_view_name": "LayoutView",
      "align_content": null,
      "align_items": null,
      "align_self": null,
      "border": null,
      "bottom": null,
      "display": null,
      "flex": null,
      "flex_flow": null,
      "grid_area": null,
      "grid_auto_columns": null,
      "grid_auto_flow": null,
      "grid_auto_rows": null,
      "grid_column": null,
      "grid_gap": null,
      "grid_row": null,
      "grid_template_areas": null,
      "grid_template_columns": null,
      "grid_template_rows": null,
      "height": null,
      "justify_content": null,
      "justify_items": null,
      "left": null,
      "margin": null,
      "max_height": null,
      "max_width": null,
      "min_height": null,
      "min_width": null,
      "object_fit": null,
      "object_position": null,
      "order": null,
      "overflow": null,
      "overflow_x": null,
      "overflow_y": null,
      "padding": null,
      "right": null,
      "top": null,
      "visibility": "hidden",
      "width": null
     }
    },
    "51e5472b7d67483d937f3c950fde7e77": {
     "model_module": "@jupyter-widgets/base",
     "model_module_version": "1.2.0",
     "model_name": "LayoutModel",
     "state": {
      "_model_module": "@jupyter-widgets/base",
      "_model_module_version": "1.2.0",
      "_model_name": "LayoutModel",
      "_view_count": null,
      "_view_module": "@jupyter-widgets/base",
      "_view_module_version": "1.2.0",
      "_view_name": "LayoutView",
      "align_content": null,
      "align_items": null,
      "align_self": null,
      "border": null,
      "bottom": null,
      "display": null,
      "flex": null,
      "flex_flow": null,
      "grid_area": null,
      "grid_auto_columns": null,
      "grid_auto_flow": null,
      "grid_auto_rows": null,
      "grid_column": null,
      "grid_gap": null,
      "grid_row": null,
      "grid_template_areas": null,
      "grid_template_columns": null,
      "grid_template_rows": null,
      "height": null,
      "justify_content": null,
      "justify_items": null,
      "left": null,
      "margin": null,
      "max_height": null,
      "max_width": null,
      "min_height": null,
      "min_width": null,
      "object_fit": null,
      "object_position": null,
      "order": null,
      "overflow": null,
      "overflow_x": null,
      "overflow_y": null,
      "padding": null,
      "right": null,
      "top": null,
      "visibility": null,
      "width": null
     }
    },
    "54b20a4e50914019a20aac89cb8fe9e7": {
     "model_module": "@jupyter-widgets/controls",
     "model_module_version": "1.5.0",
     "model_name": "HTMLModel",
     "state": {
      "_dom_classes": [],
      "_model_module": "@jupyter-widgets/controls",
      "_model_module_version": "1.5.0",
      "_model_name": "HTMLModel",
      "_view_count": null,
      "_view_module": "@jupyter-widgets/controls",
      "_view_module_version": "1.5.0",
      "_view_name": "HTMLView",
      "description": "",
      "description_tooltip": null,
      "layout": "IPY_MODEL_7b179844dd3141798e0bcfc04a594e07",
      "placeholder": "​",
      "style": "IPY_MODEL_e73413dcada44bb4bf625c80da8587b9",
      "value": "Shuffling ~/tensorflow_datasets/fashion_mnist/3.0.1.incompleteK5PV5L/fashion_mnist-train.tfrecord*...:  66%"
     }
    },
    "570a0f4993384210a3f0124f1a7d7af4": {
     "model_module": "@jupyter-widgets/controls",
     "model_module_version": "1.5.0",
     "model_name": "DescriptionStyleModel",
     "state": {
      "_model_module": "@jupyter-widgets/controls",
      "_model_module_version": "1.5.0",
      "_model_name": "DescriptionStyleModel",
      "_view_count": null,
      "_view_module": "@jupyter-widgets/base",
      "_view_module_version": "1.2.0",
      "_view_name": "StyleView",
      "description_width": ""
     }
    },
    "5a279c43419d4a7484cfc6bd92d20210": {
     "model_module": "@jupyter-widgets/controls",
     "model_module_version": "1.5.0",
     "model_name": "HTMLModel",
     "state": {
      "_dom_classes": [],
      "_model_module": "@jupyter-widgets/controls",
      "_model_module_version": "1.5.0",
      "_model_name": "HTMLModel",
      "_view_count": null,
      "_view_module": "@jupyter-widgets/controls",
      "_view_module_version": "1.5.0",
      "_view_name": "HTMLView",
      "description": "",
      "description_tooltip": null,
      "layout": "IPY_MODEL_7601c6ec2f764b6c9b51518c7b29c6aa",
      "placeholder": "​",
      "style": "IPY_MODEL_570a0f4993384210a3f0124f1a7d7af4",
      "value": "Dl Size...: 100%"
     }
    },
    "5a4ab81121d843da9ae3af783c4ebb52": {
     "model_module": "@jupyter-widgets/base",
     "model_module_version": "1.2.0",
     "model_name": "LayoutModel",
     "state": {
      "_model_module": "@jupyter-widgets/base",
      "_model_module_version": "1.2.0",
      "_model_name": "LayoutModel",
      "_view_count": null,
      "_view_module": "@jupyter-widgets/base",
      "_view_module_version": "1.2.0",
      "_view_name": "LayoutView",
      "align_content": null,
      "align_items": null,
      "align_self": null,
      "border": null,
      "bottom": null,
      "display": null,
      "flex": null,
      "flex_flow": null,
      "grid_area": null,
      "grid_auto_columns": null,
      "grid_auto_flow": null,
      "grid_auto_rows": null,
      "grid_column": null,
      "grid_gap": null,
      "grid_row": null,
      "grid_template_areas": null,
      "grid_template_columns": null,
      "grid_template_rows": null,
      "height": null,
      "justify_content": null,
      "justify_items": null,
      "left": null,
      "margin": null,
      "max_height": null,
      "max_width": null,
      "min_height": null,
      "min_width": null,
      "object_fit": null,
      "object_position": null,
      "order": null,
      "overflow": null,
      "overflow_x": null,
      "overflow_y": null,
      "padding": null,
      "right": null,
      "top": null,
      "visibility": null,
      "width": null
     }
    },
    "5e4143463a754a05981b504cd2d5bc15": {
     "model_module": "@jupyter-widgets/controls",
     "model_module_version": "1.5.0",
     "model_name": "FloatProgressModel",
     "state": {
      "_dom_classes": [],
      "_model_module": "@jupyter-widgets/controls",
      "_model_module_version": "1.5.0",
      "_model_name": "FloatProgressModel",
      "_view_count": null,
      "_view_module": "@jupyter-widgets/controls",
      "_view_module_version": "1.5.0",
      "_view_name": "ProgressView",
      "bar_style": "",
      "description": "",
      "description_tooltip": null,
      "layout": "IPY_MODEL_ed1fc5bcde88433e8771652e74c981ea",
      "max": 60000,
      "min": 0,
      "orientation": "horizontal",
      "style": "IPY_MODEL_9951e743417d4d4e9678cfb81837f0b2",
      "value": 60000
     }
    },
    "6762ab497748481281e52e6a0111ac30": {
     "model_module": "@jupyter-widgets/controls",
     "model_module_version": "1.5.0",
     "model_name": "DescriptionStyleModel",
     "state": {
      "_model_module": "@jupyter-widgets/controls",
      "_model_module_version": "1.5.0",
      "_model_name": "DescriptionStyleModel",
      "_view_count": null,
      "_view_module": "@jupyter-widgets/base",
      "_view_module_version": "1.2.0",
      "_view_name": "StyleView",
      "description_width": ""
     }
    },
    "67671ee76ae74d1488ad4986824c89d8": {
     "model_module": "@jupyter-widgets/controls",
     "model_module_version": "1.5.0",
     "model_name": "FloatProgressModel",
     "state": {
      "_dom_classes": [],
      "_model_module": "@jupyter-widgets/controls",
      "_model_module_version": "1.5.0",
      "_model_name": "FloatProgressModel",
      "_view_count": null,
      "_view_module": "@jupyter-widgets/controls",
      "_view_module_version": "1.5.0",
      "_view_name": "ProgressView",
      "bar_style": "",
      "description": "",
      "description_tooltip": null,
      "layout": "IPY_MODEL_6bf3b51cb7c7494b969b0239786c146e",
      "max": 10000,
      "min": 0,
      "orientation": "horizontal",
      "style": "IPY_MODEL_782099a4a4684f8d8548a70a6fa9bf8f",
      "value": 10000
     }
    },
    "6ac34aaeea454a11b3d8eb3fc69439b3": {
     "model_module": "@jupyter-widgets/controls",
     "model_module_version": "1.5.0",
     "model_name": "HBoxModel",
     "state": {
      "_dom_classes": [],
      "_model_module": "@jupyter-widgets/controls",
      "_model_module_version": "1.5.0",
      "_model_name": "HBoxModel",
      "_view_count": null,
      "_view_module": "@jupyter-widgets/controls",
      "_view_module_version": "1.5.0",
      "_view_name": "HBoxView",
      "box_style": "",
      "children": [
       "IPY_MODEL_432c6e765c784631ad31ccc0eb6268eb",
       "IPY_MODEL_67671ee76ae74d1488ad4986824c89d8",
       "IPY_MODEL_c2575b1b8f6144bdbc4c11038241efd5"
      ],
      "layout": "IPY_MODEL_515871be3c674e2d866ec88edee3fd02"
     }
    },
    "6bf3b51cb7c7494b969b0239786c146e": {
     "model_module": "@jupyter-widgets/base",
     "model_module_version": "1.2.0",
     "model_name": "LayoutModel",
     "state": {
      "_model_module": "@jupyter-widgets/base",
      "_model_module_version": "1.2.0",
      "_model_name": "LayoutModel",
      "_view_count": null,
      "_view_module": "@jupyter-widgets/base",
      "_view_module_version": "1.2.0",
      "_view_name": "LayoutView",
      "align_content": null,
      "align_items": null,
      "align_self": null,
      "border": null,
      "bottom": null,
      "display": null,
      "flex": null,
      "flex_flow": null,
      "grid_area": null,
      "grid_auto_columns": null,
      "grid_auto_flow": null,
      "grid_auto_rows": null,
      "grid_column": null,
      "grid_gap": null,
      "grid_row": null,
      "grid_template_areas": null,
      "grid_template_columns": null,
      "grid_template_rows": null,
      "height": null,
      "justify_content": null,
      "justify_items": null,
      "left": null,
      "margin": null,
      "max_height": null,
      "max_width": null,
      "min_height": null,
      "min_width": null,
      "object_fit": null,
      "object_position": null,
      "order": null,
      "overflow": null,
      "overflow_x": null,
      "overflow_y": null,
      "padding": null,
      "right": null,
      "top": null,
      "visibility": null,
      "width": null
     }
    },
    "6c743964ea5c4a0ca1e45bc6dd9c4a1f": {
     "model_module": "@jupyter-widgets/controls",
     "model_module_version": "1.5.0",
     "model_name": "FloatProgressModel",
     "state": {
      "_dom_classes": [],
      "_model_module": "@jupyter-widgets/controls",
      "_model_module_version": "1.5.0",
      "_model_name": "FloatProgressModel",
      "_view_count": null,
      "_view_module": "@jupyter-widgets/controls",
      "_view_module_version": "1.5.0",
      "_view_name": "ProgressView",
      "bar_style": "",
      "description": "",
      "description_tooltip": null,
      "layout": "IPY_MODEL_e259bc73a0a046a0ba7573c9dc622d55",
      "max": 2,
      "min": 0,
      "orientation": "horizontal",
      "style": "IPY_MODEL_d5975689dc0344af8368c5a185cd8141",
      "value": 2
     }
    },
    "6dd33a55245f41bbb7e3560abc7d9207": {
     "model_module": "@jupyter-widgets/base",
     "model_module_version": "1.2.0",
     "model_name": "LayoutModel",
     "state": {
      "_model_module": "@jupyter-widgets/base",
      "_model_module_version": "1.2.0",
      "_model_name": "LayoutModel",
      "_view_count": null,
      "_view_module": "@jupyter-widgets/base",
      "_view_module_version": "1.2.0",
      "_view_name": "LayoutView",
      "align_content": null,
      "align_items": null,
      "align_self": null,
      "border": null,
      "bottom": null,
      "display": null,
      "flex": null,
      "flex_flow": null,
      "grid_area": null,
      "grid_auto_columns": null,
      "grid_auto_flow": null,
      "grid_auto_rows": null,
      "grid_column": null,
      "grid_gap": null,
      "grid_row": null,
      "grid_template_areas": null,
      "grid_template_columns": null,
      "grid_template_rows": null,
      "height": null,
      "justify_content": null,
      "justify_items": null,
      "left": null,
      "margin": null,
      "max_height": null,
      "max_width": null,
      "min_height": null,
      "min_width": null,
      "object_fit": null,
      "object_position": null,
      "order": null,
      "overflow": null,
      "overflow_x": null,
      "overflow_y": null,
      "padding": null,
      "right": null,
      "top": null,
      "visibility": null,
      "width": null
     }
    },
    "720374d1e374428d9ef3e3f98581f7af": {
     "model_module": "@jupyter-widgets/controls",
     "model_module_version": "1.5.0",
     "model_name": "DescriptionStyleModel",
     "state": {
      "_model_module": "@jupyter-widgets/controls",
      "_model_module_version": "1.5.0",
      "_model_name": "DescriptionStyleModel",
      "_view_count": null,
      "_view_module": "@jupyter-widgets/base",
      "_view_module_version": "1.2.0",
      "_view_name": "StyleView",
      "description_width": ""
     }
    },
    "753c38d7ac4440ecae969d1da3a4f4d0": {
     "model_module": "@jupyter-widgets/controls",
     "model_module_version": "1.5.0",
     "model_name": "HBoxModel",
     "state": {
      "_dom_classes": [],
      "_model_module": "@jupyter-widgets/controls",
      "_model_module_version": "1.5.0",
      "_model_name": "HBoxModel",
      "_view_count": null,
      "_view_module": "@jupyter-widgets/controls",
      "_view_module_version": "1.5.0",
      "_view_name": "HBoxView",
      "box_style": "",
      "children": [
       "IPY_MODEL_931d575d8ae4488cabfb2170479c1541",
       "IPY_MODEL_2a5ba3a54a32474dbf866bc4916feaa0",
       "IPY_MODEL_be164a13e3124ed3b85017508f291a29"
      ],
      "layout": "IPY_MODEL_e1825fbf18d34e5092bcaa3215e24ab8"
     }
    },
    "7601c6ec2f764b6c9b51518c7b29c6aa": {
     "model_module": "@jupyter-widgets/base",
     "model_module_version": "1.2.0",
     "model_name": "LayoutModel",
     "state": {
      "_model_module": "@jupyter-widgets/base",
      "_model_module_version": "1.2.0",
      "_model_name": "LayoutModel",
      "_view_count": null,
      "_view_module": "@jupyter-widgets/base",
      "_view_module_version": "1.2.0",
      "_view_name": "LayoutView",
      "align_content": null,
      "align_items": null,
      "align_self": null,
      "border": null,
      "bottom": null,
      "display": null,
      "flex": null,
      "flex_flow": null,
      "grid_area": null,
      "grid_auto_columns": null,
      "grid_auto_flow": null,
      "grid_auto_rows": null,
      "grid_column": null,
      "grid_gap": null,
      "grid_row": null,
      "grid_template_areas": null,
      "grid_template_columns": null,
      "grid_template_rows": null,
      "height": null,
      "justify_content": null,
      "justify_items": null,
      "left": null,
      "margin": null,
      "max_height": null,
      "max_width": null,
      "min_height": null,
      "min_width": null,
      "object_fit": null,
      "object_position": null,
      "order": null,
      "overflow": null,
      "overflow_x": null,
      "overflow_y": null,
      "padding": null,
      "right": null,
      "top": null,
      "visibility": null,
      "width": null
     }
    },
    "772565bf9488407fac71695326410394": {
     "model_module": "@jupyter-widgets/controls",
     "model_module_version": "1.5.0",
     "model_name": "DescriptionStyleModel",
     "state": {
      "_model_module": "@jupyter-widgets/controls",
      "_model_module_version": "1.5.0",
      "_model_name": "DescriptionStyleModel",
      "_view_count": null,
      "_view_module": "@jupyter-widgets/base",
      "_view_module_version": "1.2.0",
      "_view_name": "StyleView",
      "description_width": ""
     }
    },
    "782099a4a4684f8d8548a70a6fa9bf8f": {
     "model_module": "@jupyter-widgets/controls",
     "model_module_version": "1.5.0",
     "model_name": "ProgressStyleModel",
     "state": {
      "_model_module": "@jupyter-widgets/controls",
      "_model_module_version": "1.5.0",
      "_model_name": "ProgressStyleModel",
      "_view_count": null,
      "_view_module": "@jupyter-widgets/base",
      "_view_module_version": "1.2.0",
      "_view_name": "StyleView",
      "bar_color": null,
      "description_width": ""
     }
    },
    "7a82961bbe7a479cb025cc0b104ca669": {
     "model_module": "@jupyter-widgets/controls",
     "model_module_version": "1.5.0",
     "model_name": "HTMLModel",
     "state": {
      "_dom_classes": [],
      "_model_module": "@jupyter-widgets/controls",
      "_model_module_version": "1.5.0",
      "_model_name": "HTMLModel",
      "_view_count": null,
      "_view_module": "@jupyter-widgets/controls",
      "_view_module_version": "1.5.0",
      "_view_name": "HTMLView",
      "description": "",
      "description_tooltip": null,
      "layout": "IPY_MODEL_d4062ffff25b4570b97db017797c0fa6",
      "placeholder": "​",
      "style": "IPY_MODEL_42372e14576d47e2866ea087efc75a72",
      "value": " 2/2 [00:46&lt;00:00, 20.45s/ splits]"
     }
    },
    "7b179844dd3141798e0bcfc04a594e07": {
     "model_module": "@jupyter-widgets/base",
     "model_module_version": "1.2.0",
     "model_name": "LayoutModel",
     "state": {
      "_model_module": "@jupyter-widgets/base",
      "_model_module_version": "1.2.0",
      "_model_name": "LayoutModel",
      "_view_count": null,
      "_view_module": "@jupyter-widgets/base",
      "_view_module_version": "1.2.0",
      "_view_name": "LayoutView",
      "align_content": null,
      "align_items": null,
      "align_self": null,
      "border": null,
      "bottom": null,
      "display": null,
      "flex": null,
      "flex_flow": null,
      "grid_area": null,
      "grid_auto_columns": null,
      "grid_auto_flow": null,
      "grid_auto_rows": null,
      "grid_column": null,
      "grid_gap": null,
      "grid_row": null,
      "grid_template_areas": null,
      "grid_template_columns": null,
      "grid_template_rows": null,
      "height": null,
      "justify_content": null,
      "justify_items": null,
      "left": null,
      "margin": null,
      "max_height": null,
      "max_width": null,
      "min_height": null,
      "min_width": null,
      "object_fit": null,
      "object_position": null,
      "order": null,
      "overflow": null,
      "overflow_x": null,
      "overflow_y": null,
      "padding": null,
      "right": null,
      "top": null,
      "visibility": null,
      "width": null
     }
    },
    "7b800c1800244562b865383167e34cb6": {
     "model_module": "@jupyter-widgets/controls",
     "model_module_version": "1.5.0",
     "model_name": "HBoxModel",
     "state": {
      "_dom_classes": [],
      "_model_module": "@jupyter-widgets/controls",
      "_model_module_version": "1.5.0",
      "_model_name": "HBoxModel",
      "_view_count": null,
      "_view_module": "@jupyter-widgets/controls",
      "_view_module_version": "1.5.0",
      "_view_name": "HBoxView",
      "box_style": "",
      "children": [
       "IPY_MODEL_151a50ca78d24e20a33ae32c80c3dd87",
       "IPY_MODEL_03710593a069427cafb9cabd94675bc2",
       "IPY_MODEL_9d9e522529854600b2cee2c069804d94"
      ],
      "layout": "IPY_MODEL_d4afc6afc63843499d47368788ecb0a7"
     }
    },
    "7fcf87d24bcc4197be2e195506b7d9b9": {
     "model_module": "@jupyter-widgets/controls",
     "model_module_version": "1.5.0",
     "model_name": "DescriptionStyleModel",
     "state": {
      "_model_module": "@jupyter-widgets/controls",
      "_model_module_version": "1.5.0",
      "_model_name": "DescriptionStyleModel",
      "_view_count": null,
      "_view_module": "@jupyter-widgets/base",
      "_view_module_version": "1.2.0",
      "_view_name": "StyleView",
      "description_width": ""
     }
    },
    "8731ae9eb81f4fad82218760075866e9": {
     "model_module": "@jupyter-widgets/controls",
     "model_module_version": "1.5.0",
     "model_name": "HBoxModel",
     "state": {
      "_dom_classes": [],
      "_model_module": "@jupyter-widgets/controls",
      "_model_module_version": "1.5.0",
      "_model_name": "HBoxModel",
      "_view_count": null,
      "_view_module": "@jupyter-widgets/controls",
      "_view_module_version": "1.5.0",
      "_view_name": "HBoxView",
      "box_style": "",
      "children": [
       "IPY_MODEL_26288ef2a19449c3b01b86cfa9993adf",
       "IPY_MODEL_6c743964ea5c4a0ca1e45bc6dd9c4a1f",
       "IPY_MODEL_7a82961bbe7a479cb025cc0b104ca669"
      ],
      "layout": "IPY_MODEL_e5062db356fa4791b37f292fb0e3d249"
     }
    },
    "88bb9bac631345aca631fb9a992ccdde": {
     "model_module": "@jupyter-widgets/controls",
     "model_module_version": "1.5.0",
     "model_name": "ProgressStyleModel",
     "state": {
      "_model_module": "@jupyter-widgets/controls",
      "_model_module_version": "1.5.0",
      "_model_name": "ProgressStyleModel",
      "_view_count": null,
      "_view_module": "@jupyter-widgets/base",
      "_view_module_version": "1.2.0",
      "_view_name": "StyleView",
      "bar_color": null,
      "description_width": ""
     }
    },
    "89e8bc13c1d847a2a34cb3d4e844d09b": {
     "model_module": "@jupyter-widgets/base",
     "model_module_version": "1.2.0",
     "model_name": "LayoutModel",
     "state": {
      "_model_module": "@jupyter-widgets/base",
      "_model_module_version": "1.2.0",
      "_model_name": "LayoutModel",
      "_view_count": null,
      "_view_module": "@jupyter-widgets/base",
      "_view_module_version": "1.2.0",
      "_view_name": "LayoutView",
      "align_content": null,
      "align_items": null,
      "align_self": null,
      "border": null,
      "bottom": null,
      "display": null,
      "flex": null,
      "flex_flow": null,
      "grid_area": null,
      "grid_auto_columns": null,
      "grid_auto_flow": null,
      "grid_auto_rows": null,
      "grid_column": null,
      "grid_gap": null,
      "grid_row": null,
      "grid_template_areas": null,
      "grid_template_columns": null,
      "grid_template_rows": null,
      "height": null,
      "justify_content": null,
      "justify_items": null,
      "left": null,
      "margin": null,
      "max_height": null,
      "max_width": null,
      "min_height": null,
      "min_width": null,
      "object_fit": null,
      "object_position": null,
      "order": null,
      "overflow": null,
      "overflow_x": null,
      "overflow_y": null,
      "padding": null,
      "right": null,
      "top": null,
      "visibility": "hidden",
      "width": null
     }
    },
    "8f8c83d0381345e097fb9cbcba72e87e": {
     "model_module": "@jupyter-widgets/controls",
     "model_module_version": "1.5.0",
     "model_name": "FloatProgressModel",
     "state": {
      "_dom_classes": [],
      "_model_module": "@jupyter-widgets/controls",
      "_model_module_version": "1.5.0",
      "_model_name": "FloatProgressModel",
      "_view_count": null,
      "_view_module": "@jupyter-widgets/controls",
      "_view_module_version": "1.5.0",
      "_view_name": "ProgressView",
      "bar_style": "success",
      "description": "",
      "description_tooltip": null,
      "layout": "IPY_MODEL_4321bec53dde4cad86a44a3822e438ed",
      "max": 1,
      "min": 0,
      "orientation": "horizontal",
      "style": "IPY_MODEL_e312be0d0e304f5eae24a218fee9a010",
      "value": 1
     }
    },
    "931d575d8ae4488cabfb2170479c1541": {
     "model_module": "@jupyter-widgets/controls",
     "model_module_version": "1.5.0",
     "model_name": "HTMLModel",
     "state": {
      "_dom_classes": [],
      "_model_module": "@jupyter-widgets/controls",
      "_model_module_version": "1.5.0",
      "_model_name": "HTMLModel",
      "_view_count": null,
      "_view_module": "@jupyter-widgets/controls",
      "_view_module_version": "1.5.0",
      "_view_name": "HTMLView",
      "description": "",
      "description_tooltip": null,
      "layout": "IPY_MODEL_e8e3ae1e935f4aefa81824030021b464",
      "placeholder": "​",
      "style": "IPY_MODEL_94490f9b945e4b6780d2c8271d29d893",
      "value": "Generating test examples...: 100%"
     }
    },
    "93d36718780849a582b57b2792323859": {
     "model_module": "@jupyter-widgets/controls",
     "model_module_version": "1.5.0",
     "model_name": "FloatProgressModel",
     "state": {
      "_dom_classes": [],
      "_model_module": "@jupyter-widgets/controls",
      "_model_module_version": "1.5.0",
      "_model_name": "FloatProgressModel",
      "_view_count": null,
      "_view_module": "@jupyter-widgets/controls",
      "_view_module_version": "1.5.0",
      "_view_name": "ProgressView",
      "bar_style": "",
      "description": "",
      "description_tooltip": null,
      "layout": "IPY_MODEL_0bd5dac626454b27abd0e4ec209277ff",
      "max": 60000,
      "min": 0,
      "orientation": "horizontal",
      "style": "IPY_MODEL_e9ca48d22f2d45039452d15b737924d5",
      "value": 60000
     }
    },
    "94490f9b945e4b6780d2c8271d29d893": {
     "model_module": "@jupyter-widgets/controls",
     "model_module_version": "1.5.0",
     "model_name": "DescriptionStyleModel",
     "state": {
      "_model_module": "@jupyter-widgets/controls",
      "_model_module_version": "1.5.0",
      "_model_name": "DescriptionStyleModel",
      "_view_count": null,
      "_view_module": "@jupyter-widgets/base",
      "_view_module_version": "1.2.0",
      "_view_name": "StyleView",
      "description_width": ""
     }
    },
    "9951e743417d4d4e9678cfb81837f0b2": {
     "model_module": "@jupyter-widgets/controls",
     "model_module_version": "1.5.0",
     "model_name": "ProgressStyleModel",
     "state": {
      "_model_module": "@jupyter-widgets/controls",
      "_model_module_version": "1.5.0",
      "_model_name": "ProgressStyleModel",
      "_view_count": null,
      "_view_module": "@jupyter-widgets/base",
      "_view_module_version": "1.2.0",
      "_view_name": "StyleView",
      "bar_color": null,
      "description_width": ""
     }
    },
    "996b7d79e5704c57834dd840b08c7241": {
     "model_module": "@jupyter-widgets/base",
     "model_module_version": "1.2.0",
     "model_name": "LayoutModel",
     "state": {
      "_model_module": "@jupyter-widgets/base",
      "_model_module_version": "1.2.0",
      "_model_name": "LayoutModel",
      "_view_count": null,
      "_view_module": "@jupyter-widgets/base",
      "_view_module_version": "1.2.0",
      "_view_name": "LayoutView",
      "align_content": null,
      "align_items": null,
      "align_self": null,
      "border": null,
      "bottom": null,
      "display": null,
      "flex": null,
      "flex_flow": null,
      "grid_area": null,
      "grid_auto_columns": null,
      "grid_auto_flow": null,
      "grid_auto_rows": null,
      "grid_column": null,
      "grid_gap": null,
      "grid_row": null,
      "grid_template_areas": null,
      "grid_template_columns": null,
      "grid_template_rows": null,
      "height": null,
      "justify_content": null,
      "justify_items": null,
      "left": null,
      "margin": null,
      "max_height": null,
      "max_width": null,
      "min_height": null,
      "min_width": null,
      "object_fit": null,
      "object_position": null,
      "order": null,
      "overflow": null,
      "overflow_x": null,
      "overflow_y": null,
      "padding": null,
      "right": null,
      "top": null,
      "visibility": null,
      "width": null
     }
    },
    "9ad21e35e91848b4acb2390f39b51f1b": {
     "model_module": "@jupyter-widgets/controls",
     "model_module_version": "1.5.0",
     "model_name": "HBoxModel",
     "state": {
      "_dom_classes": [],
      "_model_module": "@jupyter-widgets/controls",
      "_model_module_version": "1.5.0",
      "_model_name": "HBoxModel",
      "_view_count": null,
      "_view_module": "@jupyter-widgets/controls",
      "_view_module_version": "1.5.0",
      "_view_name": "HBoxView",
      "box_style": "",
      "children": [
       "IPY_MODEL_4402ad8417744ee1acd5ab14bdf5d29d",
       "IPY_MODEL_5e4143463a754a05981b504cd2d5bc15",
       "IPY_MODEL_d13bf0ab11b24c5ea9f6aa7927566a62"
      ],
      "layout": "IPY_MODEL_298db1dcfd614e609af4f712acaab7de"
     }
    },
    "9d7df7c3f1464e368cee6ce89dc6f018": {
     "model_module": "@jupyter-widgets/controls",
     "model_module_version": "1.5.0",
     "model_name": "DescriptionStyleModel",
     "state": {
      "_model_module": "@jupyter-widgets/controls",
      "_model_module_version": "1.5.0",
      "_model_name": "DescriptionStyleModel",
      "_view_count": null,
      "_view_module": "@jupyter-widgets/base",
      "_view_module_version": "1.2.0",
      "_view_name": "StyleView",
      "description_width": ""
     }
    },
    "9d9e522529854600b2cee2c069804d94": {
     "model_module": "@jupyter-widgets/controls",
     "model_module_version": "1.5.0",
     "model_name": "HTMLModel",
     "state": {
      "_dom_classes": [],
      "_model_module": "@jupyter-widgets/controls",
      "_model_module_version": "1.5.0",
      "_model_name": "HTMLModel",
      "_view_count": null,
      "_view_module": "@jupyter-widgets/controls",
      "_view_module_version": "1.5.0",
      "_view_name": "HTMLView",
      "description": "",
      "description_tooltip": null,
      "layout": "IPY_MODEL_42c9e1180f4e4325b655e1eee3efdd18",
      "placeholder": "​",
      "style": "IPY_MODEL_720374d1e374428d9ef3e3f98581f7af",
      "value": " 4/4 [00:04&lt;00:00,  1.30s/ file]"
     }
    },
    "b623d35e8f874ba59413897130863259": {
     "model_module": "@jupyter-widgets/base",
     "model_module_version": "1.2.0",
     "model_name": "LayoutModel",
     "state": {
      "_model_module": "@jupyter-widgets/base",
      "_model_module_version": "1.2.0",
      "_model_name": "LayoutModel",
      "_view_count": null,
      "_view_module": "@jupyter-widgets/base",
      "_view_module_version": "1.2.0",
      "_view_name": "LayoutView",
      "align_content": null,
      "align_items": null,
      "align_self": null,
      "border": null,
      "bottom": null,
      "display": null,
      "flex": null,
      "flex_flow": null,
      "grid_area": null,
      "grid_auto_columns": null,
      "grid_auto_flow": null,
      "grid_auto_rows": null,
      "grid_column": null,
      "grid_gap": null,
      "grid_row": null,
      "grid_template_areas": null,
      "grid_template_columns": null,
      "grid_template_rows": null,
      "height": null,
      "justify_content": null,
      "justify_items": null,
      "left": null,
      "margin": null,
      "max_height": null,
      "max_width": null,
      "min_height": null,
      "min_width": null,
      "object_fit": null,
      "object_position": null,
      "order": null,
      "overflow": null,
      "overflow_x": null,
      "overflow_y": null,
      "padding": null,
      "right": null,
      "top": null,
      "visibility": null,
      "width": null
     }
    },
    "b9ae1da38ec44800897b7b6bc5b7832c": {
     "model_module": "@jupyter-widgets/base",
     "model_module_version": "1.2.0",
     "model_name": "LayoutModel",
     "state": {
      "_model_module": "@jupyter-widgets/base",
      "_model_module_version": "1.2.0",
      "_model_name": "LayoutModel",
      "_view_count": null,
      "_view_module": "@jupyter-widgets/base",
      "_view_module_version": "1.2.0",
      "_view_name": "LayoutView",
      "align_content": null,
      "align_items": null,
      "align_self": null,
      "border": null,
      "bottom": null,
      "display": null,
      "flex": null,
      "flex_flow": null,
      "grid_area": null,
      "grid_auto_columns": null,
      "grid_auto_flow": null,
      "grid_auto_rows": null,
      "grid_column": null,
      "grid_gap": null,
      "grid_row": null,
      "grid_template_areas": null,
      "grid_template_columns": null,
      "grid_template_rows": null,
      "height": null,
      "justify_content": null,
      "justify_items": null,
      "left": null,
      "margin": null,
      "max_height": null,
      "max_width": null,
      "min_height": null,
      "min_width": null,
      "object_fit": null,
      "object_position": null,
      "order": null,
      "overflow": null,
      "overflow_x": null,
      "overflow_y": null,
      "padding": null,
      "right": null,
      "top": null,
      "visibility": null,
      "width": null
     }
    },
    "be164a13e3124ed3b85017508f291a29": {
     "model_module": "@jupyter-widgets/controls",
     "model_module_version": "1.5.0",
     "model_name": "HTMLModel",
     "state": {
      "_dom_classes": [],
      "_model_module": "@jupyter-widgets/controls",
      "_model_module_version": "1.5.0",
      "_model_name": "HTMLModel",
      "_view_count": null,
      "_view_module": "@jupyter-widgets/controls",
      "_view_module_version": "1.5.0",
      "_view_name": "HTMLView",
      "description": "",
      "description_tooltip": null,
      "layout": "IPY_MODEL_4d745e9514b14c6e850572472616ff90",
      "placeholder": "​",
      "style": "IPY_MODEL_e31d631bebaf4715a10932069408823b",
      "value": " 9977/10000 [00:06&lt;00:00, 1615.24 examples/s]"
     }
    },
    "c2575b1b8f6144bdbc4c11038241efd5": {
     "model_module": "@jupyter-widgets/controls",
     "model_module_version": "1.5.0",
     "model_name": "HTMLModel",
     "state": {
      "_dom_classes": [],
      "_model_module": "@jupyter-widgets/controls",
      "_model_module_version": "1.5.0",
      "_model_name": "HTMLModel",
      "_view_count": null,
      "_view_module": "@jupyter-widgets/controls",
      "_view_module_version": "1.5.0",
      "_view_name": "HTMLView",
      "description": "",
      "description_tooltip": null,
      "layout": "IPY_MODEL_2edefd16ac3846b6b2ea7321d1a2ea6d",
      "placeholder": "​",
      "style": "IPY_MODEL_e3602b46f4034caa9745efa902e3861e",
      "value": " 0/10000 [00:00&lt;?, ? examples/s]"
     }
    },
    "c731defc5e934d3daba23b1ec9a6303b": {
     "model_module": "@jupyter-widgets/base",
     "model_module_version": "1.2.0",
     "model_name": "LayoutModel",
     "state": {
      "_model_module": "@jupyter-widgets/base",
      "_model_module_version": "1.2.0",
      "_model_name": "LayoutModel",
      "_view_count": null,
      "_view_module": "@jupyter-widgets/base",
      "_view_module_version": "1.2.0",
      "_view_name": "LayoutView",
      "align_content": null,
      "align_items": null,
      "align_self": null,
      "border": null,
      "bottom": null,
      "display": null,
      "flex": null,
      "flex_flow": null,
      "grid_area": null,
      "grid_auto_columns": null,
      "grid_auto_flow": null,
      "grid_auto_rows": null,
      "grid_column": null,
      "grid_gap": null,
      "grid_row": null,
      "grid_template_areas": null,
      "grid_template_columns": null,
      "grid_template_rows": null,
      "height": null,
      "justify_content": null,
      "justify_items": null,
      "left": null,
      "margin": null,
      "max_height": null,
      "max_width": null,
      "min_height": null,
      "min_width": null,
      "object_fit": null,
      "object_position": null,
      "order": null,
      "overflow": null,
      "overflow_x": null,
      "overflow_y": null,
      "padding": null,
      "right": null,
      "top": null,
      "visibility": null,
      "width": "20px"
     }
    },
    "d13bf0ab11b24c5ea9f6aa7927566a62": {
     "model_module": "@jupyter-widgets/controls",
     "model_module_version": "1.5.0",
     "model_name": "HTMLModel",
     "state": {
      "_dom_classes": [],
      "_model_module": "@jupyter-widgets/controls",
      "_model_module_version": "1.5.0",
      "_model_name": "HTMLModel",
      "_view_count": null,
      "_view_module": "@jupyter-widgets/controls",
      "_view_module_version": "1.5.0",
      "_view_name": "HTMLView",
      "description": "",
      "description_tooltip": null,
      "layout": "IPY_MODEL_5a4ab81121d843da9ae3af783c4ebb52",
      "placeholder": "​",
      "style": "IPY_MODEL_7fcf87d24bcc4197be2e195506b7d9b9",
      "value": " 59856/60000 [00:39&lt;00:00, 1705.55 examples/s]"
     }
    },
    "d4062ffff25b4570b97db017797c0fa6": {
     "model_module": "@jupyter-widgets/base",
     "model_module_version": "1.2.0",
     "model_name": "LayoutModel",
     "state": {
      "_model_module": "@jupyter-widgets/base",
      "_model_module_version": "1.2.0",
      "_model_name": "LayoutModel",
      "_view_count": null,
      "_view_module": "@jupyter-widgets/base",
      "_view_module_version": "1.2.0",
      "_view_name": "LayoutView",
      "align_content": null,
      "align_items": null,
      "align_self": null,
      "border": null,
      "bottom": null,
      "display": null,
      "flex": null,
      "flex_flow": null,
      "grid_area": null,
      "grid_auto_columns": null,
      "grid_auto_flow": null,
      "grid_auto_rows": null,
      "grid_column": null,
      "grid_gap": null,
      "grid_row": null,
      "grid_template_areas": null,
      "grid_template_columns": null,
      "grid_template_rows": null,
      "height": null,
      "justify_content": null,
      "justify_items": null,
      "left": null,
      "margin": null,
      "max_height": null,
      "max_width": null,
      "min_height": null,
      "min_width": null,
      "object_fit": null,
      "object_position": null,
      "order": null,
      "overflow": null,
      "overflow_x": null,
      "overflow_y": null,
      "padding": null,
      "right": null,
      "top": null,
      "visibility": null,
      "width": null
     }
    },
    "d4afc6afc63843499d47368788ecb0a7": {
     "model_module": "@jupyter-widgets/base",
     "model_module_version": "1.2.0",
     "model_name": "LayoutModel",
     "state": {
      "_model_module": "@jupyter-widgets/base",
      "_model_module_version": "1.2.0",
      "_model_name": "LayoutModel",
      "_view_count": null,
      "_view_module": "@jupyter-widgets/base",
      "_view_module_version": "1.2.0",
      "_view_name": "LayoutView",
      "align_content": null,
      "align_items": null,
      "align_self": null,
      "border": null,
      "bottom": null,
      "display": null,
      "flex": null,
      "flex_flow": null,
      "grid_area": null,
      "grid_auto_columns": null,
      "grid_auto_flow": null,
      "grid_auto_rows": null,
      "grid_column": null,
      "grid_gap": null,
      "grid_row": null,
      "grid_template_areas": null,
      "grid_template_columns": null,
      "grid_template_rows": null,
      "height": null,
      "justify_content": null,
      "justify_items": null,
      "left": null,
      "margin": null,
      "max_height": null,
      "max_width": null,
      "min_height": null,
      "min_width": null,
      "object_fit": null,
      "object_position": null,
      "order": null,
      "overflow": null,
      "overflow_x": null,
      "overflow_y": null,
      "padding": null,
      "right": null,
      "top": null,
      "visibility": null,
      "width": null
     }
    },
    "d510e5091cea4717b5a45bc9e116b0c7": {
     "model_module": "@jupyter-widgets/controls",
     "model_module_version": "1.5.0",
     "model_name": "HBoxModel",
     "state": {
      "_dom_classes": [],
      "_model_module": "@jupyter-widgets/controls",
      "_model_module_version": "1.5.0",
      "_model_name": "HBoxModel",
      "_view_count": null,
      "_view_module": "@jupyter-widgets/controls",
      "_view_module_version": "1.5.0",
      "_view_name": "HBoxView",
      "box_style": "",
      "children": [
       "IPY_MODEL_eac2b35257d643589e7f4536f0fd943e",
       "IPY_MODEL_8f8c83d0381345e097fb9cbcba72e87e",
       "IPY_MODEL_def9b610cfc447aab078af1f0af8d379"
      ],
      "layout": "IPY_MODEL_b623d35e8f874ba59413897130863259"
     }
    },
    "d5975689dc0344af8368c5a185cd8141": {
     "model_module": "@jupyter-widgets/controls",
     "model_module_version": "1.5.0",
     "model_name": "ProgressStyleModel",
     "state": {
      "_model_module": "@jupyter-widgets/controls",
      "_model_module_version": "1.5.0",
      "_model_name": "ProgressStyleModel",
      "_view_count": null,
      "_view_module": "@jupyter-widgets/base",
      "_view_module_version": "1.2.0",
      "_view_name": "StyleView",
      "bar_color": null,
      "description_width": ""
     }
    },
    "de4f910617784294a4caea86f5746f95": {
     "model_module": "@jupyter-widgets/base",
     "model_module_version": "1.2.0",
     "model_name": "LayoutModel",
     "state": {
      "_model_module": "@jupyter-widgets/base",
      "_model_module_version": "1.2.0",
      "_model_name": "LayoutModel",
      "_view_count": null,
      "_view_module": "@jupyter-widgets/base",
      "_view_module_version": "1.2.0",
      "_view_name": "LayoutView",
      "align_content": null,
      "align_items": null,
      "align_self": null,
      "border": null,
      "bottom": null,
      "display": null,
      "flex": null,
      "flex_flow": null,
      "grid_area": null,
      "grid_auto_columns": null,
      "grid_auto_flow": null,
      "grid_auto_rows": null,
      "grid_column": null,
      "grid_gap": null,
      "grid_row": null,
      "grid_template_areas": null,
      "grid_template_columns": null,
      "grid_template_rows": null,
      "height": null,
      "justify_content": null,
      "justify_items": null,
      "left": null,
      "margin": null,
      "max_height": null,
      "max_width": null,
      "min_height": null,
      "min_width": null,
      "object_fit": null,
      "object_position": null,
      "order": null,
      "overflow": null,
      "overflow_x": null,
      "overflow_y": null,
      "padding": null,
      "right": null,
      "top": null,
      "visibility": null,
      "width": null
     }
    },
    "def9b610cfc447aab078af1f0af8d379": {
     "model_module": "@jupyter-widgets/controls",
     "model_module_version": "1.5.0",
     "model_name": "HTMLModel",
     "state": {
      "_dom_classes": [],
      "_model_module": "@jupyter-widgets/controls",
      "_model_module_version": "1.5.0",
      "_model_name": "HTMLModel",
      "_view_count": null,
      "_view_module": "@jupyter-widgets/controls",
      "_view_module_version": "1.5.0",
      "_view_name": "HTMLView",
      "description": "",
      "description_tooltip": null,
      "layout": "IPY_MODEL_3c0f737c4827413daa60b974626be7d8",
      "placeholder": "​",
      "style": "IPY_MODEL_230bc3719c884c538968acb10f8704e9",
      "value": " 4/4 [00:04&lt;00:00,  1.18s/ url]"
     }
    },
    "dffb6d8a2a694e7e87a3e2defd401cf2": {
     "model_module": "@jupyter-widgets/controls",
     "model_module_version": "1.5.0",
     "model_name": "HTMLModel",
     "state": {
      "_dom_classes": [],
      "_model_module": "@jupyter-widgets/controls",
      "_model_module_version": "1.5.0",
      "_model_name": "HTMLModel",
      "_view_count": null,
      "_view_module": "@jupyter-widgets/controls",
      "_view_module_version": "1.5.0",
      "_view_name": "HTMLView",
      "description": "",
      "description_tooltip": null,
      "layout": "IPY_MODEL_2eec08cafc334e5090c61dca480068f0",
      "placeholder": "​",
      "style": "IPY_MODEL_772565bf9488407fac71695326410394",
      "value": " 29/29 [00:04&lt;00:00, 11.15 MiB/s]"
     }
    },
    "e1825fbf18d34e5092bcaa3215e24ab8": {
     "model_module": "@jupyter-widgets/base",
     "model_module_version": "1.2.0",
     "model_name": "LayoutModel",
     "state": {
      "_model_module": "@jupyter-widgets/base",
      "_model_module_version": "1.2.0",
      "_model_name": "LayoutModel",
      "_view_count": null,
      "_view_module": "@jupyter-widgets/base",
      "_view_module_version": "1.2.0",
      "_view_name": "LayoutView",
      "align_content": null,
      "align_items": null,
      "align_self": null,
      "border": null,
      "bottom": null,
      "display": null,
      "flex": null,
      "flex_flow": null,
      "grid_area": null,
      "grid_auto_columns": null,
      "grid_auto_flow": null,
      "grid_auto_rows": null,
      "grid_column": null,
      "grid_gap": null,
      "grid_row": null,
      "grid_template_areas": null,
      "grid_template_columns": null,
      "grid_template_rows": null,
      "height": null,
      "justify_content": null,
      "justify_items": null,
      "left": null,
      "margin": null,
      "max_height": null,
      "max_width": null,
      "min_height": null,
      "min_width": null,
      "object_fit": null,
      "object_position": null,
      "order": null,
      "overflow": null,
      "overflow_x": null,
      "overflow_y": null,
      "padding": null,
      "right": null,
      "top": null,
      "visibility": "hidden",
      "width": null
     }
    },
    "e259bc73a0a046a0ba7573c9dc622d55": {
     "model_module": "@jupyter-widgets/base",
     "model_module_version": "1.2.0",
     "model_name": "LayoutModel",
     "state": {
      "_model_module": "@jupyter-widgets/base",
      "_model_module_version": "1.2.0",
      "_model_name": "LayoutModel",
      "_view_count": null,
      "_view_module": "@jupyter-widgets/base",
      "_view_module_version": "1.2.0",
      "_view_name": "LayoutView",
      "align_content": null,
      "align_items": null,
      "align_self": null,
      "border": null,
      "bottom": null,
      "display": null,
      "flex": null,
      "flex_flow": null,
      "grid_area": null,
      "grid_auto_columns": null,
      "grid_auto_flow": null,
      "grid_auto_rows": null,
      "grid_column": null,
      "grid_gap": null,
      "grid_row": null,
      "grid_template_areas": null,
      "grid_template_columns": null,
      "grid_template_rows": null,
      "height": null,
      "justify_content": null,
      "justify_items": null,
      "left": null,
      "margin": null,
      "max_height": null,
      "max_width": null,
      "min_height": null,
      "min_width": null,
      "object_fit": null,
      "object_position": null,
      "order": null,
      "overflow": null,
      "overflow_x": null,
      "overflow_y": null,
      "padding": null,
      "right": null,
      "top": null,
      "visibility": null,
      "width": null
     }
    },
    "e312be0d0e304f5eae24a218fee9a010": {
     "model_module": "@jupyter-widgets/controls",
     "model_module_version": "1.5.0",
     "model_name": "ProgressStyleModel",
     "state": {
      "_model_module": "@jupyter-widgets/controls",
      "_model_module_version": "1.5.0",
      "_model_name": "ProgressStyleModel",
      "_view_count": null,
      "_view_module": "@jupyter-widgets/base",
      "_view_module_version": "1.2.0",
      "_view_name": "StyleView",
      "bar_color": null,
      "description_width": ""
     }
    },
    "e31d631bebaf4715a10932069408823b": {
     "model_module": "@jupyter-widgets/controls",
     "model_module_version": "1.5.0",
     "model_name": "DescriptionStyleModel",
     "state": {
      "_model_module": "@jupyter-widgets/controls",
      "_model_module_version": "1.5.0",
      "_model_name": "DescriptionStyleModel",
      "_view_count": null,
      "_view_module": "@jupyter-widgets/base",
      "_view_module_version": "1.2.0",
      "_view_name": "StyleView",
      "description_width": ""
     }
    },
    "e3602b46f4034caa9745efa902e3861e": {
     "model_module": "@jupyter-widgets/controls",
     "model_module_version": "1.5.0",
     "model_name": "DescriptionStyleModel",
     "state": {
      "_model_module": "@jupyter-widgets/controls",
      "_model_module_version": "1.5.0",
      "_model_name": "DescriptionStyleModel",
      "_view_count": null,
      "_view_module": "@jupyter-widgets/base",
      "_view_module_version": "1.2.0",
      "_view_name": "StyleView",
      "description_width": ""
     }
    },
    "e5062db356fa4791b37f292fb0e3d249": {
     "model_module": "@jupyter-widgets/base",
     "model_module_version": "1.2.0",
     "model_name": "LayoutModel",
     "state": {
      "_model_module": "@jupyter-widgets/base",
      "_model_module_version": "1.2.0",
      "_model_name": "LayoutModel",
      "_view_count": null,
      "_view_module": "@jupyter-widgets/base",
      "_view_module_version": "1.2.0",
      "_view_name": "LayoutView",
      "align_content": null,
      "align_items": null,
      "align_self": null,
      "border": null,
      "bottom": null,
      "display": null,
      "flex": null,
      "flex_flow": null,
      "grid_area": null,
      "grid_auto_columns": null,
      "grid_auto_flow": null,
      "grid_auto_rows": null,
      "grid_column": null,
      "grid_gap": null,
      "grid_row": null,
      "grid_template_areas": null,
      "grid_template_columns": null,
      "grid_template_rows": null,
      "height": null,
      "justify_content": null,
      "justify_items": null,
      "left": null,
      "margin": null,
      "max_height": null,
      "max_width": null,
      "min_height": null,
      "min_width": null,
      "object_fit": null,
      "object_position": null,
      "order": null,
      "overflow": null,
      "overflow_x": null,
      "overflow_y": null,
      "padding": null,
      "right": null,
      "top": null,
      "visibility": "hidden",
      "width": null
     }
    },
    "e73413dcada44bb4bf625c80da8587b9": {
     "model_module": "@jupyter-widgets/controls",
     "model_module_version": "1.5.0",
     "model_name": "DescriptionStyleModel",
     "state": {
      "_model_module": "@jupyter-widgets/controls",
      "_model_module_version": "1.5.0",
      "_model_name": "DescriptionStyleModel",
      "_view_count": null,
      "_view_module": "@jupyter-widgets/base",
      "_view_module_version": "1.2.0",
      "_view_name": "StyleView",
      "description_width": ""
     }
    },
    "e808a81b3f704aba9761be89f5ac8811": {
     "model_module": "@jupyter-widgets/controls",
     "model_module_version": "1.5.0",
     "model_name": "DescriptionStyleModel",
     "state": {
      "_model_module": "@jupyter-widgets/controls",
      "_model_module_version": "1.5.0",
      "_model_name": "DescriptionStyleModel",
      "_view_count": null,
      "_view_module": "@jupyter-widgets/base",
      "_view_module_version": "1.2.0",
      "_view_name": "StyleView",
      "description_width": ""
     }
    },
    "e8e3ae1e935f4aefa81824030021b464": {
     "model_module": "@jupyter-widgets/base",
     "model_module_version": "1.2.0",
     "model_name": "LayoutModel",
     "state": {
      "_model_module": "@jupyter-widgets/base",
      "_model_module_version": "1.2.0",
      "_model_name": "LayoutModel",
      "_view_count": null,
      "_view_module": "@jupyter-widgets/base",
      "_view_module_version": "1.2.0",
      "_view_name": "LayoutView",
      "align_content": null,
      "align_items": null,
      "align_self": null,
      "border": null,
      "bottom": null,
      "display": null,
      "flex": null,
      "flex_flow": null,
      "grid_area": null,
      "grid_auto_columns": null,
      "grid_auto_flow": null,
      "grid_auto_rows": null,
      "grid_column": null,
      "grid_gap": null,
      "grid_row": null,
      "grid_template_areas": null,
      "grid_template_columns": null,
      "grid_template_rows": null,
      "height": null,
      "justify_content": null,
      "justify_items": null,
      "left": null,
      "margin": null,
      "max_height": null,
      "max_width": null,
      "min_height": null,
      "min_width": null,
      "object_fit": null,
      "object_position": null,
      "order": null,
      "overflow": null,
      "overflow_x": null,
      "overflow_y": null,
      "padding": null,
      "right": null,
      "top": null,
      "visibility": null,
      "width": null
     }
    },
    "e9ca48d22f2d45039452d15b737924d5": {
     "model_module": "@jupyter-widgets/controls",
     "model_module_version": "1.5.0",
     "model_name": "ProgressStyleModel",
     "state": {
      "_model_module": "@jupyter-widgets/controls",
      "_model_module_version": "1.5.0",
      "_model_name": "ProgressStyleModel",
      "_view_count": null,
      "_view_module": "@jupyter-widgets/base",
      "_view_module_version": "1.2.0",
      "_view_name": "StyleView",
      "bar_color": null,
      "description_width": ""
     }
    },
    "eac2b35257d643589e7f4536f0fd943e": {
     "model_module": "@jupyter-widgets/controls",
     "model_module_version": "1.5.0",
     "model_name": "HTMLModel",
     "state": {
      "_dom_classes": [],
      "_model_module": "@jupyter-widgets/controls",
      "_model_module_version": "1.5.0",
      "_model_name": "HTMLModel",
      "_view_count": null,
      "_view_module": "@jupyter-widgets/controls",
      "_view_module_version": "1.5.0",
      "_view_name": "HTMLView",
      "description": "",
      "description_tooltip": null,
      "layout": "IPY_MODEL_2201913fa1974c409a6a8ddeef2659a7",
      "placeholder": "​",
      "style": "IPY_MODEL_e808a81b3f704aba9761be89f5ac8811",
      "value": "Dl Completed...: 100%"
     }
    },
    "ed1fc5bcde88433e8771652e74c981ea": {
     "model_module": "@jupyter-widgets/base",
     "model_module_version": "1.2.0",
     "model_name": "LayoutModel",
     "state": {
      "_model_module": "@jupyter-widgets/base",
      "_model_module_version": "1.2.0",
      "_model_name": "LayoutModel",
      "_view_count": null,
      "_view_module": "@jupyter-widgets/base",
      "_view_module_version": "1.2.0",
      "_view_name": "LayoutView",
      "align_content": null,
      "align_items": null,
      "align_self": null,
      "border": null,
      "bottom": null,
      "display": null,
      "flex": null,
      "flex_flow": null,
      "grid_area": null,
      "grid_auto_columns": null,
      "grid_auto_flow": null,
      "grid_auto_rows": null,
      "grid_column": null,
      "grid_gap": null,
      "grid_row": null,
      "grid_template_areas": null,
      "grid_template_columns": null,
      "grid_template_rows": null,
      "height": null,
      "justify_content": null,
      "justify_items": null,
      "left": null,
      "margin": null,
      "max_height": null,
      "max_width": null,
      "min_height": null,
      "min_width": null,
      "object_fit": null,
      "object_position": null,
      "order": null,
      "overflow": null,
      "overflow_x": null,
      "overflow_y": null,
      "padding": null,
      "right": null,
      "top": null,
      "visibility": null,
      "width": null
     }
    },
    "ee63092412784768ad6a6a63d76e2cfd": {
     "model_module": "@jupyter-widgets/controls",
     "model_module_version": "1.5.0",
     "model_name": "DescriptionStyleModel",
     "state": {
      "_model_module": "@jupyter-widgets/controls",
      "_model_module_version": "1.5.0",
      "_model_name": "DescriptionStyleModel",
      "_view_count": null,
      "_view_module": "@jupyter-widgets/base",
      "_view_module_version": "1.2.0",
      "_view_name": "StyleView",
      "description_width": ""
     }
    },
    "f2f52ce71acd46bca080283e9ed7e1ed": {
     "model_module": "@jupyter-widgets/controls",
     "model_module_version": "1.5.0",
     "model_name": "HBoxModel",
     "state": {
      "_dom_classes": [],
      "_model_module": "@jupyter-widgets/controls",
      "_model_module_version": "1.5.0",
      "_model_name": "HBoxModel",
      "_view_count": null,
      "_view_module": "@jupyter-widgets/controls",
      "_view_module_version": "1.5.0",
      "_view_name": "HBoxView",
      "box_style": "",
      "children": [
       "IPY_MODEL_5a279c43419d4a7484cfc6bd92d20210",
       "IPY_MODEL_0161cb60ef714e82b26c89c70d96f3e9",
       "IPY_MODEL_dffb6d8a2a694e7e87a3e2defd401cf2"
      ],
      "layout": "IPY_MODEL_de4f910617784294a4caea86f5746f95"
     }
    },
    "fbde5346386d428aa18e2b39ab8f6239": {
     "model_module": "@jupyter-widgets/controls",
     "model_module_version": "1.5.0",
     "model_name": "DescriptionStyleModel",
     "state": {
      "_model_module": "@jupyter-widgets/controls",
      "_model_module_version": "1.5.0",
      "_model_name": "DescriptionStyleModel",
      "_view_count": null,
      "_view_module": "@jupyter-widgets/base",
      "_view_module_version": "1.2.0",
      "_view_name": "StyleView",
      "description_width": ""
     }
    }
   }
  }
 },
 "nbformat": 4,
 "nbformat_minor": 1
}
