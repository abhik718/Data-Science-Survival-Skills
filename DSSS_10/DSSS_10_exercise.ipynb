{
  "nbformat": 4,
  "nbformat_minor": 0,
  "metadata": {
    "colab": {
      "provenance": []
    },
    "kernelspec": {
      "name": "python3",
      "display_name": "Python 3"
    },
    "language_info": {
      "name": "python"
    }
  },
  "cells": [
    {
      "cell_type": "code",
      "execution_count": null,
      "metadata": {
        "id": "g1RWA-Ug1Jt7"
      },
      "outputs": [],
      "source": [
        "from multiprocessing import Process, cpu_count, Queue\n",
        "import os\n",
        "import numpy as np\n",
        "import time\n",
        "\n",
        "class Worker(object):\n",
        "    def __init__(self, worker_id, g_queue):\n",
        "        self.g_queue = g_queue\n",
        "        self.worker_id = worker_id\n",
        "        self.queue = Queue() # local worker queue\n",
        "        self.work_process = Process(target=self.work, args=())\n",
        "        self.work_process.start()\n",
        "        info(worker_id, self.work_process, \"Worker\")\n",
        "\n",
        "    def work(self):\n",
        "\n",
        "        info(self.worker_id, self.work_process, \"work\")\n",
        "\n",
        "        while True:\n",
        "            data = np.random.randint(1,4)\n",
        "            self.queue.put(data)\n",
        "\n",
        "            # process data in queue\n",
        "            if self.queue.qsize() > 5:\n",
        "                data = self.queue.get()\n",
        "                result = data + 0.1\n",
        "                self.g_queue.put(result) # send result to global queue\n",
        "\n",
        "            time.sleep(1) # work every x sec interval\n",
        "\n",
        "        return self.w_id\n",
        "\n",
        "\n",
        "class Chief(object):\n",
        "    def __init__(self, num_workers):\n",
        "        self.g_queue = Queue() # global queue\n",
        "        self.num_workers = num_workers\n",
        "\n",
        "    def dispatch_workers(self):\n",
        "        worker_processes = [Process(target=Worker(w_id, self.g_queue), args=()) for w_id in range(num_workers)]\n",
        "        return worker_processes\n",
        "\n",
        "    def result(self):\n",
        "        if self.g_queue.qsize() > 3:\n",
        "            result = self.g_queue.get()\n",
        "            print(\"result\", result)\n",
        "\n",
        "\n",
        "def info(worker_id, process, function_name):\n",
        "    print(\"worker_id=\", worker_id,\n",
        "          'module name:', __name__,\n",
        "          'function name:', function_name,\n",
        "          'parent process:', os.getppid(),\n",
        "          'current process id:', os.getpid(),\n",
        "          'spawn process id:', process.pid)\n",
        "\n",
        "\n",
        "if __name__ == '__main__':\n",
        "    print('main parent process id:', os.getppid())\n",
        "    print('main process id:', os.getpid())\n",
        "\n",
        "    num_workers = 2\n",
        "    chief = Chief(num_workers)\n",
        "    workers_processes = chief.dispatch_workers()\n",
        "\n",
        "    i = 0\n",
        "    while True:\n",
        "        time.sleep(2) # check g_queue every x sec interval to get result\n",
        "        chief.result()\n",
        "        print(\"i =\", i)\n",
        "\n",
        "        if i > 5:\n",
        "            break\n",
        "        i+=1\n",
        "\n",
        "\n",
        "###\n",
        "# Source: https://chuacheowhuan.github.io/py_mpp/"
      ]
    },
    {
      "cell_type": "markdown",
      "source": [
        "# New Section"
      ],
      "metadata": {
        "id": "uADWpkok1ng6"
      }
    },
    {
      "cell_type": "code",
      "source": [
        "from google.colab import drive\n",
        "drive.mount('/content/drive')"
      ],
      "metadata": {
        "colab": {
          "base_uri": "https://localhost:8080/"
        },
        "id": "5WXPd67k1tNt",
        "outputId": "fc91f58f-9deb-419a-e4f7-a31d5f4ce265"
      },
      "execution_count": null,
      "outputs": [
        {
          "output_type": "stream",
          "name": "stdout",
          "text": [
            "Mounted at /content/drive\n"
          ]
        }
      ]
    }
  ]
}